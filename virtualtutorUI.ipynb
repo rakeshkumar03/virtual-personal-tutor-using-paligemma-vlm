{
 "cells": [
  {
   "cell_type": "code",
   "execution_count": null,
   "metadata": {
    "colab": {
     "base_uri": "https://localhost:8080/"
    },
    "collapsed": true,
    "id": "F3_bmfFh2oXZ",
    "outputId": "e6889053-999d-45d7-9419-d0f874164eca"
   },
   "outputs": [
    {
     "name": "stdout",
     "output_type": "stream",
     "text": [
      "Reading package lists... Done\n",
      "Building dependency tree... Done\n",
      "Reading state information... Done\n",
      "tesseract-ocr is already the newest version (4.1.1-2.1build1).\n",
      "0 upgraded, 0 newly installed, 0 to remove and 34 not upgraded.\n"
     ]
    }
   ],
   "source": [
    "!apt-get install tesseract-ocr"
   ]
  },
  {
   "cell_type": "code",
   "execution_count": null,
   "metadata": {
    "colab": {
     "base_uri": "https://localhost:8080/"
    },
    "collapsed": true,
    "id": "bF-OmzVLyVrJ",
    "outputId": "35227186-eebd-4a1a-e8e1-c716d76345c4"
   },
   "outputs": [
    {
     "name": "stdout",
     "output_type": "stream",
     "text": [
      "Collecting gradio\n",
      "  Downloading gradio-5.29.0-py3-none-any.whl.metadata (16 kB)\n",
      "Requirement already satisfied: diffusers in /usr/local/lib/python3.11/dist-packages (0.33.1)\n",
      "Requirement already satisfied: moviepy in /usr/local/lib/python3.11/dist-packages (1.0.3)\n",
      "Collecting pytesseract\n",
      "  Downloading pytesseract-0.3.13-py3-none-any.whl.metadata (11 kB)\n",
      "Collecting aiofiles<25.0,>=22.0 (from gradio)\n",
      "  Downloading aiofiles-24.1.0-py3-none-any.whl.metadata (10 kB)\n",
      "Requirement already satisfied: anyio<5.0,>=3.0 in /usr/local/lib/python3.11/dist-packages (from gradio) (4.9.0)\n",
      "Collecting fastapi<1.0,>=0.115.2 (from gradio)\n",
      "  Downloading fastapi-0.115.12-py3-none-any.whl.metadata (27 kB)\n",
      "Collecting ffmpy (from gradio)\n",
      "  Downloading ffmpy-0.5.0-py3-none-any.whl.metadata (3.0 kB)\n",
      "Collecting gradio-client==1.10.0 (from gradio)\n",
      "  Downloading gradio_client-1.10.0-py3-none-any.whl.metadata (7.1 kB)\n",
      "Collecting groovy~=0.1 (from gradio)\n",
      "  Downloading groovy-0.1.2-py3-none-any.whl.metadata (6.1 kB)\n",
      "Requirement already satisfied: httpx>=0.24.1 in /usr/local/lib/python3.11/dist-packages (from gradio) (0.28.1)\n",
      "Requirement already satisfied: huggingface-hub>=0.28.1 in /usr/local/lib/python3.11/dist-packages (from gradio) (0.31.1)\n",
      "Requirement already satisfied: jinja2<4.0 in /usr/local/lib/python3.11/dist-packages (from gradio) (3.1.6)\n",
      "Requirement already satisfied: markupsafe<4.0,>=2.0 in /usr/local/lib/python3.11/dist-packages (from gradio) (3.0.2)\n",
      "Requirement already satisfied: numpy<3.0,>=1.0 in /usr/local/lib/python3.11/dist-packages (from gradio) (2.0.2)\n",
      "Requirement already satisfied: orjson~=3.0 in /usr/local/lib/python3.11/dist-packages (from gradio) (3.10.18)\n",
      "Requirement already satisfied: packaging in /usr/local/lib/python3.11/dist-packages (from gradio) (24.2)\n",
      "Requirement already satisfied: pandas<3.0,>=1.0 in /usr/local/lib/python3.11/dist-packages (from gradio) (2.2.2)\n",
      "Requirement already satisfied: pillow<12.0,>=8.0 in /usr/local/lib/python3.11/dist-packages (from gradio) (11.2.1)\n",
      "Requirement already satisfied: pydantic<2.12,>=2.0 in /usr/local/lib/python3.11/dist-packages (from gradio) (2.11.4)\n",
      "Collecting pydub (from gradio)\n",
      "  Downloading pydub-0.25.1-py2.py3-none-any.whl.metadata (1.4 kB)\n",
      "Collecting python-multipart>=0.0.18 (from gradio)\n",
      "  Downloading python_multipart-0.0.20-py3-none-any.whl.metadata (1.8 kB)\n",
      "Requirement already satisfied: pyyaml<7.0,>=5.0 in /usr/local/lib/python3.11/dist-packages (from gradio) (6.0.2)\n",
      "Collecting ruff>=0.9.3 (from gradio)\n",
      "  Downloading ruff-0.11.9-py3-none-manylinux_2_17_x86_64.manylinux2014_x86_64.whl.metadata (25 kB)\n",
      "Collecting safehttpx<0.2.0,>=0.1.6 (from gradio)\n",
      "  Downloading safehttpx-0.1.6-py3-none-any.whl.metadata (4.2 kB)\n",
      "Collecting semantic-version~=2.0 (from gradio)\n",
      "  Downloading semantic_version-2.10.0-py2.py3-none-any.whl.metadata (9.7 kB)\n",
      "Collecting starlette<1.0,>=0.40.0 (from gradio)\n",
      "  Downloading starlette-0.46.2-py3-none-any.whl.metadata (6.2 kB)\n",
      "Collecting tomlkit<0.14.0,>=0.12.0 (from gradio)\n",
      "  Downloading tomlkit-0.13.2-py3-none-any.whl.metadata (2.7 kB)\n",
      "Requirement already satisfied: typer<1.0,>=0.12 in /usr/local/lib/python3.11/dist-packages (from gradio) (0.15.3)\n",
      "Requirement already satisfied: typing-extensions~=4.0 in /usr/local/lib/python3.11/dist-packages (from gradio) (4.13.2)\n",
      "Collecting uvicorn>=0.14.0 (from gradio)\n",
      "  Downloading uvicorn-0.34.2-py3-none-any.whl.metadata (6.5 kB)\n",
      "Requirement already satisfied: fsspec in /usr/local/lib/python3.11/dist-packages (from gradio-client==1.10.0->gradio) (2025.3.2)\n",
      "Requirement already satisfied: websockets<16.0,>=10.0 in /usr/local/lib/python3.11/dist-packages (from gradio-client==1.10.0->gradio) (15.0.1)\n",
      "Requirement already satisfied: importlib-metadata in /usr/local/lib/python3.11/dist-packages (from diffusers) (8.7.0)\n",
      "Requirement already satisfied: filelock in /usr/local/lib/python3.11/dist-packages (from diffusers) (3.18.0)\n",
      "Requirement already satisfied: regex!=2019.12.17 in /usr/local/lib/python3.11/dist-packages (from diffusers) (2024.11.6)\n",
      "Requirement already satisfied: requests in /usr/local/lib/python3.11/dist-packages (from diffusers) (2.32.3)\n",
      "Requirement already satisfied: safetensors>=0.3.1 in /usr/local/lib/python3.11/dist-packages (from diffusers) (0.5.3)\n",
      "Requirement already satisfied: decorator<5.0,>=4.0.2 in /usr/local/lib/python3.11/dist-packages (from moviepy) (4.4.2)\n",
      "Requirement already satisfied: tqdm<5.0,>=4.11.2 in /usr/local/lib/python3.11/dist-packages (from moviepy) (4.67.1)\n",
      "Requirement already satisfied: proglog<=1.0.0 in /usr/local/lib/python3.11/dist-packages (from moviepy) (0.1.11)\n",
      "Requirement already satisfied: imageio<3.0,>=2.5 in /usr/local/lib/python3.11/dist-packages (from moviepy) (2.37.0)\n",
      "Requirement already satisfied: imageio-ffmpeg>=0.2.0 in /usr/local/lib/python3.11/dist-packages (from moviepy) (0.6.0)\n",
      "Requirement already satisfied: idna>=2.8 in /usr/local/lib/python3.11/dist-packages (from anyio<5.0,>=3.0->gradio) (3.10)\n",
      "Requirement already satisfied: sniffio>=1.1 in /usr/local/lib/python3.11/dist-packages (from anyio<5.0,>=3.0->gradio) (1.3.1)\n",
      "Requirement already satisfied: certifi in /usr/local/lib/python3.11/dist-packages (from httpx>=0.24.1->gradio) (2025.4.26)\n",
      "Requirement already satisfied: httpcore==1.* in /usr/local/lib/python3.11/dist-packages (from httpx>=0.24.1->gradio) (1.0.9)\n",
      "Requirement already satisfied: h11>=0.16 in /usr/local/lib/python3.11/dist-packages (from httpcore==1.*->httpx>=0.24.1->gradio) (0.16.0)\n",
      "Requirement already satisfied: hf-xet<2.0.0,>=1.1.0 in /usr/local/lib/python3.11/dist-packages (from huggingface-hub>=0.28.1->gradio) (1.1.0)\n",
      "Requirement already satisfied: python-dateutil>=2.8.2 in /usr/local/lib/python3.11/dist-packages (from pandas<3.0,>=1.0->gradio) (2.9.0.post0)\n",
      "Requirement already satisfied: pytz>=2020.1 in /usr/local/lib/python3.11/dist-packages (from pandas<3.0,>=1.0->gradio) (2025.2)\n",
      "Requirement already satisfied: tzdata>=2022.7 in /usr/local/lib/python3.11/dist-packages (from pandas<3.0,>=1.0->gradio) (2025.2)\n",
      "Requirement already satisfied: annotated-types>=0.6.0 in /usr/local/lib/python3.11/dist-packages (from pydantic<2.12,>=2.0->gradio) (0.7.0)\n",
      "Requirement already satisfied: pydantic-core==2.33.2 in /usr/local/lib/python3.11/dist-packages (from pydantic<2.12,>=2.0->gradio) (2.33.2)\n",
      "Requirement already satisfied: typing-inspection>=0.4.0 in /usr/local/lib/python3.11/dist-packages (from pydantic<2.12,>=2.0->gradio) (0.4.0)\n",
      "Requirement already satisfied: charset-normalizer<4,>=2 in /usr/local/lib/python3.11/dist-packages (from requests->diffusers) (3.4.2)\n",
      "Requirement already satisfied: urllib3<3,>=1.21.1 in /usr/local/lib/python3.11/dist-packages (from requests->diffusers) (2.4.0)\n",
      "Requirement already satisfied: click>=8.0.0 in /usr/local/lib/python3.11/dist-packages (from typer<1.0,>=0.12->gradio) (8.1.8)\n",
      "Requirement already satisfied: shellingham>=1.3.0 in /usr/local/lib/python3.11/dist-packages (from typer<1.0,>=0.12->gradio) (1.5.4)\n",
      "Requirement already satisfied: rich>=10.11.0 in /usr/local/lib/python3.11/dist-packages (from typer<1.0,>=0.12->gradio) (13.9.4)\n",
      "Requirement already satisfied: zipp>=3.20 in /usr/local/lib/python3.11/dist-packages (from importlib-metadata->diffusers) (3.21.0)\n",
      "Requirement already satisfied: six>=1.5 in /usr/local/lib/python3.11/dist-packages (from python-dateutil>=2.8.2->pandas<3.0,>=1.0->gradio) (1.17.0)\n",
      "Requirement already satisfied: markdown-it-py>=2.2.0 in /usr/local/lib/python3.11/dist-packages (from rich>=10.11.0->typer<1.0,>=0.12->gradio) (3.0.0)\n",
      "Requirement already satisfied: pygments<3.0.0,>=2.13.0 in /usr/local/lib/python3.11/dist-packages (from rich>=10.11.0->typer<1.0,>=0.12->gradio) (2.19.1)\n",
      "Requirement already satisfied: mdurl~=0.1 in /usr/local/lib/python3.11/dist-packages (from markdown-it-py>=2.2.0->rich>=10.11.0->typer<1.0,>=0.12->gradio) (0.1.2)\n",
      "Downloading gradio-5.29.0-py3-none-any.whl (54.1 MB)\n",
      "\u001b[2K   \u001b[90m━━━━━━━━━━━━━━━━━━━━━━━━━━━━━━━━━━━━━━━━\u001b[0m \u001b[32m54.1/54.1 MB\u001b[0m \u001b[31m38.9 MB/s\u001b[0m eta \u001b[36m0:00:00\u001b[0m\n",
      "\u001b[?25hDownloading gradio_client-1.10.0-py3-none-any.whl (322 kB)\n",
      "\u001b[2K   \u001b[90m━━━━━━━━━━━━━━━━━━━━━━━━━━━━━━━━━━━━━━━━\u001b[0m \u001b[32m322.9/322.9 kB\u001b[0m \u001b[31m20.9 MB/s\u001b[0m eta \u001b[36m0:00:00\u001b[0m\n",
      "\u001b[?25hDownloading pytesseract-0.3.13-py3-none-any.whl (14 kB)\n",
      "Downloading aiofiles-24.1.0-py3-none-any.whl (15 kB)\n",
      "Downloading fastapi-0.115.12-py3-none-any.whl (95 kB)\n",
      "\u001b[2K   \u001b[90m━━━━━━━━━━━━━━━━━━━━━━━━━━━━━━━━━━━━━━━━\u001b[0m \u001b[32m95.2/95.2 kB\u001b[0m \u001b[31m8.1 MB/s\u001b[0m eta \u001b[36m0:00:00\u001b[0m\n",
      "\u001b[?25hDownloading groovy-0.1.2-py3-none-any.whl (14 kB)\n",
      "Downloading python_multipart-0.0.20-py3-none-any.whl (24 kB)\n",
      "Downloading ruff-0.11.9-py3-none-manylinux_2_17_x86_64.manylinux2014_x86_64.whl (11.5 MB)\n",
      "\u001b[2K   \u001b[90m━━━━━━━━━━━━━━━━━━━━━━━━━━━━━━━━━━━━━━━━\u001b[0m \u001b[32m11.5/11.5 MB\u001b[0m \u001b[31m121.6 MB/s\u001b[0m eta \u001b[36m0:00:00\u001b[0m\n",
      "\u001b[?25hDownloading safehttpx-0.1.6-py3-none-any.whl (8.7 kB)\n",
      "Downloading semantic_version-2.10.0-py2.py3-none-any.whl (15 kB)\n",
      "Downloading starlette-0.46.2-py3-none-any.whl (72 kB)\n",
      "\u001b[2K   \u001b[90m━━━━━━━━━━━━━━━━━━━━━━━━━━━━━━━━━━━━━━━━\u001b[0m \u001b[32m72.0/72.0 kB\u001b[0m \u001b[31m6.7 MB/s\u001b[0m eta \u001b[36m0:00:00\u001b[0m\n",
      "\u001b[?25hDownloading tomlkit-0.13.2-py3-none-any.whl (37 kB)\n",
      "Downloading uvicorn-0.34.2-py3-none-any.whl (62 kB)\n",
      "\u001b[2K   \u001b[90m━━━━━━━━━━━━━━━━━━━━━━━━━━━━━━━━━━━━━━━━\u001b[0m \u001b[32m62.5/62.5 kB\u001b[0m \u001b[31m5.4 MB/s\u001b[0m eta \u001b[36m0:00:00\u001b[0m\n",
      "\u001b[?25hDownloading ffmpy-0.5.0-py3-none-any.whl (6.0 kB)\n",
      "Downloading pydub-0.25.1-py2.py3-none-any.whl (32 kB)\n",
      "Installing collected packages: pydub, uvicorn, tomlkit, semantic-version, ruff, python-multipart, pytesseract, groovy, ffmpy, aiofiles, starlette, safehttpx, gradio-client, fastapi, gradio\n",
      "Successfully installed aiofiles-24.1.0 fastapi-0.115.12 ffmpy-0.5.0 gradio-5.29.0 gradio-client-1.10.0 groovy-0.1.2 pydub-0.25.1 pytesseract-0.3.13 python-multipart-0.0.20 ruff-0.11.9 safehttpx-0.1.6 semantic-version-2.10.0 starlette-0.46.2 tomlkit-0.13.2 uvicorn-0.34.2\n"
     ]
    }
   ],
   "source": [
    "!pip install gradio diffusers moviepy pytesseract\n"
   ]
  },
  {
   "cell_type": "code",
   "execution_count": null,
   "metadata": {
    "colab": {
     "base_uri": "https://localhost:8080/"
    },
    "id": "pToJY0bxlu9i",
    "outputId": "e9b3ef7a-d242-46cc-aa89-9b178fc07da8"
   },
   "outputs": [
    {
     "name": "stdout",
     "output_type": "stream",
     "text": [
      "Requirement already satisfied: moviepy in /usr/local/lib/python3.11/dist-packages (2.1.2)\n",
      "Requirement already satisfied: decorator<6.0,>=4.0.2 in /usr/local/lib/python3.11/dist-packages (from moviepy) (4.4.2)\n",
      "Requirement already satisfied: imageio<3.0,>=2.5 in /usr/local/lib/python3.11/dist-packages (from moviepy) (2.37.0)\n",
      "Requirement already satisfied: imageio_ffmpeg>=0.2.0 in /usr/local/lib/python3.11/dist-packages (from moviepy) (0.6.0)\n",
      "Requirement already satisfied: numpy>=1.25.0 in /usr/local/lib/python3.11/dist-packages (from moviepy) (2.0.2)\n",
      "Requirement already satisfied: proglog<=1.0.0 in /usr/local/lib/python3.11/dist-packages (from moviepy) (0.1.10)\n",
      "Requirement already satisfied: python-dotenv>=0.10 in /usr/local/lib/python3.11/dist-packages (from moviepy) (1.1.0)\n",
      "Requirement already satisfied: pillow<11.0,>=9.2.0 in /usr/local/lib/python3.11/dist-packages (from moviepy) (10.4.0)\n",
      "Requirement already satisfied: tqdm in /usr/local/lib/python3.11/dist-packages (from proglog<=1.0.0->moviepy) (4.67.1)\n"
     ]
    }
   ],
   "source": [
    "!pip install moviepy\n"
   ]
  },
  {
   "cell_type": "code",
   "execution_count": null,
   "metadata": {
    "colab": {
     "base_uri": "https://localhost:8080/"
    },
    "id": "T74WZXxSJhMB",
    "outputId": "ed2521b6-9dc1-48ec-f57b-1f4812fd1993"
   },
   "outputs": [
    {
     "name": "stdout",
     "output_type": "stream",
     "text": [
      "Mounted at /content/drive\n"
     ]
    }
   ],
   "source": [
    "# Reset permissions in Colab\n",
    "from google.colab import drive\n",
    "drive.mount('/content/drive', force_remount=True)"
   ]
  },
  {
   "cell_type": "code",
   "execution_count": null,
   "metadata": {
    "colab": {
     "base_uri": "https://localhost:8080/"
    },
    "id": "QbSFbC_JKOZ3",
    "outputId": "f2d41468-dbba-4f7a-8e2e-3678aa63617f"
   },
   "outputs": [
    {
     "name": "stdout",
     "output_type": "stream",
     "text": [
      "\n",
      "    _|    _|  _|    _|    _|_|_|    _|_|_|  _|_|_|  _|      _|    _|_|_|      _|_|_|_|    _|_|      _|_|_|  _|_|_|_|\n",
      "    _|    _|  _|    _|  _|        _|          _|    _|_|    _|  _|            _|        _|    _|  _|        _|\n",
      "    _|_|_|_|  _|    _|  _|  _|_|  _|  _|_|    _|    _|  _|  _|  _|  _|_|      _|_|_|    _|_|_|_|  _|        _|_|_|\n",
      "    _|    _|  _|    _|  _|    _|  _|    _|    _|    _|    _|_|  _|    _|      _|        _|    _|  _|        _|\n",
      "    _|    _|    _|_|      _|_|_|    _|_|_|  _|_|_|  _|      _|    _|_|_|      _|        _|    _|    _|_|_|  _|_|_|_|\n",
      "\n",
      "    To log in, `huggingface_hub` requires a token generated from https://huggingface.co/settings/tokens .\n",
      "Enter your token (input will not be visible): \n",
      "Add token as git credential? (Y/n) n\n",
      "Token is valid (permission: fineGrained).\n",
      "The token `personal` has been saved to /root/.cache/huggingface/stored_tokens\n",
      "Your token has been saved to /root/.cache/huggingface/token\n",
      "Login successful.\n",
      "The current active token is: `personal`\n"
     ]
    }
   ],
   "source": [
    "!huggingface-cli login"
   ]
  },
  {
   "cell_type": "code",
   "execution_count": null,
   "metadata": {
    "colab": {
     "base_uri": "https://localhost:8080/",
     "height": 146
    },
    "id": "fWmM8LVsKy01",
    "outputId": "2232ef8a-5c0c-4f96-a9b1-d925bdd676ff"
   },
   "outputs": [
    {
     "ename": "NameError",
     "evalue": "name 'torch' is not defined",
     "output_type": "error",
     "traceback": [
      "\u001b[0;31m---------------------------------------------------------------------------\u001b[0m",
      "\u001b[0;31mNameError\u001b[0m                                 Traceback (most recent call last)",
      "\u001b[0;32m<ipython-input-4-18bf08814031>\u001b[0m in \u001b[0;36m<cell line: 0>\u001b[0;34m()\u001b[0m\n\u001b[0;32m----> 1\u001b[0;31m \u001b[0mtorch\u001b[0m\u001b[0;34m.\u001b[0m\u001b[0mcuda\u001b[0m\u001b[0;34m.\u001b[0m\u001b[0mempty_cache\u001b[0m\u001b[0;34m(\u001b[0m\u001b[0;34m)\u001b[0m\u001b[0;34m\u001b[0m\u001b[0;34m\u001b[0m\u001b[0m\n\u001b[0m",
      "\u001b[0;31mNameError\u001b[0m: name 'torch' is not defined"
     ]
    }
   ],
   "source": [
    "torch.cuda.empty_cache()"
   ]
  },
  {
   "cell_type": "code",
   "execution_count": null,
   "metadata": {
    "collapsed": true,
    "id": "fUPcIxdEOtCl"
   },
   "outputs": [],
   "source": []
  },
  {
   "cell_type": "code",
   "execution_count": null,
   "metadata": {
    "colab": {
     "base_uri": "https://localhost:8080/",
     "height": 1000,
     "referenced_widgets": [
      "bc883371fcd04cc2975f9a89ff856c80",
      "c82f9100cef3425983fea1c4e332a9b9",
      "71dc351616014c57ad12c730afedb620",
      "6735d2f7462148c09fe65dd15215fd04",
      "d5784e577af34b6683e5d2080ec6329e",
      "3d74360f32cb46ec8f4ed9c5b430c6f5",
      "7e0166e518f641b8aa158d9afbd31c97",
      "7247bfcae8464ba9bdd1e8b4d79c101b",
      "48bf77c1ccb54fad8388b57a0750820d",
      "f82380beecd847cdb48e6aac19e70028",
      "ffec70cd693146558f72a0f2fcac686a",
      "0a10f67967364fbabe6f960a56c4e8a9",
      "792b0edf81c14d85af285a927153ef81",
      "4ef04fcf8f6e43adb9b2fd689664c744",
      "17741aea36ea45928d8ed5d448860108",
      "7d68392a6a284774acbfe0210666d784",
      "8defb16ebb9740e093263a6b81f639cb",
      "4d98f471fa954bceaa7172c6cd35fafd",
      "485d11391d3d41f58e2f9631f042345a",
      "261700befcb14f9a96dc59acf3aeb243",
      "82218a4f054341c5aa3b10c6a15b8a52",
      "ae4e93a75f654731903e0c325d5329d2",
      "80e3bc4de40443f6ae003c2cf07cddbf",
      "83f6b56db0c042abb4e0dac3ba95c256",
      "18f1ccf5f8494b31b18f74b131704de1",
      "e552403cfcc94f41b3a91607e0957038",
      "e1cffc3d172f4cd78c1831d8141e96a7",
      "da90e0d57b3c4b59973a75ed1b2709b5",
      "c379a74660d645719f94b5a70466d8d0",
      "a8dff2e5eb0d4859a4a9289689edbb3f",
      "062e9b5850334eeab3d2f06e0e82bd4b",
      "d59eefca064a4c828b154f0112adc2b3",
      "9fefc2b0fa2946e8a51c5abc86274962",
      "429f0d84fb354cce83d8687a1cbb0d7b",
      "2701aaab26554eba9d5d95aed3dd043b",
      "d7b90a5ac5174b4994d875e904ace390",
      "eb0289d62f9b45fc9aab122b16574423",
      "d59a59a614de4557b37e11dcd812abd5",
      "f155f3a5bad942e28eba41485c54628f",
      "d83f2f741ff442d0a4f113552b2a4afc",
      "93f435d154254411b30081f3f86744f3",
      "d958c018efd24391a231812868254795",
      "98422a18b9114f3ea14f2cc42ea9ef8c",
      "d30e87dc85d4483da9bdcb834a458398",
      "83d9410ff737466fbc628ae76baaa35d",
      "583d49df7c524a739eb70495c2bda90f",
      "68dc79251e3b4c0687393d914af58cf6",
      "0e5db0353f404b888b49bdfcf35098c0",
      "7356b8bc3b454f30803db729b666781d",
      "65156ef3c1fd4a389e6ea46a2bb9b9e8",
      "c1f0dbe503a545cc8ee8ac69e6bf7a59",
      "a72f025150264f0090057740519c38ad",
      "da56c21d6cef4205a526940b53a1644a",
      "eb82e316dd7e45aa93fd651e7e1154ea",
      "7848b1ace9254b1982137989ffa4a515",
      "dcf8610e7c3a49afa9e6b1b4bf31138a",
      "126994bbf55f4f36ad1fa5a2eb3942c9",
      "3bcd2ae0ede6429b8d34cb2b5afce4a5",
      "c8c2852e58714fec94230908c5379774",
      "f3f2800d03294ac9b5848c618d8ae63f",
      "8d8cba62eeb142babf0751931cb19088",
      "313d3b075e34437780be76b559edd758",
      "5e4ea3dc49d04371acccd18069491e8d",
      "05ae86ad746246ae89ce87f07be1f644",
      "0709a5e724764232bcdb842434f7178e",
      "0b07ca0f2eb940be82bcbdc50f3be0ff",
      "7e917bb3f61a497d89f2bda348fad277",
      "55a9ec494a77410694f6249e616c433d",
      "58a396da86ee4264a81a1d663a259a73",
      "52f37c3f100a4e2bbe63c23e56a89640",
      "eed72a2a2ac141cbb3b23bef2e39e493",
      "1b792afd233643f19b8af2a244833dc0",
      "5adead8f6f3a47cda1bb6b02c471aba0",
      "dea3463ce57b49499d790959ad75a85c",
      "2fd05cde7c0a4d1db5634b88ce1edc7c",
      "31d7011a8b1948e89de6e2f04cd7491b",
      "e1c216492ce047d6a22d3f85cfa349b4",
      "857aad7d9c7545709163bb3af588f7c2",
      "cf848509135f459eadda4648ac47716c",
      "9487cb25327f47f7a637eba9573e63c7",
      "267067b7ceb945cc9bb077273bc40b7f",
      "a1836bb53495437e9dc65f7d60947978",
      "9b2ecad02ecf4b61a6d5e986d9456bb3",
      "39c538c7535c4343a57f4e983dd79273",
      "c7495c287846481aac3ace5d95ac82b9",
      "385cfe7e20c0459cb12072e5729a6800",
      "736046ad3f2049aa86f0aeb56c522512",
      "d2525b703bc74a1d8f69e2f832c9cd20",
      "90b5c1e17bf24986959a04ea5feb0afd",
      "ea8445d287bf4ca98fc82246f5d35b44",
      "cbd5bb8e52144b05bad8c775ab28e8de",
      "d1cf2eb848ba4e30a591f2196936a32a",
      "cdd19da4337548c3ba3158b931bca55a",
      "41cbbdfdd5c146b0bd4ff1400e5bec8d",
      "5b67fef60a65405c91bbba21da43af6c",
      "ec0527f451534c349975d758e1f3c14c",
      "d5340690c4544236bf837316f5e9ae4a",
      "a2c3b1b704ea42868e27ce712caedfde",
      "238e47f1c8434aa988c6e119e7817b2b",
      "d8187a5a02bf446ab83799b5fcf2f37f",
      "707b3dd734b34e34b648a3d865048b1f",
      "16c14a9b65234e79bc8913b9f355c5df",
      "3ad7416d158d4a7da414536f30f09fce",
      "e3d6b80852f9415a8727e120c0b5cd84",
      "b6068a7451624b36a59b23bfc1595c28",
      "a16d37c84e4440b4a603cf875eaca892",
      "e73da27a081e4edbb93f5360251950b6",
      "09103fac54024edbbbf732acf1a3a45c",
      "26afa5bc1c99418595d852e3cb1c0d9d",
      "bac070827c8e4a9ab7de4589c579bdd8",
      "567c7091dd1f4adab437c54699389bd6",
      "22319068f7ef46a2a44e83dc12c6e903",
      "8d02743cc83f4d62b737a595ba3a8e93",
      "6b70738d3d4a4b5e9b796e51efadf4c5",
      "3b82d38c2ff8451f9d808a0364174593",
      "e7e9dddf6e7944e28b63f62423e1bc06",
      "0f2964804445470b83294adda4a6b0ee",
      "0b38cec85a4c446dae0da2e47d1a5530",
      "0e1028b2f8cc44469c74c71601de1432",
      "dcd49ba8ac7f4314ab6a4249850932d1",
      "7a8035dc08cf4475a7c4a26bebd324f7",
      "ad3da5f5977a4fb485eb7a8081fb26c4",
      "e0710ede16344248aa820844b56411fe",
      "e1f00e99b7634b0f9f050030a4a82b49",
      "e95bb16e33c648369adf0bdf9da6df3b",
      "830326d308804d439278855202aed3b6",
      "b3c49b132890433280bb85d81deba4d4",
      "3faf3262287e4eb49fb45dbea5b9619f",
      "2129db30e1e84c92939be8f67f5dd584",
      "f10c39d8bf8d49d1805b3533ba6e25ef",
      "fab8b40607ee4a4286fc6a4aef7df9f6",
      "bdcae5124f724810b2daaeeeb3ae97bc",
      "09f04ca14e0f4fb397ba3f612c3653de",
      "dff2eb57da864e19923a0446f8de71e0",
      "53ffa93b201545669cc4c8712cb6b681",
      "b38bf43bc2ea440b8b5b5e58b576648e",
      "fb388b0db82c425fa8a54f2dbe32e9d6",
      "dbfc95b4578c4aa59a60816c74f3186f",
      "ed8879fb48264d5098e929f63e4b865d",
      "77404f833389492fa37833b3aaf5f2a7",
      "48642f28efec4d328d7d9204078851eb",
      "c5d5580e0df44ff3a61e5fdf72bcb9a8",
      "8803f197e05049d7a59418233af5ccc5",
      "6ba2d630359d4c268f84df78e92cb0dc",
      "f356a8f6fc874a379f289dd94eea73b7",
      "22856c150e9b4d30b1f0703d718346ff",
      "afaf7181f5bd4a19a2c4e978a2d55c65",
      "db96121705ad4118998111e97a3adc30",
      "305212bf83cf4d7f9dbf8ca612a357ae",
      "9c41e5191ee243c8b34fad509212903d",
      "69f7abb7523946979e829d6e305a81ca",
      "06a38fdb1b734fa89621cb67ee2e2680",
      "866aefde40af47878d23c5ebe312277e",
      "1d3800ecb9f8429aaa8c5f1f1a781915",
      "de8707cfe9b345839b67b67e63652d96",
      "ab4d52006de545f19714e48912c677ed",
      "e7d925aecb28446e9d6339433f296f37",
      "d0ed285ecc7443d0a5ae603711a1cddd",
      "911a426d7df7405c9f1c7de8b45aa8d8",
      "40cd57a1746a48d5a74794bbfd000c7b",
      "bc7bd5a91ebe4ed5ba91d64765357b8f",
      "f655181f8d864c1cb6e481a2dc8107ac",
      "a15ad9b9e4444d478869c8e92385867c",
      "35827c4b43ea475287dfb1ea7e00bd05",
      "d5d4a64adbe64bc3a6908fdd9483a60e",
      "e0be7cc11f964775bdd62f3192a6de64",
      "6ca51d90eb2d479f8deecaeee03d1019",
      "77f6309658ba4e998a31e8c5e599be9b",
      "66612893ce7c48909ae8c9e709fe9bb2",
      "87f07e27932b481886e1b5e55cdf196c",
      "911cdd6fabe141d2bec5e45abb6b380a",
      "72359535d39c4b3db37b9b58e80cec0c",
      "8c26d4aa858b4176ae179ff0dc37285c",
      "53586ab0ef614c3bba0b4c305d8dd321",
      "d0c6a835abbe4c0ba0eaad9b12528fd3",
      "161b0e2543ab4834b87c8af14c5d6a5d",
      "4136bd4c1dc5430b956fb197a98ae723",
      "e54857a86b024f1298aa4565010880e7",
      "5b359c8cc56f4030be07a89797cc75fc",
      "c0834d9bb722496b8c1e90c42b57d6f3",
      "b4fa33f9cc144e739b3b237297e22b5e",
      "99fc29b68cac4cf69b018e61a98a9115",
      "dab37fd5d1f94dbaab2d0484d419e698",
      "65a50855557e42a684dd1c211467e4dc",
      "c2ffd6ce297f49848c98a23ee126ecc8",
      "cc039a3c824446f199a59b106a0205dd",
      "18ef6b84103449a98f5b0af6bc461d8e",
      "cce6d61dfdef41259282b452409c70f8",
      "166bfb9bb94840d78b2e17094fe9c262",
      "b58065f994d54105bafdf5b60f2eefb6",
      "a71f9bf2920844a29e92a21fad91e965",
      "3453445bf93d45318ce2c2b39b63019b",
      "92afa189fd1445d490f74c5ba9012ac4",
      "dcd5e3c1c07345119c352ae6db29d43e",
      "bca1515d26b540b88ed1c42eadf7182e",
      "174de79782f24dde81b11908278558aa",
      "8300cc50051a467fb91ddee403d3976e",
      "fbb5c416164542538d1f26ee9172e67d",
      "54593b58d47b4a8987f81477835c01a8",
      "cba5d08e7b6841d29fc2ca871b0b1621",
      "28eaa52baf1e4d9c9ae680a571d8e906",
      "62890761807c432b944c3f4e3a006a46",
      "1c5ef334ea4e4236b1e2998ff51177d3",
      "d6fb3adef3ea4febb11541e28ded769d",
      "3cd62f2504d5474ebe9f0def6b8ace77",
      "acb96572bffa4b6cb958c0fac04ffd65",
      "03bbd1eaa14743b5a2ba4510b1d60e73",
      "9db7a47af6bb4251938a6d315327ec84",
      "c935d4a0043d4205944fc92cca096362",
      "d3d0f4218ab344fea34fc6e39ea83495",
      "c3313a804ac84d3e936cfc1cec699f61",
      "69ff4d30be994c178029d55b40f079e1",
      "ef7c9ba2e7974044a5d298a2dd3a06bc",
      "4f8d8593deae4561b793066263b9088c",
      "cca19c2ae06b441cabace90f2cd56db5",
      "4a505133430e4bce8a65790ad6acc91b",
      "8f05c1aed83b49c4bf6c5c8371c10559",
      "fbb04c16f265450dad3030a2e0001667",
      "9f0b8e1b3b9544a1ad4592c52b3cf7e5",
      "83555072b7dd4d76baab50bfc065d199",
      "bb0be7e8aaf74dc7ad7ec7e5d2cdf5d2",
      "46b9cd6c42a44528b85e50098d08d032",
      "94292802f65c4a3e87c56e333e1bc0e0",
      "56bb628caa6e4f0d9638192b6ebfdf6d",
      "1e1b8b9e54a040b2b6eeac04b894d37c",
      "4520c3b91a38486295171591e4cfb51b",
      "5612b128581a4ebe9f2d8dff7e428bcf",
      "4ed9f9851c7f4a29aebe1313a8b690a5",
      "8123d5bac37048a1ba49fbc53270045e",
      "46f236a865d1409d8b0e6e094ad9da96",
      "8b69826fb60740c3bbe90382723d542c",
      "9ee4e322d9744917ad8fe66ca643ef98",
      "9d49db9a33ef4642a838eabeafe47b47",
      "d1f8a0c648014ea4acad990ad8139eb8",
      "0039a3becd4346c8b1a8bd0ed4eb9b6b",
      "75a6be154a8d4081954d3ae4e2ae1d26",
      "2a0de8d047e24d64b0d573eb2db26466",
      "389bc545c3e2479198c4e6dc5021c528",
      "8a97e407f6b44448879dc9e1495c2613",
      "38100c26e5024bcbbacac8831b7acd1a",
      "95c18a3b3b0642f9b18240289f63db8f",
      "02da0ad28b914022b9e62fc08f059848",
      "47c5bd01390b4387bc5408517f145d58",
      "236d86f90ccf4e43b02b2bc5a74cc0a4",
      "22e5113fd42f43bb930705ed7f416133",
      "64d15a6654a74ff8ac7b53d77d670ffb",
      "52cc822425db48c99c07565097f07b8c",
      "4f19e29182e5448cb1f750aa338f585f",
      "377502c9b8a74d359177de26021363ba",
      "f70a98ad795148bea558d5506c7c0c04",
      "3e4097a43740439dad6e2d532ce4fd81",
      "529de73deda94456ab01a3722af89353",
      "4653dde863704c03954cf0bf38931132",
      "d3ff6e0997d94bc983fc661c287c5f2c",
      "32c8a0137d0e413f8c32ba60a8b26c07",
      "a0a33adb4f1a4955a4793b4dc504dba7",
      "1bb45b1b4e1c4ee38042e3bd613deda9",
      "ebaf77248aab4f008a7213b294570fed",
      "80e8a18d2be54e97a63c79d98914ca46",
      "f9934528e2bb4105a3848f734a1921cc",
      "7cfce82f2b46401487128c6f09fccb0c",
      "276a99216b17411baa590cc20a46e671",
      "26e4e59affdc4a7cbd576f971d862756",
      "11789c5316ee4fa484afc4122412fe89",
      "31f052662f0c4240a08fbf2cd2bcb633",
      "fd4a32edc9a246888c5ef074aba60d38",
      "a1c14e4bd36e43b6b2926f77194921e5",
      "7ccb490ab79e48d5a76f91cde349b1a1",
      "b70c9f4af734422895d5d0c7c02ac7d6",
      "a42c6c26827a445c96e1e9d2d50f82e2",
      "9d16291c13f94bf7bc5ae8208327a807",
      "67b7059a5c6f4423b350ee2e1d9a16c6",
      "24ca572f0ce54021a2eecee323a6eb1e",
      "da76b8eb1ee64028aa50e5c934eaaf4d",
      "37b8bd2c519d4f95ad0719a8959231e3",
      "bfbbc033f2a34131bacbcd245e559962",
      "80ea0d8be3fc4d4281c454069056c755",
      "651ac9f9100f425a8160788901e21359",
      "4f8e9aed244a4a6898f1877ae84756f7",
      "f35a3cec36a54479ab3a5691e14bd350",
      "c2411f094801469f811e543481f3401b",
      "a5dc0b5d08bc4b46afbc66bbf5230d9a",
      "6e8a7f79fd7248c5ab882b459ff9a597",
      "5dcfc037ecd341e88a09912c94a542e7",
      "153bd28318844d24af9eb0a1c75c2f74",
      "b7c9becd818640509f980320f905d7a6",
      "c7218aebe6e347b6bdb4d0c773f0f1e5",
      "48f43b729ce74e2fafbdbe17ad63fcaa",
      "9bcaa8ff8cf646e1a01ffe0b1e6ae50d",
      "8efdff0055b140629fe9aa8a4e779240",
      "c994f63176bc450c96fe2dc5c5d37693",
      "ad178b2f5d404a859b9f1c307f66b7ce",
      "e5248facce73454ebcd1d472b8454199",
      "06c810414f3f4f23b711106101571c71",
      "3695260336254f5eba7cec89ed6fc08f",
      "1f7133a344fa49d2a37e01549fdb59ac",
      "6282597dd5af40abb999aa8e2dd9bdde",
      "eaa56b79dbf3435493eaf15c6cc9af2c",
      "a2c8ef7f71584a40983766c436c10736",
      "2e7a8d5a95864247b1e9407b51f71b93",
      "f9024f07fc5b426086b59f26271d4e11",
      "a32391da5184468781937de90f26ffd5",
      "c5a95720357444f8bdb228540feeca9c",
      "285f2b52d62d4ac9a5b5db0f5c56b42d",
      "d0becf7d53e840b49d1030955c843175",
      "117e350c45c445548ab07daaed4e7398",
      "0707736fce0c48039511cadb213d9acc",
      "995a44d4570241d8a9c2d10adca3d9c7",
      "6f59b69412304f3990c6353e61911b1c",
      "1fd0a592e1354c41bd76b3f0f773edba",
      "b52a266d94f6443aa0deb00a6750611d",
      "dff0294ac4aa40979229ce70a576f07d",
      "d0b782a40f35495a963ed6fc1ea86d84",
      "8e49a6c02253405691eba1f6426cc036",
      "0af7a4ba4f84474c92807eee51ea7c19",
      "91b8b33dba9a40f5a79342076dd6d459",
      "c0934dad03824182b3de5be914f4cc99",
      "748083024d064ad99912939dddae1b61",
      "ff5a47dc5df9493d8a91ffdca1df04a3"
     ]
    },
    "id": "MPh_6ojGrcsw",
    "outputId": "8e46d3d8-0898-49f1-b905-6986d28a6272"
   },
   "outputs": [
    {
     "name": "stderr",
     "output_type": "stream",
     "text": [
      "WARNING:py.warnings:/usr/local/lib/python3.11/dist-packages/moviepy/video/io/sliders.py:61: SyntaxWarning: \"is\" with a literal. Did you mean \"==\"?\n",
      "  if event.key is 'enter':\n",
      "\n"
     ]
    },
    {
     "data": {
      "application/vnd.jupyter.widget-view+json": {
       "model_id": "bc883371fcd04cc2975f9a89ff856c80",
       "version_major": 2,
       "version_minor": 0
      },
      "text/plain": [
       "Loading checkpoint shards:   0%|          | 0/2 [00:00<?, ?it/s]"
      ]
     },
     "metadata": {},
     "output_type": "display_data"
    },
    {
     "name": "stderr",
     "output_type": "stream",
     "text": [
      "Using a slow image processor as `use_fast` is unset and a slow processor was saved with this model. `use_fast=True` will be the default behavior in v4.52, even if the model was saved with a slow processor. This will result in minor differences in outputs. You'll still be able to use a slow processor with `use_fast=False`.\n",
      "WARNING:py.warnings:/usr/local/lib/python3.11/dist-packages/huggingface_hub/utils/_auth.py:94: UserWarning: \n",
      "The secret `HF_TOKEN` does not exist in your Colab secrets.\n",
      "To authenticate with the Hugging Face Hub, create a token in your settings tab (https://huggingface.co/settings/tokens), set it as secret in your Google Colab and restart your session.\n",
      "You will be able to reuse this secret in all of your notebooks.\n",
      "Please note that authentication is recommended but still optional to access public models or datasets.\n",
      "  warnings.warn(\n",
      "\n"
     ]
    },
    {
     "data": {
      "application/vnd.jupyter.widget-view+json": {
       "model_id": "0a10f67967364fbabe6f960a56c4e8a9",
       "version_major": 2,
       "version_minor": 0
      },
      "text/plain": [
       "model_index.json:   0%|          | 0.00/706 [00:00<?, ?B/s]"
      ]
     },
     "metadata": {},
     "output_type": "display_data"
    },
    {
     "data": {
      "application/vnd.jupyter.widget-view+json": {
       "model_id": "80e3bc4de40443f6ae003c2cf07cddbf",
       "version_major": 2,
       "version_minor": 0
      },
      "text/plain": [
       "Fetching 28 files:   0%|          | 0/28 [00:00<?, ?it/s]"
      ]
     },
     "metadata": {},
     "output_type": "display_data"
    },
    {
     "data": {
      "application/vnd.jupyter.widget-view+json": {
       "model_id": "429f0d84fb354cce83d8687a1cbb0d7b",
       "version_major": 2,
       "version_minor": 0
      },
      "text/plain": [
       "config.json:   0%|          | 0.00/740 [00:00<?, ?B/s]"
      ]
     },
     "metadata": {},
     "output_type": "display_data"
    },
    {
     "data": {
      "application/vnd.jupyter.widget-view+json": {
       "model_id": "83d9410ff737466fbc628ae76baaa35d",
       "version_major": 2,
       "version_minor": 0
      },
      "text/plain": [
       "config.json:   0%|          | 0.00/574 [00:00<?, ?B/s]"
      ]
     },
     "metadata": {},
     "output_type": "display_data"
    },
    {
     "data": {
      "application/vnd.jupyter.widget-view+json": {
       "model_id": "dcf8610e7c3a49afa9e6b1b4bf31138a",
       "version_major": 2,
       "version_minor": 0
      },
      "text/plain": [
       "model-00001-of-00002.safetensors:   0%|          | 0.00/4.99G [00:00<?, ?B/s]"
      ]
     },
     "metadata": {},
     "output_type": "display_data"
    },
    {
     "data": {
      "application/vnd.jupyter.widget-view+json": {
       "model_id": "7e917bb3f61a497d89f2bda348fad277",
       "version_major": 2,
       "version_minor": 0
      },
      "text/plain": [
       "config.json:   0%|          | 0.00/570 [00:00<?, ?B/s]"
      ]
     },
     "metadata": {},
     "output_type": "display_data"
    },
    {
     "data": {
      "application/vnd.jupyter.widget-view+json": {
       "model_id": "857aad7d9c7545709163bb3af588f7c2",
       "version_major": 2,
       "version_minor": 0
      },
      "text/plain": [
       "model.safetensors:   0%|          | 0.00/1.39G [00:00<?, ?B/s]"
      ]
     },
     "metadata": {},
     "output_type": "display_data"
    },
    {
     "data": {
      "application/vnd.jupyter.widget-view+json": {
       "model_id": "90b5c1e17bf24986959a04ea5feb0afd",
       "version_major": 2,
       "version_minor": 0
      },
      "text/plain": [
       "model.safetensors:   0%|          | 0.00/247M [00:00<?, ?B/s]"
      ]
     },
     "metadata": {},
     "output_type": "display_data"
    },
    {
     "data": {
      "application/vnd.jupyter.widget-view+json": {
       "model_id": "d8187a5a02bf446ab83799b5fcf2f37f",
       "version_major": 2,
       "version_minor": 0
      },
      "text/plain": [
       "scheduler_config.json:   0%|          | 0.00/141 [00:00<?, ?B/s]"
      ]
     },
     "metadata": {},
     "output_type": "display_data"
    },
    {
     "data": {
      "application/vnd.jupyter.widget-view+json": {
       "model_id": "567c7091dd1f4adab437c54699389bd6",
       "version_major": 2,
       "version_minor": 0
      },
      "text/plain": [
       "model.safetensors.index.json:   0%|          | 0.00/19.9k [00:00<?, ?B/s]"
      ]
     },
     "metadata": {},
     "output_type": "display_data"
    },
    {
     "data": {
      "application/vnd.jupyter.widget-view+json": {
       "model_id": "ad3da5f5977a4fb485eb7a8081fb26c4",
       "version_major": 2,
       "version_minor": 0
      },
      "text/plain": [
       "merges.txt:   0%|          | 0.00/525k [00:00<?, ?B/s]"
      ]
     },
     "metadata": {},
     "output_type": "display_data"
    },
    {
     "data": {
      "application/vnd.jupyter.widget-view+json": {
       "model_id": "09f04ca14e0f4fb397ba3f612c3653de",
       "version_major": 2,
       "version_minor": 0
      },
      "text/plain": [
       "special_tokens_map.json:   0%|          | 0.00/588 [00:00<?, ?B/s]"
      ]
     },
     "metadata": {},
     "output_type": "display_data"
    },
    {
     "data": {
      "application/vnd.jupyter.widget-view+json": {
       "model_id": "6ba2d630359d4c268f84df78e92cb0dc",
       "version_major": 2,
       "version_minor": 0
      },
      "text/plain": [
       "model-00002-of-00002.safetensors:   0%|          | 0.00/4.53G [00:00<?, ?B/s]"
      ]
     },
     "metadata": {},
     "output_type": "display_data"
    },
    {
     "data": {
      "application/vnd.jupyter.widget-view+json": {
       "model_id": "de8707cfe9b345839b67b67e63652d96",
       "version_major": 2,
       "version_minor": 0
      },
      "text/plain": [
       "vocab.json:   0%|          | 0.00/1.06M [00:00<?, ?B/s]"
      ]
     },
     "metadata": {},
     "output_type": "display_data"
    },
    {
     "data": {
      "application/vnd.jupyter.widget-view+json": {
       "model_id": "e0be7cc11f964775bdd62f3192a6de64",
       "version_major": 2,
       "version_minor": 0
      },
      "text/plain": [
       "tokenizer_config.json:   0%|          | 0.00/705 [00:00<?, ?B/s]"
      ]
     },
     "metadata": {},
     "output_type": "display_data"
    },
    {
     "data": {
      "application/vnd.jupyter.widget-view+json": {
       "model_id": "4136bd4c1dc5430b956fb197a98ae723",
       "version_major": 2,
       "version_minor": 0
      },
      "text/plain": [
       "special_tokens_map.json:   0%|          | 0.00/576 [00:00<?, ?B/s]"
      ]
     },
     "metadata": {},
     "output_type": "display_data"
    },
    {
     "data": {
      "application/vnd.jupyter.widget-view+json": {
       "model_id": "cce6d61dfdef41259282b452409c70f8",
       "version_major": 2,
       "version_minor": 0
      },
      "text/plain": [
       "tokenizer_config.json:   0%|          | 0.00/856 [00:00<?, ?B/s]"
      ]
     },
     "metadata": {},
     "output_type": "display_data"
    },
    {
     "data": {
      "application/vnd.jupyter.widget-view+json": {
       "model_id": "54593b58d47b4a8987f81477835c01a8",
       "version_major": 2,
       "version_minor": 0
      },
      "text/plain": [
       "spiece.model:   0%|          | 0.00/792k [00:00<?, ?B/s]"
      ]
     },
     "metadata": {},
     "output_type": "display_data"
    },
    {
     "data": {
      "application/vnd.jupyter.widget-view+json": {
       "model_id": "d3d0f4218ab344fea34fc6e39ea83495",
       "version_major": 2,
       "version_minor": 0
      },
      "text/plain": [
       "special_tokens_map.json:   0%|          | 0.00/2.54k [00:00<?, ?B/s]"
      ]
     },
     "metadata": {},
     "output_type": "display_data"
    },
    {
     "data": {
      "application/vnd.jupyter.widget-view+json": {
       "model_id": "bb0be7e8aaf74dc7ad7ec7e5d2cdf5d2",
       "version_major": 2,
       "version_minor": 0
      },
      "text/plain": [
       "tokenizer_config.json:   0%|          | 0.00/20.6k [00:00<?, ?B/s]"
      ]
     },
     "metadata": {},
     "output_type": "display_data"
    },
    {
     "data": {
      "application/vnd.jupyter.widget-view+json": {
       "model_id": "9ee4e322d9744917ad8fe66ca643ef98",
       "version_major": 2,
       "version_minor": 0
      },
      "text/plain": [
       "config.json:   0%|          | 0.00/397 [00:00<?, ?B/s]"
      ]
     },
     "metadata": {},
     "output_type": "display_data"
    },
    {
     "data": {
      "application/vnd.jupyter.widget-view+json": {
       "model_id": "47c5bd01390b4387bc5408517f145d58",
       "version_major": 2,
       "version_minor": 0
      },
      "text/plain": [
       "tokenizer.json:   0%|          | 0.00/2.42M [00:00<?, ?B/s]"
      ]
     },
     "metadata": {},
     "output_type": "display_data"
    },
    {
     "data": {
      "application/vnd.jupyter.widget-view+json": {
       "model_id": "d3ff6e0997d94bc983fc661c287c5f2c",
       "version_major": 2,
       "version_minor": 0
      },
      "text/plain": [
       "(…)pytorch_model-00001-of-00002.safetensors:   0%|          | 0.00/9.99G [00:00<?, ?B/s]"
      ]
     },
     "metadata": {},
     "output_type": "display_data"
    },
    {
     "data": {
      "application/vnd.jupyter.widget-view+json": {
       "model_id": "31f052662f0c4240a08fbf2cd2bcb633",
       "version_major": 2,
       "version_minor": 0
      },
      "text/plain": [
       "(…)pytorch_model-00002-of-00002.safetensors:   0%|          | 0.00/6.31G [00:00<?, ?B/s]"
      ]
     },
     "metadata": {},
     "output_type": "display_data"
    },
    {
     "data": {
      "application/vnd.jupyter.widget-view+json": {
       "model_id": "bfbbc033f2a34131bacbcd245e559962",
       "version_major": 2,
       "version_minor": 0
      },
      "text/plain": [
       "(…)ion_pytorch_model.safetensors.index.json:   0%|          | 0.00/127k [00:00<?, ?B/s]"
      ]
     },
     "metadata": {},
     "output_type": "display_data"
    },
    {
     "data": {
      "application/vnd.jupyter.widget-view+json": {
       "model_id": "c7218aebe6e347b6bdb4d0c773f0f1e5",
       "version_major": 2,
       "version_minor": 0
      },
      "text/plain": [
       "diffusion_pytorch_model.safetensors:   0%|          | 0.00/168M [00:00<?, ?B/s]"
      ]
     },
     "metadata": {},
     "output_type": "display_data"
    },
    {
     "data": {
      "application/vnd.jupyter.widget-view+json": {
       "model_id": "eaa56b79dbf3435493eaf15c6cc9af2c",
       "version_major": 2,
       "version_minor": 0
      },
      "text/plain": [
       "config.json:   0%|          | 0.00/809 [00:00<?, ?B/s]"
      ]
     },
     "metadata": {},
     "output_type": "display_data"
    },
    {
     "data": {
      "application/vnd.jupyter.widget-view+json": {
       "model_id": "6f59b69412304f3990c6353e61911b1c",
       "version_major": 2,
       "version_minor": 0
      },
      "text/plain": [
       "Loading pipeline components...:   0%|          | 0/4 [00:00<?, ?it/s]"
      ]
     },
     "metadata": {},
     "output_type": "display_data"
    },
    {
     "ename": "ValueError",
     "evalue": "Pipeline <class 'diffusers.pipelines.stable_diffusion.pipeline_stable_diffusion.StableDiffusionPipeline'> expected {'unet', 'tokenizer', 'image_encoder', 'text_encoder', 'feature_extractor', 'safety_checker', 'vae', 'scheduler'}, but only {'vae', 'tokenizer', 'scheduler', 'text_encoder'} were passed.",
     "output_type": "error",
     "traceback": [
      "\u001b[0;31m---------------------------------------------------------------------------\u001b[0m",
      "\u001b[0;31mValueError\u001b[0m                                Traceback (most recent call last)",
      "\u001b[0;32m<ipython-input-4-137c0c1c4563>\u001b[0m in \u001b[0;36m<cell line: 0>\u001b[0;34m()\u001b[0m\n\u001b[1;32m     18\u001b[0m \u001b[0mprocessor\u001b[0m \u001b[0;34m=\u001b[0m \u001b[0mAutoProcessor\u001b[0m\u001b[0;34m.\u001b[0m\u001b[0mfrom_pretrained\u001b[0m\u001b[0;34m(\u001b[0m\u001b[0mMODEL_PATH\u001b[0m\u001b[0;34m,\u001b[0m \u001b[0mlocal_files_only\u001b[0m\u001b[0;34m=\u001b[0m\u001b[0;32mTrue\u001b[0m\u001b[0;34m)\u001b[0m\u001b[0;34m\u001b[0m\u001b[0;34m\u001b[0m\u001b[0m\n\u001b[1;32m     19\u001b[0m \u001b[0;34m\u001b[0m\u001b[0m\n\u001b[0;32m---> 20\u001b[0;31m sd_pipeline = StableDiffusionPipeline.from_pretrained(\n\u001b[0m\u001b[1;32m     21\u001b[0m     \u001b[0;34m\"stabilityai/stable-diffusion-3.5-large\"\u001b[0m\u001b[0;34m,\u001b[0m\u001b[0;34m\u001b[0m\u001b[0;34m\u001b[0m\u001b[0m\n\u001b[1;32m     22\u001b[0m     \u001b[0mtorch_dtype\u001b[0m\u001b[0;34m=\u001b[0m\u001b[0mtorch\u001b[0m\u001b[0;34m.\u001b[0m\u001b[0mfloat16\u001b[0m\u001b[0;34m\u001b[0m\u001b[0;34m\u001b[0m\u001b[0m\n",
      "\u001b[0;32m/usr/local/lib/python3.11/dist-packages/huggingface_hub/utils/_validators.py\u001b[0m in \u001b[0;36m_inner_fn\u001b[0;34m(*args, **kwargs)\u001b[0m\n\u001b[1;32m    112\u001b[0m             \u001b[0mkwargs\u001b[0m \u001b[0;34m=\u001b[0m \u001b[0msmoothly_deprecate_use_auth_token\u001b[0m\u001b[0;34m(\u001b[0m\u001b[0mfn_name\u001b[0m\u001b[0;34m=\u001b[0m\u001b[0mfn\u001b[0m\u001b[0;34m.\u001b[0m\u001b[0m__name__\u001b[0m\u001b[0;34m,\u001b[0m \u001b[0mhas_token\u001b[0m\u001b[0;34m=\u001b[0m\u001b[0mhas_token\u001b[0m\u001b[0;34m,\u001b[0m \u001b[0mkwargs\u001b[0m\u001b[0;34m=\u001b[0m\u001b[0mkwargs\u001b[0m\u001b[0;34m)\u001b[0m\u001b[0;34m\u001b[0m\u001b[0;34m\u001b[0m\u001b[0m\n\u001b[1;32m    113\u001b[0m \u001b[0;34m\u001b[0m\u001b[0m\n\u001b[0;32m--> 114\u001b[0;31m         \u001b[0;32mreturn\u001b[0m \u001b[0mfn\u001b[0m\u001b[0;34m(\u001b[0m\u001b[0;34m*\u001b[0m\u001b[0margs\u001b[0m\u001b[0;34m,\u001b[0m \u001b[0;34m**\u001b[0m\u001b[0mkwargs\u001b[0m\u001b[0;34m)\u001b[0m\u001b[0;34m\u001b[0m\u001b[0;34m\u001b[0m\u001b[0m\n\u001b[0m\u001b[1;32m    115\u001b[0m \u001b[0;34m\u001b[0m\u001b[0m\n\u001b[1;32m    116\u001b[0m     \u001b[0;32mreturn\u001b[0m \u001b[0m_inner_fn\u001b[0m  \u001b[0;31m# type: ignore\u001b[0m\u001b[0;34m\u001b[0m\u001b[0;34m\u001b[0m\u001b[0m\n",
      "\u001b[0;32m/usr/local/lib/python3.11/dist-packages/diffusers/pipelines/pipeline_utils.py\u001b[0m in \u001b[0;36mfrom_pretrained\u001b[0;34m(cls, pretrained_model_name_or_path, **kwargs)\u001b[0m\n\u001b[1;32m    969\u001b[0m         \u001b[0;32melif\u001b[0m \u001b[0mlen\u001b[0m\u001b[0;34m(\u001b[0m\u001b[0mmissing_modules\u001b[0m\u001b[0;34m)\u001b[0m \u001b[0;34m>\u001b[0m \u001b[0;36m0\u001b[0m\u001b[0;34m:\u001b[0m\u001b[0;34m\u001b[0m\u001b[0;34m\u001b[0m\u001b[0m\n\u001b[1;32m    970\u001b[0m             \u001b[0mpassed_modules\u001b[0m \u001b[0;34m=\u001b[0m \u001b[0mset\u001b[0m\u001b[0;34m(\u001b[0m\u001b[0mlist\u001b[0m\u001b[0;34m(\u001b[0m\u001b[0minit_kwargs\u001b[0m\u001b[0;34m.\u001b[0m\u001b[0mkeys\u001b[0m\u001b[0;34m(\u001b[0m\u001b[0;34m)\u001b[0m\u001b[0;34m)\u001b[0m \u001b[0;34m+\u001b[0m \u001b[0mlist\u001b[0m\u001b[0;34m(\u001b[0m\u001b[0mpassed_class_obj\u001b[0m\u001b[0;34m.\u001b[0m\u001b[0mkeys\u001b[0m\u001b[0;34m(\u001b[0m\u001b[0;34m)\u001b[0m\u001b[0;34m)\u001b[0m\u001b[0;34m)\u001b[0m \u001b[0;34m-\u001b[0m \u001b[0moptional_kwargs\u001b[0m\u001b[0;34m\u001b[0m\u001b[0;34m\u001b[0m\u001b[0m\n\u001b[0;32m--> 971\u001b[0;31m             raise ValueError(\n\u001b[0m\u001b[1;32m    972\u001b[0m                 \u001b[0;34mf\"Pipeline {pipeline_class} expected {expected_modules}, but only {passed_modules} were passed.\"\u001b[0m\u001b[0;34m\u001b[0m\u001b[0;34m\u001b[0m\u001b[0m\n\u001b[1;32m    973\u001b[0m             )\n",
      "\u001b[0;31mValueError\u001b[0m: Pipeline <class 'diffusers.pipelines.stable_diffusion.pipeline_stable_diffusion.StableDiffusionPipeline'> expected {'unet', 'tokenizer', 'image_encoder', 'text_encoder', 'feature_extractor', 'safety_checker', 'vae', 'scheduler'}, but only {'vae', 'tokenizer', 'scheduler', 'text_encoder'} were passed."
     ]
    }
   ],
   "source": [
    "import gradio as gr\n",
    "import torch\n",
    "import tempfile\n",
    "import moviepy.editor as mpy\n",
    "import numpy as np\n",
    "from diffusers import StableDiffusionPipeline\n",
    "from transformers import PaliGemmaForConditionalGeneration, AutoProcessor\n",
    "from PIL import Image\n",
    "\n",
    "# Load models\n",
    "MODEL_PATH = \"/content/drive/MyDrive/paligemma_finetuned\"\n",
    "model = PaliGemmaForConditionalGeneration.from_pretrained(\n",
    "    MODEL_PATH,\n",
    "    torch_dtype=torch.float16,\n",
    "    device_map=\"auto\",\n",
    "    local_files_only=True\n",
    ")\n",
    "processor = AutoProcessor.from_pretrained(MODEL_PATH, local_files_only=True)\n",
    "\n",
    "sd_pipeline = StableDiffusionPipeline.from_pretrained(\n",
    "    \"stabilityai/stable-diffusion-2-1\",\n",
    "    torch_dtype=torch.float16\n",
    ").to(\"cuda\")\n",
    "\n",
    "def answer_question(image, question):\n",
    "    try:\n",
    "        # Handle missing image\n",
    "        if image is None:\n",
    "            image = Image.new(\"RGB\", (224, 224), (255, 255, 255))\n",
    "        else:\n",
    "            image = image.convert(\"RGB\")\n",
    "\n",
    "        # Process inputs\n",
    "        inputs = processor(\n",
    "            text=f\"<image> {question}\",\n",
    "            images=image,\n",
    "            return_tensors=\"pt\",\n",
    "            truncation=True,\n",
    "            max_length=768,\n",
    "            padding=\"max_length\"\n",
    "        ).to(\"cuda\")\n",
    "\n",
    "        # Generate answer\n",
    "        outputs = model.generate(**inputs, max_new_tokens=100)\n",
    "        answer_text = processor.decode(outputs[0], skip_special_tokens=True)\n",
    "\n",
    "        # Generate image\n",
    "        gen_image = sd_pipeline(\n",
    "            prompt=f\"Illustration: {answer_text[:50]}\",\n",
    "            height=512,\n",
    "            width=512,\n",
    "            num_inference_steps=25\n",
    "        ).images[0]\n",
    "\n",
    "        # Create video\n",
    "        video_path = tempfile.mktemp(suffix=\".mp4\")\n",
    "        frames = [np.array(gen_image)] * 3  # Convert to numpy arrays\n",
    "        clip = mpy.ImageSequenceClip(frames, fps=1)\n",
    "        clip.write_videofile(video_path, verbose=False, logger=None)\n",
    "\n",
    "        return answer_text, gen_image, video_path\n",
    "\n",
    "    except Exception as e:\n",
    "        return f\"Error: {str(e)}\", None, None\n",
    "\n",
    "interface = gr.Interface(\n",
    "    fn=answer_question,\n",
    "    inputs=[\n",
    "        gr.Image(label=\"Upload Image (optional)\", type=\"pil\"),\n",
    "        gr.Textbox(label=\"Question\")\n",
    "    ],\n",
    "    outputs=[gr.Textbox(), gr.Image(), gr.Video()],\n",
    "    title=\"NCERT Tutor\"\n",
    ")\n",
    "\n",
    "interface.launch(share=True)"
   ]
  },
  {
   "cell_type": "code",
   "execution_count": null,
   "metadata": {
    "colab": {
     "base_uri": "https://localhost:8080/"
    },
    "id": "EwKolo0Ig_TY",
    "outputId": "b5d3fa7b-f07b-427d-8b26-da174277f17a"
   },
   "outputs": [
    {
     "name": "stdout",
     "output_type": "stream",
     "text": [
      "Requirement already satisfied: diffusers in /usr/local/lib/python3.11/dist-packages (0.33.1)\n",
      "Requirement already satisfied: transformers in /usr/local/lib/python3.11/dist-packages (4.51.3)\n",
      "Collecting gradio\n",
      "  Downloading gradio-5.29.0-py3-none-any.whl.metadata (16 kB)\n",
      "Requirement already satisfied: moviepy in /usr/local/lib/python3.11/dist-packages (1.0.3)\n",
      "Requirement already satisfied: torch in /usr/local/lib/python3.11/dist-packages (2.6.0+cu124)\n",
      "Requirement already satisfied: accelerate in /usr/local/lib/python3.11/dist-packages (1.6.0)\n",
      "Requirement already satisfied: importlib-metadata in /usr/local/lib/python3.11/dist-packages (from diffusers) (8.7.0)\n",
      "Requirement already satisfied: filelock in /usr/local/lib/python3.11/dist-packages (from diffusers) (3.18.0)\n",
      "Requirement already satisfied: huggingface-hub>=0.27.0 in /usr/local/lib/python3.11/dist-packages (from diffusers) (0.30.2)\n",
      "Requirement already satisfied: numpy in /usr/local/lib/python3.11/dist-packages (from diffusers) (2.0.2)\n",
      "Requirement already satisfied: regex!=2019.12.17 in /usr/local/lib/python3.11/dist-packages (from diffusers) (2024.11.6)\n",
      "Requirement already satisfied: requests in /usr/local/lib/python3.11/dist-packages (from diffusers) (2.32.3)\n",
      "Requirement already satisfied: safetensors>=0.3.1 in /usr/local/lib/python3.11/dist-packages (from diffusers) (0.5.3)\n",
      "Requirement already satisfied: Pillow in /usr/local/lib/python3.11/dist-packages (from diffusers) (11.2.1)\n",
      "Requirement already satisfied: packaging>=20.0 in /usr/local/lib/python3.11/dist-packages (from transformers) (24.2)\n",
      "Requirement already satisfied: pyyaml>=5.1 in /usr/local/lib/python3.11/dist-packages (from transformers) (6.0.2)\n",
      "Requirement already satisfied: tokenizers<0.22,>=0.21 in /usr/local/lib/python3.11/dist-packages (from transformers) (0.21.1)\n",
      "Requirement already satisfied: tqdm>=4.27 in /usr/local/lib/python3.11/dist-packages (from transformers) (4.67.1)\n",
      "Collecting aiofiles<25.0,>=22.0 (from gradio)\n",
      "  Downloading aiofiles-24.1.0-py3-none-any.whl.metadata (10 kB)\n",
      "Requirement already satisfied: anyio<5.0,>=3.0 in /usr/local/lib/python3.11/dist-packages (from gradio) (4.9.0)\n",
      "Collecting fastapi<1.0,>=0.115.2 (from gradio)\n",
      "  Downloading fastapi-0.115.12-py3-none-any.whl.metadata (27 kB)\n",
      "Collecting ffmpy (from gradio)\n",
      "  Downloading ffmpy-0.5.0-py3-none-any.whl.metadata (3.0 kB)\n",
      "Collecting gradio-client==1.10.0 (from gradio)\n",
      "  Downloading gradio_client-1.10.0-py3-none-any.whl.metadata (7.1 kB)\n",
      "Collecting groovy~=0.1 (from gradio)\n",
      "  Downloading groovy-0.1.2-py3-none-any.whl.metadata (6.1 kB)\n",
      "Requirement already satisfied: httpx>=0.24.1 in /usr/local/lib/python3.11/dist-packages (from gradio) (0.28.1)\n",
      "Requirement already satisfied: jinja2<4.0 in /usr/local/lib/python3.11/dist-packages (from gradio) (3.1.6)\n",
      "Requirement already satisfied: markupsafe<4.0,>=2.0 in /usr/local/lib/python3.11/dist-packages (from gradio) (3.0.2)\n",
      "Requirement already satisfied: orjson~=3.0 in /usr/local/lib/python3.11/dist-packages (from gradio) (3.10.18)\n",
      "Requirement already satisfied: pandas<3.0,>=1.0 in /usr/local/lib/python3.11/dist-packages (from gradio) (2.2.2)\n",
      "Requirement already satisfied: pydantic<2.12,>=2.0 in /usr/local/lib/python3.11/dist-packages (from gradio) (2.11.4)\n",
      "Collecting pydub (from gradio)\n",
      "  Downloading pydub-0.25.1-py2.py3-none-any.whl.metadata (1.4 kB)\n",
      "Collecting python-multipart>=0.0.18 (from gradio)\n",
      "  Downloading python_multipart-0.0.20-py3-none-any.whl.metadata (1.8 kB)\n",
      "Collecting ruff>=0.9.3 (from gradio)\n",
      "  Downloading ruff-0.11.9-py3-none-manylinux_2_17_x86_64.manylinux2014_x86_64.whl.metadata (25 kB)\n",
      "Collecting safehttpx<0.2.0,>=0.1.6 (from gradio)\n",
      "  Downloading safehttpx-0.1.6-py3-none-any.whl.metadata (4.2 kB)\n",
      "Collecting semantic-version~=2.0 (from gradio)\n",
      "  Downloading semantic_version-2.10.0-py2.py3-none-any.whl.metadata (9.7 kB)\n",
      "Collecting starlette<1.0,>=0.40.0 (from gradio)\n",
      "  Downloading starlette-0.46.2-py3-none-any.whl.metadata (6.2 kB)\n",
      "Collecting tomlkit<0.14.0,>=0.12.0 (from gradio)\n",
      "  Downloading tomlkit-0.13.2-py3-none-any.whl.metadata (2.7 kB)\n",
      "Requirement already satisfied: typer<1.0,>=0.12 in /usr/local/lib/python3.11/dist-packages (from gradio) (0.15.3)\n",
      "Requirement already satisfied: typing-extensions~=4.0 in /usr/local/lib/python3.11/dist-packages (from gradio) (4.13.2)\n",
      "Collecting uvicorn>=0.14.0 (from gradio)\n",
      "  Downloading uvicorn-0.34.2-py3-none-any.whl.metadata (6.5 kB)\n",
      "Requirement already satisfied: fsspec in /usr/local/lib/python3.11/dist-packages (from gradio-client==1.10.0->gradio) (2025.3.2)\n",
      "Requirement already satisfied: websockets<16.0,>=10.0 in /usr/local/lib/python3.11/dist-packages (from gradio-client==1.10.0->gradio) (15.0.1)\n",
      "Requirement already satisfied: decorator<5.0,>=4.0.2 in /usr/local/lib/python3.11/dist-packages (from moviepy) (4.4.2)\n",
      "Requirement already satisfied: proglog<=1.0.0 in /usr/local/lib/python3.11/dist-packages (from moviepy) (0.1.11)\n",
      "Requirement already satisfied: imageio<3.0,>=2.5 in /usr/local/lib/python3.11/dist-packages (from moviepy) (2.37.0)\n",
      "Requirement already satisfied: imageio-ffmpeg>=0.2.0 in /usr/local/lib/python3.11/dist-packages (from moviepy) (0.6.0)\n",
      "Requirement already satisfied: networkx in /usr/local/lib/python3.11/dist-packages (from torch) (3.4.2)\n",
      "Collecting nvidia-cuda-nvrtc-cu12==12.4.127 (from torch)\n",
      "  Downloading nvidia_cuda_nvrtc_cu12-12.4.127-py3-none-manylinux2014_x86_64.whl.metadata (1.5 kB)\n",
      "Collecting nvidia-cuda-runtime-cu12==12.4.127 (from torch)\n",
      "  Downloading nvidia_cuda_runtime_cu12-12.4.127-py3-none-manylinux2014_x86_64.whl.metadata (1.5 kB)\n",
      "Collecting nvidia-cuda-cupti-cu12==12.4.127 (from torch)\n",
      "  Downloading nvidia_cuda_cupti_cu12-12.4.127-py3-none-manylinux2014_x86_64.whl.metadata (1.6 kB)\n",
      "Collecting nvidia-cudnn-cu12==9.1.0.70 (from torch)\n",
      "  Downloading nvidia_cudnn_cu12-9.1.0.70-py3-none-manylinux2014_x86_64.whl.metadata (1.6 kB)\n",
      "Collecting nvidia-cublas-cu12==12.4.5.8 (from torch)\n",
      "  Downloading nvidia_cublas_cu12-12.4.5.8-py3-none-manylinux2014_x86_64.whl.metadata (1.5 kB)\n",
      "Collecting nvidia-cufft-cu12==11.2.1.3 (from torch)\n",
      "  Downloading nvidia_cufft_cu12-11.2.1.3-py3-none-manylinux2014_x86_64.whl.metadata (1.5 kB)\n",
      "Collecting nvidia-curand-cu12==10.3.5.147 (from torch)\n",
      "  Downloading nvidia_curand_cu12-10.3.5.147-py3-none-manylinux2014_x86_64.whl.metadata (1.5 kB)\n",
      "Collecting nvidia-cusolver-cu12==11.6.1.9 (from torch)\n",
      "  Downloading nvidia_cusolver_cu12-11.6.1.9-py3-none-manylinux2014_x86_64.whl.metadata (1.6 kB)\n",
      "Collecting nvidia-cusparse-cu12==12.3.1.170 (from torch)\n",
      "  Downloading nvidia_cusparse_cu12-12.3.1.170-py3-none-manylinux2014_x86_64.whl.metadata (1.6 kB)\n",
      "Requirement already satisfied: nvidia-cusparselt-cu12==0.6.2 in /usr/local/lib/python3.11/dist-packages (from torch) (0.6.2)\n",
      "Requirement already satisfied: nvidia-nccl-cu12==2.21.5 in /usr/local/lib/python3.11/dist-packages (from torch) (2.21.5)\n",
      "Requirement already satisfied: nvidia-nvtx-cu12==12.4.127 in /usr/local/lib/python3.11/dist-packages (from torch) (12.4.127)\n",
      "Collecting nvidia-nvjitlink-cu12==12.4.127 (from torch)\n",
      "  Downloading nvidia_nvjitlink_cu12-12.4.127-py3-none-manylinux2014_x86_64.whl.metadata (1.5 kB)\n",
      "Requirement already satisfied: triton==3.2.0 in /usr/local/lib/python3.11/dist-packages (from torch) (3.2.0)\n",
      "Requirement already satisfied: sympy==1.13.1 in /usr/local/lib/python3.11/dist-packages (from torch) (1.13.1)\n",
      "Requirement already satisfied: mpmath<1.4,>=1.1.0 in /usr/local/lib/python3.11/dist-packages (from sympy==1.13.1->torch) (1.3.0)\n",
      "Requirement already satisfied: psutil in /usr/local/lib/python3.11/dist-packages (from accelerate) (5.9.5)\n",
      "Requirement already satisfied: idna>=2.8 in /usr/local/lib/python3.11/dist-packages (from anyio<5.0,>=3.0->gradio) (3.10)\n",
      "Requirement already satisfied: sniffio>=1.1 in /usr/local/lib/python3.11/dist-packages (from anyio<5.0,>=3.0->gradio) (1.3.1)\n",
      "Requirement already satisfied: certifi in /usr/local/lib/python3.11/dist-packages (from httpx>=0.24.1->gradio) (2025.4.26)\n",
      "Requirement already satisfied: httpcore==1.* in /usr/local/lib/python3.11/dist-packages (from httpx>=0.24.1->gradio) (1.0.9)\n",
      "Requirement already satisfied: h11>=0.16 in /usr/local/lib/python3.11/dist-packages (from httpcore==1.*->httpx>=0.24.1->gradio) (0.16.0)\n",
      "Requirement already satisfied: python-dateutil>=2.8.2 in /usr/local/lib/python3.11/dist-packages (from pandas<3.0,>=1.0->gradio) (2.9.0.post0)\n",
      "Requirement already satisfied: pytz>=2020.1 in /usr/local/lib/python3.11/dist-packages (from pandas<3.0,>=1.0->gradio) (2025.2)\n",
      "Requirement already satisfied: tzdata>=2022.7 in /usr/local/lib/python3.11/dist-packages (from pandas<3.0,>=1.0->gradio) (2025.2)\n",
      "Requirement already satisfied: annotated-types>=0.6.0 in /usr/local/lib/python3.11/dist-packages (from pydantic<2.12,>=2.0->gradio) (0.7.0)\n",
      "Requirement already satisfied: pydantic-core==2.33.2 in /usr/local/lib/python3.11/dist-packages (from pydantic<2.12,>=2.0->gradio) (2.33.2)\n",
      "Requirement already satisfied: typing-inspection>=0.4.0 in /usr/local/lib/python3.11/dist-packages (from pydantic<2.12,>=2.0->gradio) (0.4.0)\n",
      "Requirement already satisfied: charset-normalizer<4,>=2 in /usr/local/lib/python3.11/dist-packages (from requests->diffusers) (3.4.1)\n",
      "Requirement already satisfied: urllib3<3,>=1.21.1 in /usr/local/lib/python3.11/dist-packages (from requests->diffusers) (2.4.0)\n",
      "Requirement already satisfied: click>=8.0.0 in /usr/local/lib/python3.11/dist-packages (from typer<1.0,>=0.12->gradio) (8.1.8)\n",
      "Requirement already satisfied: shellingham>=1.3.0 in /usr/local/lib/python3.11/dist-packages (from typer<1.0,>=0.12->gradio) (1.5.4)\n",
      "Requirement already satisfied: rich>=10.11.0 in /usr/local/lib/python3.11/dist-packages (from typer<1.0,>=0.12->gradio) (13.9.4)\n",
      "Requirement already satisfied: zipp>=3.20 in /usr/local/lib/python3.11/dist-packages (from importlib-metadata->diffusers) (3.21.0)\n",
      "Requirement already satisfied: six>=1.5 in /usr/local/lib/python3.11/dist-packages (from python-dateutil>=2.8.2->pandas<3.0,>=1.0->gradio) (1.17.0)\n",
      "Requirement already satisfied: markdown-it-py>=2.2.0 in /usr/local/lib/python3.11/dist-packages (from rich>=10.11.0->typer<1.0,>=0.12->gradio) (3.0.0)\n",
      "Requirement already satisfied: pygments<3.0.0,>=2.13.0 in /usr/local/lib/python3.11/dist-packages (from rich>=10.11.0->typer<1.0,>=0.12->gradio) (2.19.1)\n",
      "Requirement already satisfied: mdurl~=0.1 in /usr/local/lib/python3.11/dist-packages (from markdown-it-py>=2.2.0->rich>=10.11.0->typer<1.0,>=0.12->gradio) (0.1.2)\n",
      "Downloading gradio-5.29.0-py3-none-any.whl (54.1 MB)\n",
      "\u001b[2K   \u001b[90m━━━━━━━━━━━━━━━━━━━━━━━━━━━━━━━━━━━━━━━━\u001b[0m \u001b[32m54.1/54.1 MB\u001b[0m \u001b[31m41.9 MB/s\u001b[0m eta \u001b[36m0:00:00\u001b[0m\n",
      "\u001b[?25hDownloading gradio_client-1.10.0-py3-none-any.whl (322 kB)\n",
      "\u001b[2K   \u001b[90m━━━━━━━━━━━━━━━━━━━━━━━━━━━━━━━━━━━━━━━━\u001b[0m \u001b[32m322.9/322.9 kB\u001b[0m \u001b[31m31.6 MB/s\u001b[0m eta \u001b[36m0:00:00\u001b[0m\n",
      "\u001b[?25hDownloading nvidia_cublas_cu12-12.4.5.8-py3-none-manylinux2014_x86_64.whl (363.4 MB)\n",
      "\u001b[2K   \u001b[90m━━━━━━━━━━━━━━━━━━━━━━━━━━━━━━━━━━━━━━━━\u001b[0m \u001b[32m363.4/363.4 MB\u001b[0m \u001b[31m2.4 MB/s\u001b[0m eta \u001b[36m0:00:00\u001b[0m\n",
      "\u001b[?25hDownloading nvidia_cuda_cupti_cu12-12.4.127-py3-none-manylinux2014_x86_64.whl (13.8 MB)\n",
      "\u001b[2K   \u001b[90m━━━━━━━━━━━━━━━━━━━━━━━━━━━━━━━━━━━━━━━━\u001b[0m \u001b[32m13.8/13.8 MB\u001b[0m \u001b[31m123.4 MB/s\u001b[0m eta \u001b[36m0:00:00\u001b[0m\n",
      "\u001b[?25hDownloading nvidia_cuda_nvrtc_cu12-12.4.127-py3-none-manylinux2014_x86_64.whl (24.6 MB)\n",
      "\u001b[2K   \u001b[90m━━━━━━━━━━━━━━━━━━━━━━━━━━━━━━━━━━━━━━━━\u001b[0m \u001b[32m24.6/24.6 MB\u001b[0m \u001b[31m97.4 MB/s\u001b[0m eta \u001b[36m0:00:00\u001b[0m\n",
      "\u001b[?25hDownloading nvidia_cuda_runtime_cu12-12.4.127-py3-none-manylinux2014_x86_64.whl (883 kB)\n",
      "\u001b[2K   \u001b[90m━━━━━━━━━━━━━━━━━━━━━━━━━━━━━━━━━━━━━━━━\u001b[0m \u001b[32m883.7/883.7 kB\u001b[0m \u001b[31m57.4 MB/s\u001b[0m eta \u001b[36m0:00:00\u001b[0m\n",
      "\u001b[?25hDownloading nvidia_cudnn_cu12-9.1.0.70-py3-none-manylinux2014_x86_64.whl (664.8 MB)\n",
      "\u001b[2K   \u001b[90m━━━━━━━━━━━━━━━━━━━━━━━━━━━━━━━━━━━━━━━━\u001b[0m \u001b[32m664.8/664.8 MB\u001b[0m \u001b[31m1.4 MB/s\u001b[0m eta \u001b[36m0:00:00\u001b[0m\n",
      "\u001b[?25hDownloading nvidia_cufft_cu12-11.2.1.3-py3-none-manylinux2014_x86_64.whl (211.5 MB)\n",
      "\u001b[2K   \u001b[90m━━━━━━━━━━━━━━━━━━━━━━━━━━━━━━━━━━━━━━━━\u001b[0m \u001b[32m211.5/211.5 MB\u001b[0m \u001b[31m10.1 MB/s\u001b[0m eta \u001b[36m0:00:00\u001b[0m\n",
      "\u001b[?25hDownloading nvidia_curand_cu12-10.3.5.147-py3-none-manylinux2014_x86_64.whl (56.3 MB)\n",
      "\u001b[2K   \u001b[90m━━━━━━━━━━━━━━━━━━━━━━━━━━━━━━━━━━━━━━━━\u001b[0m \u001b[32m56.3/56.3 MB\u001b[0m \u001b[31m38.2 MB/s\u001b[0m eta \u001b[36m0:00:00\u001b[0m\n",
      "\u001b[?25hDownloading nvidia_cusolver_cu12-11.6.1.9-py3-none-manylinux2014_x86_64.whl (127.9 MB)\n",
      "\u001b[2K   \u001b[90m━━━━━━━━━━━━━━━━━━━━━━━━━━━━━━━━━━━━━━━━\u001b[0m \u001b[32m127.9/127.9 MB\u001b[0m \u001b[31m8.0 MB/s\u001b[0m eta \u001b[36m0:00:00\u001b[0m\n",
      "\u001b[?25hDownloading nvidia_cusparse_cu12-12.3.1.170-py3-none-manylinux2014_x86_64.whl (207.5 MB)\n",
      "\u001b[2K   \u001b[90m━━━━━━━━━━━━━━━━━━━━━━━━━━━━━━━━━━━━━━━━\u001b[0m \u001b[32m207.5/207.5 MB\u001b[0m \u001b[31m10.4 MB/s\u001b[0m eta \u001b[36m0:00:00\u001b[0m\n",
      "\u001b[?25hDownloading nvidia_nvjitlink_cu12-12.4.127-py3-none-manylinux2014_x86_64.whl (21.1 MB)\n",
      "\u001b[2K   \u001b[90m━━━━━━━━━━━━━━━━━━━━━━━━━━━━━━━━━━━━━━━━\u001b[0m \u001b[32m21.1/21.1 MB\u001b[0m \u001b[31m110.6 MB/s\u001b[0m eta \u001b[36m0:00:00\u001b[0m\n",
      "\u001b[?25hDownloading aiofiles-24.1.0-py3-none-any.whl (15 kB)\n",
      "Downloading fastapi-0.115.12-py3-none-any.whl (95 kB)\n",
      "\u001b[2K   \u001b[90m━━━━━━━━━━━━━━━━━━━━━━━━━━━━━━━━━━━━━━━━\u001b[0m \u001b[32m95.2/95.2 kB\u001b[0m \u001b[31m10.8 MB/s\u001b[0m eta \u001b[36m0:00:00\u001b[0m\n",
      "\u001b[?25hDownloading groovy-0.1.2-py3-none-any.whl (14 kB)\n",
      "Downloading python_multipart-0.0.20-py3-none-any.whl (24 kB)\n",
      "Downloading ruff-0.11.9-py3-none-manylinux_2_17_x86_64.manylinux2014_x86_64.whl (11.5 MB)\n",
      "\u001b[2K   \u001b[90m━━━━━━━━━━━━━━━━━━━━━━━━━━━━━━━━━━━━━━━━\u001b[0m \u001b[32m11.5/11.5 MB\u001b[0m \u001b[31m137.6 MB/s\u001b[0m eta \u001b[36m0:00:00\u001b[0m\n",
      "\u001b[?25hDownloading safehttpx-0.1.6-py3-none-any.whl (8.7 kB)\n",
      "Downloading semantic_version-2.10.0-py2.py3-none-any.whl (15 kB)\n",
      "Downloading starlette-0.46.2-py3-none-any.whl (72 kB)\n",
      "\u001b[2K   \u001b[90m━━━━━━━━━━━━━━━━━━━━━━━━━━━━━━━━━━━━━━━━\u001b[0m \u001b[32m72.0/72.0 kB\u001b[0m \u001b[31m8.2 MB/s\u001b[0m eta \u001b[36m0:00:00\u001b[0m\n",
      "\u001b[?25hDownloading tomlkit-0.13.2-py3-none-any.whl (37 kB)\n",
      "Downloading uvicorn-0.34.2-py3-none-any.whl (62 kB)\n",
      "\u001b[2K   \u001b[90m━━━━━━━━━━━━━━━━━━━━━━━━━━━━━━━━━━━━━━━━\u001b[0m \u001b[32m62.5/62.5 kB\u001b[0m \u001b[31m7.2 MB/s\u001b[0m eta \u001b[36m0:00:00\u001b[0m\n",
      "\u001b[?25hDownloading ffmpy-0.5.0-py3-none-any.whl (6.0 kB)\n",
      "Downloading pydub-0.25.1-py2.py3-none-any.whl (32 kB)\n",
      "Installing collected packages: pydub, uvicorn, tomlkit, semantic-version, ruff, python-multipart, nvidia-nvjitlink-cu12, nvidia-curand-cu12, nvidia-cufft-cu12, nvidia-cuda-runtime-cu12, nvidia-cuda-nvrtc-cu12, nvidia-cuda-cupti-cu12, nvidia-cublas-cu12, groovy, ffmpy, aiofiles, starlette, nvidia-cusparse-cu12, nvidia-cudnn-cu12, safehttpx, nvidia-cusolver-cu12, gradio-client, fastapi, gradio\n",
      "  Attempting uninstall: nvidia-nvjitlink-cu12\n",
      "    Found existing installation: nvidia-nvjitlink-cu12 12.5.82\n",
      "    Uninstalling nvidia-nvjitlink-cu12-12.5.82:\n",
      "      Successfully uninstalled nvidia-nvjitlink-cu12-12.5.82\n",
      "  Attempting uninstall: nvidia-curand-cu12\n",
      "    Found existing installation: nvidia-curand-cu12 10.3.6.82\n",
      "    Uninstalling nvidia-curand-cu12-10.3.6.82:\n",
      "      Successfully uninstalled nvidia-curand-cu12-10.3.6.82\n",
      "  Attempting uninstall: nvidia-cufft-cu12\n",
      "    Found existing installation: nvidia-cufft-cu12 11.2.3.61\n",
      "    Uninstalling nvidia-cufft-cu12-11.2.3.61:\n",
      "      Successfully uninstalled nvidia-cufft-cu12-11.2.3.61\n",
      "  Attempting uninstall: nvidia-cuda-runtime-cu12\n",
      "    Found existing installation: nvidia-cuda-runtime-cu12 12.5.82\n",
      "    Uninstalling nvidia-cuda-runtime-cu12-12.5.82:\n",
      "      Successfully uninstalled nvidia-cuda-runtime-cu12-12.5.82\n",
      "  Attempting uninstall: nvidia-cuda-nvrtc-cu12\n",
      "    Found existing installation: nvidia-cuda-nvrtc-cu12 12.5.82\n",
      "    Uninstalling nvidia-cuda-nvrtc-cu12-12.5.82:\n",
      "      Successfully uninstalled nvidia-cuda-nvrtc-cu12-12.5.82\n",
      "  Attempting uninstall: nvidia-cuda-cupti-cu12\n",
      "    Found existing installation: nvidia-cuda-cupti-cu12 12.5.82\n",
      "    Uninstalling nvidia-cuda-cupti-cu12-12.5.82:\n",
      "      Successfully uninstalled nvidia-cuda-cupti-cu12-12.5.82\n",
      "  Attempting uninstall: nvidia-cublas-cu12\n",
      "    Found existing installation: nvidia-cublas-cu12 12.5.3.2\n",
      "    Uninstalling nvidia-cublas-cu12-12.5.3.2:\n",
      "      Successfully uninstalled nvidia-cublas-cu12-12.5.3.2\n",
      "  Attempting uninstall: nvidia-cusparse-cu12\n",
      "    Found existing installation: nvidia-cusparse-cu12 12.5.1.3\n",
      "    Uninstalling nvidia-cusparse-cu12-12.5.1.3:\n",
      "      Successfully uninstalled nvidia-cusparse-cu12-12.5.1.3\n",
      "  Attempting uninstall: nvidia-cudnn-cu12\n",
      "    Found existing installation: nvidia-cudnn-cu12 9.3.0.75\n",
      "    Uninstalling nvidia-cudnn-cu12-9.3.0.75:\n",
      "      Successfully uninstalled nvidia-cudnn-cu12-9.3.0.75\n",
      "  Attempting uninstall: nvidia-cusolver-cu12\n",
      "    Found existing installation: nvidia-cusolver-cu12 11.6.3.83\n",
      "    Uninstalling nvidia-cusolver-cu12-11.6.3.83:\n",
      "      Successfully uninstalled nvidia-cusolver-cu12-11.6.3.83\n",
      "Successfully installed aiofiles-24.1.0 fastapi-0.115.12 ffmpy-0.5.0 gradio-5.29.0 gradio-client-1.10.0 groovy-0.1.2 nvidia-cublas-cu12-12.4.5.8 nvidia-cuda-cupti-cu12-12.4.127 nvidia-cuda-nvrtc-cu12-12.4.127 nvidia-cuda-runtime-cu12-12.4.127 nvidia-cudnn-cu12-9.1.0.70 nvidia-cufft-cu12-11.2.1.3 nvidia-curand-cu12-10.3.5.147 nvidia-cusolver-cu12-11.6.1.9 nvidia-cusparse-cu12-12.3.1.170 nvidia-nvjitlink-cu12-12.4.127 pydub-0.25.1 python-multipart-0.0.20 ruff-0.11.9 safehttpx-0.1.6 semantic-version-2.10.0 starlette-0.46.2 tomlkit-0.13.2 uvicorn-0.34.2\n"
     ]
    }
   ],
   "source": [
    "#llamakesath\n",
    "!pip install diffusers transformers gradio moviepy torch accelerate"
   ]
  },
  {
   "cell_type": "code",
   "execution_count": null,
   "metadata": {
    "id": "XLdjEEfLmxte"
   },
   "outputs": [],
   "source": []
  },
  {
   "cell_type": "code",
   "execution_count": null,
   "metadata": {
    "id": "gNWeFNSSmx2W"
   },
   "outputs": [],
   "source": []
  },
  {
   "cell_type": "code",
   "execution_count": null,
   "metadata": {
    "id": "5YBG3jJYKitt"
   },
   "outputs": [],
   "source": []
  },
  {
   "cell_type": "code",
   "execution_count": null,
   "metadata": {
    "id": "GzJmukGumx54"
   },
   "outputs": [],
   "source": []
  },
  {
   "cell_type": "code",
   "execution_count": null,
   "metadata": {
    "colab": {
     "base_uri": "https://localhost:8080/",
     "height": 1000,
     "referenced_widgets": [
      "49d25496c5d64665bd164d86f1a50d5d",
      "3a5ba8e4b54544c987c5af95cea35fbd",
      "fc1eca3e68434a9ea5a1be6405f87053",
      "a4eeeb19b9174147bf98e40f7836e5c7",
      "e0b67ea8035f4ae68479a06a54431b36",
      "47a8d7d3acea4d19ae4d0e73ee9e6770",
      "63a8a8af450540f6a783f7fe1e30cf99",
      "5b35f3a0b557451eba482b06650b0f75",
      "a8d1d33d035d4fceb469d142f6c32547",
      "0f2c1e6f3cb14fd99df989d3b1fee7de",
      "b74b5510e1de4b5b8b2cab22a2427c80",
      "d9ade64f57c14fb1907dbe9cfd79a21b",
      "215c608398c9498e86bbdbe574081b96",
      "e3e48eafca4b4e049bf2ae342aadf51c",
      "35fbe57f2d234384b53ed444ac142fe1",
      "8b4fc57adae34dc9bfafc3cd96bcfda2",
      "94ea5f6f8b1044c29b3d029afc067d2f",
      "85f608ff2cc3413dbcb04e3ed035e954",
      "78836c3f2ba74c82b2931be651954357",
      "356937efe09749f197e64e8a860b4ba5",
      "bbd83d912527457e9d369b6f74f0dbcc",
      "478baed0a3004d2f8203d39223293044",
      "11ad082761d04cd496f7a0399bd37849",
      "b9493ffa77d84033a834b72a2490ba50",
      "cca1d9c943f14abf99a45f319471c15b",
      "dd59d291449f431881505dc69f9210da",
      "c328db8846ee4b45bb807a7dc4ae02c3",
      "fda2fa6871994aa7aae8c2174ea995da",
      "7250f85027a04ef593591dc20fa97d61",
      "f960993a428445ad8b6ba5aafa56afdf",
      "463a50d3dcee48a3af76b065c305fbd1",
      "4a27f197dc3f4be695028c4d12eca9ec",
      "d0e6eb7712c5448e945128f86ec61a67",
      "528cdb6aaacf45dc9901ecfb80982b61",
      "0bb9ae8176884f0485cfe5f01fc3dfbc",
      "d64b655b5186420e969c00934d33209c",
      "4ba2cecb90f7433287f88584e8128b57",
      "1ae7aa2eda9041a2bfc83307b9611355",
      "31df5abc1ba740e284354f4e59285ba6",
      "a24dc4b1eba04d5b958600f4c6d779a3",
      "4cca7cc22237416bb8e6abbadbc1838a",
      "3b94e51e685e4ae6be92e88056ed0e2e",
      "6bced27e584749eb97675d10bcc7d5bb",
      "b6c4ac9968414b778ae90c6ad2eef61f",
      "d44d06ea0de846a49d3fb1036dff9535",
      "5283ec325dfe431ab98d57cd98a38a78",
      "ec01da7e5d534a15b6fbc920fbb59bd4",
      "68f984b6cfc943dfb3d0c61efeac9f9a",
      "4aa34fd1c7254ebdb026f5c997ffff01",
      "a26582e19e494364960341bfeae2c465",
      "5a431736640c46359f3820d25cb684da",
      "e973f45fbbb049f3a6d921822531eb91",
      "ab9c92f481bb4f7f81dfd343e13aefbb",
      "64c8cd48a8924f3f8b0f8eb75a4c1ab3",
      "89f0ca55a3bd4ffc9706280167a0c38d",
      "0dd0cb503b804069a6df8de18d2f44e6",
      "cbf747ade9044a359cefb59f8d8dd883",
      "d25112fe54cd4be085a8938c177ea608",
      "744e950af2e148fd91a0a856ce5c2f37",
      "cc8f647925a946d2b750a6a2ffd5e80b",
      "41be328ca5fd46918599c247abbfee84",
      "e2f6bbaed2eb4419a621ba61a9fc3e7e",
      "6a9944a9e3174123b468e3cd5790604b",
      "6b06f2b6a99c4675836cc2203872408f",
      "1e28de8da0f44d579c254e18883e764a",
      "74558d11b9f54614af48b5aabd24720e",
      "fbb8e9c14e104e41a72eca94fa01587e",
      "78f012efe73e413eb55db0e8129b6b9c",
      "9fa8558a403245d68a173148b57248de",
      "75f5b15ac66b47ecb054b632aed27da5",
      "c5589c00d0cb42c0bb878361696b1112",
      "8c053dc10ca6410f838dd62565af554a",
      "e4bdd2ecbcd644f498d7dfebe45fe474",
      "dc517c5dd0ce4d66ae36ad3b2df1ab1b",
      "52b1ab782b0247959f31215c758eba95",
      "3f50b9d9477b4a8ea39d927096d1b707",
      "edf09b2242a54b07822d882fc192c492",
      "795f18014b2b462797f3fc30748d86a3",
      "ac6372b3327e47ae85143d5a42a403f9",
      "dc41f69242ae4a84b3d121970d66347c",
      "2386b68661794d9baddce248eed6c829",
      "f4c0242503d442aabe667c5cba002248",
      "d9ce596680d04c38a09f2a0640ce88fc",
      "8f4e2e634d404775a0b972dc6865ebb8",
      "8dbf71d29d1845518b4a8dc1897e8a8c",
      "e194dbb502574b67a8eb7d7010a59172",
      "a899c620709748529b90ef217d986f99",
      "3b2dd00e1d7346dc81cca7fdfe48c31f",
      "0d5009d4ecf34522886f647204450dbd",
      "c01e4e35e9194cbeab0ec4976b3a129b",
      "52a4dc5430cf4eecac90cf365916f0ce",
      "c6ccfe37176e43fdadcfaafc41834953",
      "3b892f94ffbf45169b3c4572ba734c46",
      "aa6d416e47894a16a15e1d2ed1d6e34b",
      "8b2f27a9f7c744e8afcadba9c4d8da99",
      "bfcee22afa61416aa44c34ec5c995eab",
      "174bfdaac16d448fa4ffd9c127dad802",
      "a69b26b1506a4b3aa6377913dee6a44a",
      "b5de3c9cdc644021a5d05d3476d3c4a0",
      "c5979af33ff7457ebbcabae1850a7f80",
      "e168082a12c14ff885d4ec53aed18883",
      "9be069475a0a48ed8a5f7001bbb2b778",
      "508e975781fe41a6aa2879069668b456",
      "9765b78daa55478a93a5fbf91081b482",
      "d2257a5b95fd4b9892efd77ed5809b92",
      "803d8608cf9248eb857dabe333025556",
      "ed947f38ad174ba89d4a4194545f9a1c",
      "bf66ed8326954b2d93d80d2463668c99",
      "2d91853a11ab45a5b9d3769956857fdf",
      "e708bfd378c843d7a72f62716e183758",
      "e3d35a11d9dd4aacba76760a6e1477f0",
      "3c4ee4f6ec234a3f940f9e565c72c964",
      "575ee2d8347240d0adc8d8eabe8e00dd",
      "8ff4cf23392c43219ddfa7b9539b0efa",
      "249fef8b3fb042df8a3071889fd55865",
      "0a030a89cfb74bac8eca48030f2612cb",
      "997d921fa4234486b3b707816a9601a5",
      "131acbdb9a7d4261b3de1e639aa6e35e",
      "bcfd5f21c82b4e91bddadd47995733c5",
      "99916ea4e9a6498d888178e89511a940",
      "f9a0104955b14506ac0290a2665ca2c7",
      "2c6e3776a24c45bc90b4ab0ba1977f82",
      "bc83acd55d0545c6b8ab8b94258dc3b7",
      "d519752107694806bcab52f766dad747",
      "390de08415f049f390024c4fabc7d9e7",
      "3fa80e1a326d43d9839aa7c14cbbef84",
      "b5f7735478804c17830bafd1525a1851",
      "efb43c710d6a4c53a481427086580d2a",
      "d70a08b2012340e39fb0444a4d5037db",
      "5ebddd6d40054876809a1024b8aa72a4",
      "dbf7acd792c840ea8b3901863ece2073",
      "de946e65e2044da9b6c7179e3522fb42",
      "77946132db3041fcb85494563735537e",
      "1786d4d27c6f43ae9fbf61e937d27f34",
      "df452369f399419195fccca022c7eee1",
      "311dc8e5e2b048f3accc5ea2c49d5ab8",
      "423af30ca28c4e75842588b1c4dc589d",
      "1fca795c0fc84a83a2e6714fbd98be50",
      "d804ed8d82da495f8fc58f5ebe579090",
      "1171c418b4354c5dab6c18da9f752b90",
      "1fabd7304a94423a87d24c8d4daa58c4",
      "f2cbd0e0de06461bbccda44e2d34e503",
      "ad771e878d9d47fb9e6533661a41da79",
      "46d6e656f2014f7ba667e66aa6460bfa",
      "9c5dd0c6120c49b4b42ebedbe43f511f",
      "9e3a46a9a07b4aaca9dccac832ac0c32",
      "19c0c58793c640d189799af9242fb3af",
      "231e439c0b914f639d468a84a455567a",
      "c3ba4f33f983473a825fd17c8f4b15ad",
      "236e1ed853ae4efc9769bc4271efd980",
      "7bff208ddd0048e6a2b9196c80cdf04c",
      "ecae593fc80843199ce23124792e30b0",
      "c1f50113d95e4e23ad10e88a75d9702b",
      "c1294559abf04617a1776313e748f907",
      "81622d6428ab4a9489526f0ec4482c8d",
      "88a648b5507c488081dc73a8d22e2094",
      "5e1fdfefb221420d8af4dc0a888e4737",
      "7ad14be8f22d48279de35ad26ab1cabc",
      "bd45d38174c740af9826a98b4ab5e33e",
      "49a6fb6cda274a17a1caea7fc724f947",
      "5c5ef194b83047689de262739c3d0a84",
      "18531a3a0f004754acfb22150f91fdad",
      "b7ef5acf2f7c483eb74183f48c0a9928",
      "7d956b09ccaf4537b422135aac4a8c93",
      "17c8aeb5e1614faab2d9a7724a1ddce7",
      "a017b08d4a4c4b3b983b5c4a2d6940dd",
      "ab1264571a864a40b39576e17d4c547c",
      "7d908505e8944a69a2dd482e371c8d29",
      "d11f5338b5104ef5aa5e00ee79cbbc5f",
      "9d0e3e1fb3d04b4d8021bdc64d3928ce",
      "cf77e6e7cad549238e0bbf8c809e2c0d",
      "2befb89ebde74e308553642cee9cf0d2",
      "b6d73e83c808432c849ef14404e0a623",
      "8cd922fbca9c495dbe6ae0c811dbb3d4",
      "f11c4bbd1cc344b39edb31ce90d4f894",
      "2e8840c49c754a6b89d3b1d621cd4ffa",
      "5a5545f470a448f9befb6079733ec71f",
      "28b1063415c4442bad38c6b5ba927df9",
      "22c77471a4f6454bb1e64bf02294516e",
      "286b59d33ea14c0d800d5b3a92fe36bf",
      "01172e4c57984667b1b5888b54ff0cde",
      "11df8ebb14624adf9bf667e09fc0b9af",
      "baa1b1b3342c4983924397d18ba8245a",
      "11da400ea9ac43ceae1319358f06b867",
      "c84991862b7c4fe2a63cb4d34e805e65",
      "c283b4c4aaf4456589312b223c28bb87",
      "1aa22dd04d8747b7a45dee35e1c9fb44",
      "ddd63d22e53741efa2a3b9231d5c6d67",
      "ad7b65ffb15642e3bb0c4bcdfa0d882c",
      "db57a41b4b47456390ada6bb65f363ab",
      "4e012120d15340a69b44398046af0261",
      "987cbc28c2c84e60bda8c666ba4b2222",
      "09c87ef53c6f4878bdadee2787d6cba3",
      "9b9379d446f84d06b5e032efb9609733",
      "749c3f0d92644207b0bc78f026636fe7",
      "4f77ae3736a1490cbf9d54bb02fd1699",
      "9fab14d770bd486f8b9b2197b004992b",
      "a83fceba22d544e1b0ae97b426c63366",
      "0096e6ca32304e91ae4f36db59268f67",
      "71009aca41d7412f91996c1c7bc75f6f",
      "2e494fa271d945edbcc67307d8eebe24",
      "5ee4f80b95c7474baf20e828cbf38480",
      "59f4487783234e0ab5da97a43ecb9979",
      "7fd97d5e50394443b56e73136b162f14",
      "9aca169d56dd4354bb470fc7ba910259",
      "ef52be80dcc64f499658ef5821ddce1b",
      "75dd17ff0a91409ea7625e94e1b51986",
      "725b6dc22330435998eb3c6937ed547f",
      "c934d37afaac46b8afb3417eb0db929c",
      "b3c524b36e6244589fd3ad403b1727a3",
      "8f9b66a7448d4852a044b3abc8c06c9d",
      "420284c1a2dd4edb902de0dac7ece702",
      "11f6d42f8ddf425a9191b650ed432f02",
      "246ffd601fac4bdc95d6693c6aba11ce",
      "72dfbe1dfb1b42eca5e32cdbfa28b06a",
      "5fa206548b944a109934101255661549",
      "6d4401eab10e4e1297f777129395bbef",
      "e8c30c6478b94f9b9c94c4ba756c9a36",
      "8f38536fda074d5fbfc31185ad40676e",
      "4f527bf936ae4a68b1b556a7e4908d48",
      "515d7c54c73b4e0f9639ac056b9253cb",
      "ba351632fc5f40cfad25657cf00a170c",
      "549eff17ae14442c94d4938723cc2a58",
      "bdfc344bf2aa4f008c30eba3fe43dd3b",
      "3af533311396453099de37dd78d9fa2b",
      "4400025453f54725853efa1fd301e462",
      "44e58fc9026241f29d7110e99d2e9d1e",
      "720822624ace4c15b3de21c5eb06c7da",
      "4fd80f1f647d4f5fa9a66c558f87d4ec",
      "1294dc5d92a94d99a2f8c68441e9a670",
      "1a2db7d81e514fd885a4e759c514a96d",
      "7da48049c798458392d77406b4f6ac11",
      "397cd99dd0f94c6f8449d75b0678cf1d",
      "0ac7b080ede8427db81c6e20f4b694fa",
      "95c9df790ef44ab2a8e36e29a53da7f8",
      "9e0eb46862c246d683cf22ee6d8d0c93",
      "4d543479cbd644b68bd10cf0a3c0074a",
      "bf27e46dafda43559c0b076dd2cf6840",
      "b39427fafddf47e4b816b6918f980ef6",
      "a66839aed568429494cde196652928b1",
      "1a51472d92d640d4b19f0b27894d4cb3",
      "5d50a8af69b849ed8431cd2b4324d051",
      "20b3449f9acf4251b579c24203c1c6f4",
      "6c5a59022d2541acb5794c2663735ca6",
      "e2893d0bc56b40229c32b45625e31646",
      "014b8f450877453897588cc88b3d2a06",
      "68b3107216364c5f941c966b68f6a418",
      "7174b890d27b417393bde2f9cf5d43e0",
      "661d70da55dc410da24a68d182ec6196",
      "f80148d9717449748b3c1e80a678389e",
      "306b14f144ca4bf6b4c123d6c41d32b1",
      "ccda09b8d12f4e018652dfdecaa521a8",
      "28ec451ac1e5459ba1a6db3e9d911c70",
      "98dc6b087d2141d28b96a58cbb4b273f",
      "26f84c1b0ccd4b51a7a24885a56bcdf6",
      "d779c9230b8f4579b1d449a8d48bfdfd",
      "f37fca8e9a9544f58debc56ecc9ed451",
      "789cd0aa87954f14bbf8273c2c1508da",
      "c415838783804c029f14bb70f3d90810",
      "59d5abdac5864679b69bd1e7542a71ec",
      "39192ba8a1f1467aafb2f46e88f3b151",
      "5aaa16784d0149469857bfcb166fbd34",
      "af414359700740d0a504e736bffdb7bc",
      "efcc2b264fa54dcbb41d6ebbd3261f42",
      "b85dceb478e9461cbb845c6b9da881cd",
      "d98310fb261540369df8732a105ffd82",
      "0927b02aade84082888818d830e4bd48",
      "4913b8077f9e4bdf805dffdf6e27ea11",
      "29f3ba96e4f943fc94e1624aa70ef32e",
      "8bbe2c17b17c404c8fdbaed99fc6522d",
      "754fdb4f205d48c8a1c1cf32a81b3359",
      "de85090fa22143ba874b3b22c97e9706",
      "606b3227ae4e4712bfd0916086c8310a",
      "c8eb1351856e46199b23eb4b12edfca6",
      "bbe1311eeb8a42819a1aabb8b1e40fc0",
      "b440e2e8b4554c31b993fad3ac51763e",
      "8cf1c3a6278d46a3b4463a2fd96c729c",
      "72ec4192b2df4e6795fdcd12bccb8ecb",
      "d45f70095d7e44479dadae00d411f628",
      "ebe1f18061fb412a926004a2984d9c70",
      "9a423eec09a74e36a33758b1fb465d2c",
      "31ccc6b2f8b647b3b65fa18e26093151",
      "0ef6eaca703941f4b4f4f8e49bc10c16",
      "baac81f372114b6a896ab898668bcb33",
      "a74e12234adf473a8c306e70f479cb16",
      "60011f0f7bf1436ea21b4fcbdf18be8b",
      "d19bfa9458794515aefc6952c090729d",
      "4dbb44c2c97744cbb03060cf388631ea",
      "f3492859e9a1460e91e83aae895339fd",
      "3798e76f3d174357bd1a2e1a32a885e6",
      "6112791803ce42418c56d5b8c24242d4",
      "8502b06d83a44daaa05ce9bc3f239a83",
      "070328ae93ad41b0abe733d76a1dd4af",
      "dcedbd0599b64777845beed2cebd5dac",
      "714375fb1a2948f3ba03cb4225c84d59",
      "9107a4aa718f482498151af7a0a7ab8f",
      "47245791275a4383b4fd72eb1a2abc32",
      "a7fc079f31674ef1bf4dad48910225e6",
      "f7bfd89415c44d51acc7fc0dc0f85044",
      "4ecf68ad23e94ec5a6b3a5bd261ab3d3",
      "be5705c470ee48fab422eb2d0933d4ef",
      "f2f1f8274afb487db16d3672784638b0",
      "0615e7f56b144bf8ade6dfcefd4d975e",
      "14b8d5f352eb4896b9feacb324b89c24",
      "75b005eaadcb4ef288b6b332950a750a",
      "88c41f0cfa4e4d619e2e155e098b59f0",
      "20fbd4bfd6f14387a8388b17aa5399f0",
      "9cac66b4eccd4601a248c0cf8e68ed17",
      "c9037550cd2844ed90903af2205ffb3a",
      "8e7ec5d4acea4a95af9cec29674da6cb",
      "5fe0d57b79934d0e87c4661ca8608db8",
      "a024ca8b03aa4528bd017299dfca83f8",
      "a027a875961144e49044de6266f4eb7f",
      "3c4f9c87bf914011b96e85908a35afff",
      "4e1f3586bde941c08171db517fa03687",
      "c9829d1eec5641978e75611455dec0c2",
      "725f951688494a37b46f19e08b5a73a0",
      "6d4a94c236304b50a360cbbd0df3296a",
      "d1ad5f4f0423480faa1c318ee0c8076b",
      "52f67ab992a94957a7ee569b9f8f796e",
      "e5f42c1bc97f448889703ecfa022eddc",
      "ecafb89ba48340939cd8cb7e06e17616",
      "69b7b06e61a648cd8677da86593974a2",
      "079148898de74ac39c262bd8e9a39167",
      "a3fc03460a7b456bbbdc275a601836c8",
      "29c119bfbf09401898d091adc1a55cb7",
      "8176cd45fa2c4ae1af622f2e1c2b0568",
      "ad8e39485dba46699a7b9fd0bf4d6762",
      "1e34aa7ec9b24ef8af6f34d10aaeb7b0",
      "20cc99bb8b1e4f78b7f66d8630ce83dc",
      "f30afcea6c7246409f172c04f1952a1d",
      "b6b2d74011db406ba9fb87cba14fcdcc",
      "54b6e35960444fd5bfac1d0806eaad6c",
      "64eab7d9db6d4c12a024aa18e82bce91",
      "ebdbd86de2624b968ce89c305defb59a",
      "59e8b9b2f0ef4096a10027eeb77891b1",
      "5f479a324e4f4665ae44b49f16888d04",
      "8d5e9e5857004a848bb372089f3029bf",
      "3fd826e09679431daee855b66d5ff76f",
      "5749a577687d4735b05e5c48291b8f87",
      "e1a984a19d5148e994e21c2f82581f61",
      "c383894597de4403904679c4021d4d30",
      "204af7de98a24f92b269eb04e38b6c5a",
      "a9916278f9cc440ca6b3f93a032d3c70",
      "e9a24c46a6af449ba9097277f8c0acd9",
      "473964d1d39442508019fbe97b6e1d1c",
      "9927a191a36043099506fe53898ad44e",
      "cacae790927e4fa09e3a416768fa7b57",
      "921abc0ad6744e148f6cf20077306eb3",
      "7d69aa5e498b491289cb8f68619d4c47",
      "8646aac4033f4fc5a3f4a6216208e16b",
      "6bb9a0b0d39444a3bac2f1d410bff992",
      "5f514a8420af47a6b80a7f050bddab7d",
      "4f625a7c212547ad8923c48577f5156a",
      "cfbd1f8bf828476fb17d74f9ca3468ad",
      "e8af5697bb2943968e73cc30ba331765",
      "94377081878549b488d6ac761db38606",
      "db62fab9de754824b18c0cb70304ad6f",
      "d1543f2649154ad8bb4fc262a4d49be3",
      "5dbf6ad2920d4ffdb006d3c9a0c72b00",
      "3e78c6130ab5428d9bfcaebdedcde953",
      "0043bac8f22a47729fdd989903143363",
      "45f24dd48ee4413e9ed058b223cc7ffc",
      "2c0537c9f4c8422a893d407acb21bb0c",
      "2a523b9db92e4de1ab49671d4914d7e2",
      "cb6ce3214f5049b6a79ff6b55d6d5a84",
      "fd3adba4fa6a402985a7b7b75adf9460",
      "b7b908f1bb614928b3a26277fafc07b0",
      "91c37c1206494e5ba4a0ca9d76222485",
      "c0ec33a6698642e2b7dcdd7fe44f6507",
      "9a756d2bd40742a8ad3c504811e88896",
      "c99eeba51d9f4a64b4ebbe443a958c7d",
      "dcfd2be80f8240e289ec7bb476036d32",
      "9292a343ed2f429586eec3693fde0cb5",
      "607d7f268c5244b2a112e84caacee36f",
      "93b6153f48764770b8bf880470fbd720",
      "d7344b2ad5d04598b6f64597d07dabcd",
      "55601cd23417435282272ae71abd0d73",
      "a01d0d0a5dd649978ed0e6089a165a89",
      "da6e3c860bff4ad0b5540a975fc4cf2b",
      "9c048de5dfb04e6b91d49466dfec3aca",
      "de8a8e1c828249f2b5c294e5eac3b14f",
      "4124c5de3da441d8a8e2a04d371ac0d3",
      "418e4cd29fb84ce5b4ac6b9ed5a71d53",
      "d93d9961e39a49a6a8a2d0033972d134",
      "abf19e44b1794c62b28e6d9d9ad10fea",
      "b9ce75197e234f859d9bbdb3090c439b",
      "6c9160880e8b4655bcf8ff1d93fc0797",
      "9e869a976f7c40d2a2e1fb18ead51dce",
      "49236633ba3245cea24c28ae50328ce8",
      "bb99a1f6c6db4606b3584452fc3d5f82",
      "358e52ccf458411eb3d60947cefe7921",
      "7ff7a12ff79f46e7ac605568492c3230",
      "55a3c591b84345029c2bb9be3f8cbdc8",
      "32d6b073421d47098b55d84aa3c3df7f",
      "dc368c35bace466eab9deda3df1a704c",
      "5a580f3661bc4c11b62e15720195c2c7",
      "f7bee5bcd69141cf98ae22cc40fcd75f",
      "e6476b9d09f3464898b6493b24f518e2",
      "925152ff5dbb4d3ca00a1c4210d54cce",
      "75c861a262bb4fa59694efe6d8ff3f43",
      "fcb9459d93724428b167f5e8b165ff4f",
      "626fd675b71d4f7eb40358549299b09a",
      "a5c32967d4114547bea489d77db36c7a",
      "1823db7f683543d796367bd704bd8090",
      "fea01071f869408ab6cbc20041dad77f",
      "1e82c8c419d345abaf96888ec477cc56",
      "2ec39f16b7244b2ead9119eb07a30e4e",
      "69ccf9ad0877463fbee3df9f17c818f9",
      "435643be49f341de87965b2faf53eb9a",
      "170fa892829e4c96a2a834fbc538c482",
      "6e2b90d8bb394fd8ad7c417801ff144e",
      "66cdb1382b1f4d2d85cd18d4fcecc8dd",
      "8a96e9a3957c4dfabe9e2dc7541a79d1",
      "90d31679d22847c1abc9513f96d9fbe4",
      "0a58ebd8ba624777a8f9a1f5ea8ad01b",
      "5b380438f0584098b1e2dbf87e850ef5",
      "9fa30371d7f5402c8fd0e85dbe37b388",
      "14f03b4091d345b3bcd5024246258670",
      "739623703b1d4d9dbfbaaa828778ab40",
      "222a8aa5eaea4130a2225bf457c37aaa",
      "24bea315f83a4d83a97ff71fb5d69ff0",
      "101e4ca815e44750a8231483c75d32a7",
      "172febe007c64fb098b84abd42365a00",
      "43a37a40eafc4430965a251550fd75dd",
      "1dece9c14d8b4293a8876e1858ea4d31",
      "dc07b26b4940475696d26dd70b02c98f",
      "da16cc9cd31148a0a475c61138953fef",
      "580bcb83a7614b50982a8f4aa8ce292d"
     ]
    },
    "id": "3FXZpfDYUqQ-",
    "outputId": "ed095e4a-ef1a-44f2-d116-b4c6e7a551a1"
   },
   "outputs": [
    {
     "name": "stderr",
     "output_type": "stream",
     "text": [
      "WARNING:py.warnings:/usr/local/lib/python3.11/dist-packages/moviepy/video/io/sliders.py:61: SyntaxWarning: \"is\" with a literal. Did you mean \"==\"?\n",
      "  if event.key is 'enter':\n",
      "\n",
      "WARNING:py.warnings:/usr/local/lib/python3.11/dist-packages/huggingface_hub/utils/_auth.py:94: UserWarning: \n",
      "The secret `HF_TOKEN` does not exist in your Colab secrets.\n",
      "To authenticate with the Hugging Face Hub, create a token in your settings tab (https://huggingface.co/settings/tokens), set it as secret in your Google Colab and restart your session.\n",
      "You will be able to reuse this secret in all of your notebooks.\n",
      "Please note that authentication is recommended but still optional to access public models or datasets.\n",
      "  warnings.warn(\n",
      "\n"
     ]
    },
    {
     "data": {
      "application/vnd.jupyter.widget-view+json": {
       "model_id": "49d25496c5d64665bd164d86f1a50d5d",
       "version_major": 2,
       "version_minor": 0
      },
      "text/plain": [
       "tokenizer_config.json:   0%|          | 0.00/55.4k [00:00<?, ?B/s]"
      ]
     },
     "metadata": {},
     "output_type": "display_data"
    },
    {
     "data": {
      "application/vnd.jupyter.widget-view+json": {
       "model_id": "d9ade64f57c14fb1907dbe9cfd79a21b",
       "version_major": 2,
       "version_minor": 0
      },
      "text/plain": [
       "tokenizer.json:   0%|          | 0.00/9.09M [00:00<?, ?B/s]"
      ]
     },
     "metadata": {},
     "output_type": "display_data"
    },
    {
     "data": {
      "application/vnd.jupyter.widget-view+json": {
       "model_id": "11ad082761d04cd496f7a0399bd37849",
       "version_major": 2,
       "version_minor": 0
      },
      "text/plain": [
       "special_tokens_map.json:   0%|          | 0.00/296 [00:00<?, ?B/s]"
      ]
     },
     "metadata": {},
     "output_type": "display_data"
    },
    {
     "data": {
      "application/vnd.jupyter.widget-view+json": {
       "model_id": "528cdb6aaacf45dc9901ecfb80982b61",
       "version_major": 2,
       "version_minor": 0
      },
      "text/plain": [
       "config.json:   0%|          | 0.00/855 [00:00<?, ?B/s]"
      ]
     },
     "metadata": {},
     "output_type": "display_data"
    },
    {
     "data": {
      "application/vnd.jupyter.widget-view+json": {
       "model_id": "d44d06ea0de846a49d3fb1036dff9535",
       "version_major": 2,
       "version_minor": 0
      },
      "text/plain": [
       "model.safetensors.index.json:   0%|          | 0.00/23.9k [00:00<?, ?B/s]"
      ]
     },
     "metadata": {},
     "output_type": "display_data"
    },
    {
     "data": {
      "application/vnd.jupyter.widget-view+json": {
       "model_id": "0dd0cb503b804069a6df8de18d2f44e6",
       "version_major": 2,
       "version_minor": 0
      },
      "text/plain": [
       "Fetching 4 files:   0%|          | 0/4 [00:00<?, ?it/s]"
      ]
     },
     "metadata": {},
     "output_type": "display_data"
    },
    {
     "data": {
      "application/vnd.jupyter.widget-view+json": {
       "model_id": "fbb8e9c14e104e41a72eca94fa01587e",
       "version_major": 2,
       "version_minor": 0
      },
      "text/plain": [
       "model-00002-of-00004.safetensors:   0%|          | 0.00/5.00G [00:00<?, ?B/s]"
      ]
     },
     "metadata": {},
     "output_type": "display_data"
    },
    {
     "data": {
      "application/vnd.jupyter.widget-view+json": {
       "model_id": "795f18014b2b462797f3fc30748d86a3",
       "version_major": 2,
       "version_minor": 0
      },
      "text/plain": [
       "model-00003-of-00004.safetensors:   0%|          | 0.00/4.92G [00:00<?, ?B/s]"
      ]
     },
     "metadata": {},
     "output_type": "display_data"
    },
    {
     "data": {
      "application/vnd.jupyter.widget-view+json": {
       "model_id": "0d5009d4ecf34522886f647204450dbd",
       "version_major": 2,
       "version_minor": 0
      },
      "text/plain": [
       "model-00004-of-00004.safetensors:   0%|          | 0.00/1.17G [00:00<?, ?B/s]"
      ]
     },
     "metadata": {},
     "output_type": "display_data"
    },
    {
     "data": {
      "application/vnd.jupyter.widget-view+json": {
       "model_id": "c5979af33ff7457ebbcabae1850a7f80",
       "version_major": 2,
       "version_minor": 0
      },
      "text/plain": [
       "model-00001-of-00004.safetensors:   0%|          | 0.00/4.98G [00:00<?, ?B/s]"
      ]
     },
     "metadata": {},
     "output_type": "display_data"
    },
    {
     "data": {
      "application/vnd.jupyter.widget-view+json": {
       "model_id": "e3d35a11d9dd4aacba76760a6e1477f0",
       "version_major": 2,
       "version_minor": 0
      },
      "text/plain": [
       "Loading checkpoint shards:   0%|          | 0/4 [00:00<?, ?it/s]"
      ]
     },
     "metadata": {},
     "output_type": "display_data"
    },
    {
     "data": {
      "application/vnd.jupyter.widget-view+json": {
       "model_id": "2c6e3776a24c45bc90b4ab0ba1977f82",
       "version_major": 2,
       "version_minor": 0
      },
      "text/plain": [
       "generation_config.json:   0%|          | 0.00/184 [00:00<?, ?B/s]"
      ]
     },
     "metadata": {},
     "output_type": "display_data"
    },
    {
     "data": {
      "application/vnd.jupyter.widget-view+json": {
       "model_id": "77946132db3041fcb85494563735537e",
       "version_major": 2,
       "version_minor": 0
      },
      "text/plain": [
       "model_index.json:   0%|          | 0.00/706 [00:00<?, ?B/s]"
      ]
     },
     "metadata": {},
     "output_type": "display_data"
    },
    {
     "data": {
      "application/vnd.jupyter.widget-view+json": {
       "model_id": "46d6e656f2014f7ba667e66aa6460bfa",
       "version_major": 2,
       "version_minor": 0
      },
      "text/plain": [
       "Fetching 26 files:   0%|          | 0/26 [00:00<?, ?it/s]"
      ]
     },
     "metadata": {},
     "output_type": "display_data"
    },
    {
     "data": {
      "application/vnd.jupyter.widget-view+json": {
       "model_id": "81622d6428ab4a9489526f0ec4482c8d",
       "version_major": 2,
       "version_minor": 0
      },
      "text/plain": [
       "config.json:   0%|          | 0.00/574 [00:00<?, ?B/s]"
      ]
     },
     "metadata": {},
     "output_type": "display_data"
    },
    {
     "data": {
      "application/vnd.jupyter.widget-view+json": {
       "model_id": "a017b08d4a4c4b3b983b5c4a2d6940dd",
       "version_major": 2,
       "version_minor": 0
      },
      "text/plain": [
       "scheduler_config.json:   0%|          | 0.00/141 [00:00<?, ?B/s]"
      ]
     },
     "metadata": {},
     "output_type": "display_data"
    },
    {
     "data": {
      "application/vnd.jupyter.widget-view+json": {
       "model_id": "5a5545f470a448f9befb6079733ec71f",
       "version_major": 2,
       "version_minor": 0
      },
      "text/plain": [
       "config.json:   0%|          | 0.00/740 [00:00<?, ?B/s]"
      ]
     },
     "metadata": {},
     "output_type": "display_data"
    },
    {
     "data": {
      "application/vnd.jupyter.widget-view+json": {
       "model_id": "ddd63d22e53741efa2a3b9231d5c6d67",
       "version_major": 2,
       "version_minor": 0
      },
      "text/plain": [
       "config.json:   0%|          | 0.00/570 [00:00<?, ?B/s]"
      ]
     },
     "metadata": {},
     "output_type": "display_data"
    },
    {
     "data": {
      "application/vnd.jupyter.widget-view+json": {
       "model_id": "0096e6ca32304e91ae4f36db59268f67",
       "version_major": 2,
       "version_minor": 0
      },
      "text/plain": [
       "model-00002-of-00002.safetensors:   0%|          | 0.00/4.53G [00:00<?, ?B/s]"
      ]
     },
     "metadata": {},
     "output_type": "display_data"
    },
    {
     "data": {
      "application/vnd.jupyter.widget-view+json": {
       "model_id": "b3c524b36e6244589fd3ad403b1727a3",
       "version_major": 2,
       "version_minor": 0
      },
      "text/plain": [
       "model.safetensors:   0%|          | 0.00/1.39G [00:00<?, ?B/s]"
      ]
     },
     "metadata": {},
     "output_type": "display_data"
    },
    {
     "data": {
      "application/vnd.jupyter.widget-view+json": {
       "model_id": "515d7c54c73b4e0f9639ac056b9253cb",
       "version_major": 2,
       "version_minor": 0
      },
      "text/plain": [
       "model-00001-of-00002.safetensors:   0%|          | 0.00/4.99G [00:00<?, ?B/s]"
      ]
     },
     "metadata": {},
     "output_type": "display_data"
    },
    {
     "data": {
      "application/vnd.jupyter.widget-view+json": {
       "model_id": "7da48049c798458392d77406b4f6ac11",
       "version_major": 2,
       "version_minor": 0
      },
      "text/plain": [
       "model.safetensors.index.json:   0%|          | 0.00/19.9k [00:00<?, ?B/s]"
      ]
     },
     "metadata": {},
     "output_type": "display_data"
    },
    {
     "data": {
      "application/vnd.jupyter.widget-view+json": {
       "model_id": "20b3449f9acf4251b579c24203c1c6f4",
       "version_major": 2,
       "version_minor": 0
      },
      "text/plain": [
       "merges.txt:   0%|          | 0.00/525k [00:00<?, ?B/s]"
      ]
     },
     "metadata": {},
     "output_type": "display_data"
    },
    {
     "data": {
      "application/vnd.jupyter.widget-view+json": {
       "model_id": "98dc6b087d2141d28b96a58cbb4b273f",
       "version_major": 2,
       "version_minor": 0
      },
      "text/plain": [
       "model.safetensors:   0%|          | 0.00/247M [00:00<?, ?B/s]"
      ]
     },
     "metadata": {},
     "output_type": "display_data"
    },
    {
     "data": {
      "application/vnd.jupyter.widget-view+json": {
       "model_id": "b85dceb478e9461cbb845c6b9da881cd",
       "version_major": 2,
       "version_minor": 0
      },
      "text/plain": [
       "tokenizer_config.json:   0%|          | 0.00/705 [00:00<?, ?B/s]"
      ]
     },
     "metadata": {},
     "output_type": "display_data"
    },
    {
     "data": {
      "application/vnd.jupyter.widget-view+json": {
       "model_id": "b440e2e8b4554c31b993fad3ac51763e",
       "version_major": 2,
       "version_minor": 0
      },
      "text/plain": [
       "vocab.json:   0%|          | 0.00/1.06M [00:00<?, ?B/s]"
      ]
     },
     "metadata": {},
     "output_type": "display_data"
    },
    {
     "data": {
      "application/vnd.jupyter.widget-view+json": {
       "model_id": "d19bfa9458794515aefc6952c090729d",
       "version_major": 2,
       "version_minor": 0
      },
      "text/plain": [
       "special_tokens_map.json:   0%|          | 0.00/588 [00:00<?, ?B/s]"
      ]
     },
     "metadata": {},
     "output_type": "display_data"
    },
    {
     "data": {
      "application/vnd.jupyter.widget-view+json": {
       "model_id": "a7fc079f31674ef1bf4dad48910225e6",
       "version_major": 2,
       "version_minor": 0
      },
      "text/plain": [
       "special_tokens_map.json:   0%|          | 0.00/576 [00:00<?, ?B/s]"
      ]
     },
     "metadata": {},
     "output_type": "display_data"
    },
    {
     "data": {
      "application/vnd.jupyter.widget-view+json": {
       "model_id": "c9037550cd2844ed90903af2205ffb3a",
       "version_major": 2,
       "version_minor": 0
      },
      "text/plain": [
       "tokenizer_config.json:   0%|          | 0.00/856 [00:00<?, ?B/s]"
      ]
     },
     "metadata": {},
     "output_type": "display_data"
    },
    {
     "data": {
      "application/vnd.jupyter.widget-view+json": {
       "model_id": "52f67ab992a94957a7ee569b9f8f796e",
       "version_major": 2,
       "version_minor": 0
      },
      "text/plain": [
       "spiece.model:   0%|          | 0.00/792k [00:00<?, ?B/s]"
      ]
     },
     "metadata": {},
     "output_type": "display_data"
    },
    {
     "data": {
      "application/vnd.jupyter.widget-view+json": {
       "model_id": "f30afcea6c7246409f172c04f1952a1d",
       "version_major": 2,
       "version_minor": 0
      },
      "text/plain": [
       "tokenizer.json:   0%|          | 0.00/2.42M [00:00<?, ?B/s]"
      ]
     },
     "metadata": {},
     "output_type": "display_data"
    },
    {
     "data": {
      "application/vnd.jupyter.widget-view+json": {
       "model_id": "c383894597de4403904679c4021d4d30",
       "version_major": 2,
       "version_minor": 0
      },
      "text/plain": [
       "diffusion_pytorch_model.safetensors:   0%|          | 0.00/4.94G [00:00<?, ?B/s]"
      ]
     },
     "metadata": {},
     "output_type": "display_data"
    },
    {
     "data": {
      "application/vnd.jupyter.widget-view+json": {
       "model_id": "5f514a8420af47a6b80a7f050bddab7d",
       "version_major": 2,
       "version_minor": 0
      },
      "text/plain": [
       "tokenizer_config.json:   0%|          | 0.00/20.6k [00:00<?, ?B/s]"
      ]
     },
     "metadata": {},
     "output_type": "display_data"
    },
    {
     "data": {
      "application/vnd.jupyter.widget-view+json": {
       "model_id": "2c0537c9f4c8422a893d407acb21bb0c",
       "version_major": 2,
       "version_minor": 0
      },
      "text/plain": [
       "config.json:   0%|          | 0.00/809 [00:00<?, ?B/s]"
      ]
     },
     "metadata": {},
     "output_type": "display_data"
    },
    {
     "data": {
      "application/vnd.jupyter.widget-view+json": {
       "model_id": "607d7f268c5244b2a112e84caacee36f",
       "version_major": 2,
       "version_minor": 0
      },
      "text/plain": [
       "config.json:   0%|          | 0.00/524 [00:00<?, ?B/s]"
      ]
     },
     "metadata": {},
     "output_type": "display_data"
    },
    {
     "data": {
      "application/vnd.jupyter.widget-view+json": {
       "model_id": "abf19e44b1794c62b28e6d9d9ad10fea",
       "version_major": 2,
       "version_minor": 0
      },
      "text/plain": [
       "diffusion_pytorch_model.safetensors:   0%|          | 0.00/168M [00:00<?, ?B/s]"
      ]
     },
     "metadata": {},
     "output_type": "display_data"
    },
    {
     "data": {
      "application/vnd.jupyter.widget-view+json": {
       "model_id": "5a580f3661bc4c11b62e15720195c2c7",
       "version_major": 2,
       "version_minor": 0
      },
      "text/plain": [
       "special_tokens_map.json:   0%|          | 0.00/2.54k [00:00<?, ?B/s]"
      ]
     },
     "metadata": {},
     "output_type": "display_data"
    },
    {
     "data": {
      "application/vnd.jupyter.widget-view+json": {
       "model_id": "2ec39f16b7244b2ead9119eb07a30e4e",
       "version_major": 2,
       "version_minor": 0
      },
      "text/plain": [
       "Loading pipeline components...:   0%|          | 0/9 [00:00<?, ?it/s]"
      ]
     },
     "metadata": {},
     "output_type": "display_data"
    },
    {
     "name": "stderr",
     "output_type": "stream",
     "text": [
      "You set `add_prefix_space`. The tokenizer needs to be converted from the slow tokenizers\n"
     ]
    },
    {
     "data": {
      "application/vnd.jupyter.widget-view+json": {
       "model_id": "14f03b4091d345b3bcd5024246258670",
       "version_major": 2,
       "version_minor": 0
      },
      "text/plain": [
       "Loading checkpoint shards:   0%|          | 0/2 [00:00<?, ?it/s]"
      ]
     },
     "metadata": {},
     "output_type": "display_data"
    },
    {
     "name": "stdout",
     "output_type": "stream",
     "text": [
      "Colab notebook detected. To show errors in colab notebook, set debug=True in launch()\n",
      "* Running on public URL: https://480e79d8618f3814ad.gradio.live\n",
      "\n",
      "This share link expires in 1 week. For free permanent hosting and GPU upgrades, run `gradio deploy` from the terminal in the working directory to deploy to Hugging Face Spaces (https://huggingface.co/spaces)\n"
     ]
    },
    {
     "data": {
      "text/html": [
       "<div><iframe src=\"https://480e79d8618f3814ad.gradio.live\" width=\"100%\" height=\"500\" allow=\"autoplay; camera; microphone; clipboard-read; clipboard-write;\" frameborder=\"0\" allowfullscreen></iframe></div>"
      ],
      "text/plain": [
       "<IPython.core.display.HTML object>"
      ]
     },
     "metadata": {},
     "output_type": "display_data"
    },
    {
     "data": {
      "text/plain": []
     },
     "execution_count": 4,
     "metadata": {},
     "output_type": "execute_result"
    }
   ],
   "source": [
    "import gradio as gr\n",
    "import torch\n",
    "import tempfile\n",
    "import moviepy.editor as mpy\n",
    "import numpy as np\n",
    "from diffusers import StableDiffusion3Pipeline\n",
    "from transformers import AutoTokenizer, AutoModelForCausalLM\n",
    "from PIL import Image\n",
    "import pytesseract\n",
    "\n",
    "\n",
    "instruct_tokenizer = AutoTokenizer.from_pretrained(\"meta-llama/Llama-3.1-8B-Instruct\", trust_remote_code=True)\n",
    "instruct_model = AutoModelForCausalLM.from_pretrained(\n",
    "    \"meta-llama/Llama-3.1-8B-Instruct\",\n",
    "    torch_dtype=torch.float16,\n",
    "    device_map=\"auto\",\n",
    "    trust_remote_code=True\n",
    ").to(\"cuda\")\n",
    "\n",
    "\n",
    "sd_pipeline = StableDiffusion3Pipeline.from_pretrained(\n",
    "    \"stabilityai/stable-diffusion-3.5-medium\",\n",
    "    torch_dtype=torch.bfloat16\n",
    ")\n",
    "sd_pipeline = sd_pipeline.to(\"cuda\")\n",
    "\n",
    "def answer_question(image, question):\n",
    "    try:\n",
    "\n",
    "        if image is None:\n",
    "            image = Image.new(\"RGB\", (224, 224), (255, 255, 255))\n",
    "            extracted_text = \"\"\n",
    "            combined_prompt = f\"Question: {question}\\nAnswer:\"\n",
    "        else:\n",
    "            image = image.convert(\"RGB\")\n",
    "\n",
    "            extracted_text = pytesseract.image_to_string(image)\n",
    "            if not extracted_text.strip():\n",
    "                extracted_text = \"No text detected in the image.\"\n",
    "\n",
    "            combined_prompt = (\n",
    "                f\"Image context: {extracted_text}\\n\"\n",
    "                f\"Question: {question}\\n\"\n",
    "                f\"Answer concisely in context of the image:\"\n",
    "            )\n",
    "\n",
    "\n",
    "        inputs = instruct_tokenizer(combined_prompt, return_tensors=\"pt\").to(\"cuda\")\n",
    "        prompt_length = inputs[\"input_ids\"].shape[1]\n",
    "\n",
    "        outputs = instruct_model.generate(**inputs, max_new_tokens=2048)\n",
    "        generated_tokens = outputs[0][prompt_length:]\n",
    "        answer_text = instruct_tokenizer.decode(generated_tokens, skip_special_tokens=True).strip()\n",
    "\n",
    "\n",
    "        refined_prompt = (\n",
    "            f\"Create a highly detailed, educational illustration that visually explains the following answer: '{answer_text}'. \"\n",
    "            f\"Focus on the key elements and context of the answer and include clear, legible text annotations with high contrast. \"\n",
    "            f\"Ensure all textual elements are crisp and easily readable.\"\n",
    "        )\n",
    "        gen_image = sd_pipeline(\n",
    "            prompt=refined_prompt,\n",
    "            height=768,\n",
    "            width=768,\n",
    "            num_inference_steps=70,\n",
    "            guidance_scale=7.5\n",
    "        ).images[0]\n",
    "\n",
    "\n",
    "        frames = []\n",
    "        seeds = [42, 123, 987]\n",
    "        for seed in seeds:\n",
    "            generator = torch.Generator(\"cuda\").manual_seed(seed)\n",
    "            result = sd_pipeline(\n",
    "                prompt=refined_prompt,\n",
    "                height=768,\n",
    "                width=768,\n",
    "                num_inference_steps=70,\n",
    "                guidance_scale=7.5,\n",
    "                generator=generator\n",
    "            )\n",
    "            frames.append(np.array(result.images[0]))\n",
    "        video_path = tempfile.mktemp(suffix=\".mp4\")\n",
    "        clip = mpy.ImageSequenceClip(frames, fps=1)\n",
    "        clip.write_videofile(video_path, codec=\"libx264\", audio=False)\n",
    "\n",
    "        return answer_text, gen_image, video_path\n",
    "\n",
    "    except Exception as e:\n",
    "        return f\"Error: {str(e)}\", None, None\n",
    "\n",
    "\n",
    "interface = gr.Interface(\n",
    "    fn=answer_question,\n",
    "    inputs=[\n",
    "        gr.Image(label=\"Upload Image (optional)\", type=\"pil\"),\n",
    "        gr.Textbox(label=\"Question\")\n",
    "    ],\n",
    "    outputs=[\n",
    "        gr.Textbox(label=\"Answer\"),\n",
    "        gr.Image(label=\"Generated Illustration\"),\n",
    "        gr.Video(label=\"Generated Video\")\n",
    "    ],\n",
    "    title=\"Virtual Tutor\"\n",
    ")\n",
    "\n",
    "interface.launch(share=True)\n"
   ]
  },
  {
   "cell_type": "code",
   "execution_count": null,
   "metadata": {
    "collapsed": true,
    "id": "z8-IT4rbu4w1"
   },
   "outputs": [],
   "source": [
    "#mistralwala\n",
    "torch.cuda.empty_cache()"
   ]
  },
  {
   "cell_type": "code",
   "execution_count": null,
   "metadata": {
    "id": "Zno_hzDkm1R2"
   },
   "outputs": [],
   "source": []
  },
  {
   "cell_type": "code",
   "execution_count": null,
   "metadata": {
    "id": "KGXXzmWVm1Um"
   },
   "outputs": [],
   "source": []
  },
  {
   "cell_type": "code",
   "execution_count": null,
   "metadata": {
    "id": "yr2gv-FIm1X1"
   },
   "outputs": [],
   "source": []
  },
  {
   "cell_type": "code",
   "execution_count": null,
   "metadata": {
    "colab": {
     "base_uri": "https://localhost:8080/",
     "height": 1000,
     "referenced_widgets": [
      "99243ec35f5d4e0a8c07581a07fa715f",
      "850782d089634383b6b4ddfc94a93b29",
      "5a24e06635eb4c2196542128c3d61c77",
      "03985bfa8e0f4d0292f39d2d3873d3c1",
      "817dd2c19b2c428084795b74d6b17477",
      "def43f72b8e24d28a20581d9123ce22c",
      "2fcee94674ad4c7dac0957ebf7096c90",
      "dfd012e5827247e881a5fad41921a724",
      "dd3c2fbda7c24ad9a9b72b394980746e",
      "880f3533f691458e943b0100062dd837",
      "b386e3fd3a334d97940495dc853e95aa",
      "3d9b04ab61eb4d7b9d9f3cf216a69039",
      "6858adb3f18c46d5918884392ca95d78",
      "a52910e1ebac4d05af19a4802d22e2c0",
      "734de9e6467745c6816060eaf95e5309",
      "47172d1bf54e4848bf344f642f5fd477",
      "79c784a127584aedbf3ffe04e4ec544c",
      "217ce5300af54b878bd655f369156da8",
      "61ee2734f6db430ead086a60736c3725",
      "ef5912dfba1e4a63ac94346bbef52806",
      "662e8c785aae4c2aa55a7386937e02f3",
      "e6f10f1911874f989464e5c00c9d17b9",
      "4824d6471d954daa8f83b6f9468c8718",
      "2089b92e01984234afe2f25610b1e589",
      "9e5a0305c0ba4f889addb01674451697",
      "cb956b70756d4d0cbd474b095c9f0dee",
      "ab5847bbcc844b3684e473a9e5435348",
      "2b76772361194ba595930d79c114b663",
      "f86087d485404f44b49df12fb9c6db9e",
      "ae4d97baf1ba4cde998162aaa23df91c",
      "2346b58c22d946b6842cae0f9054e3c6",
      "dc3fa0a69a97403fa243309109dbade1",
      "fc761804bae340e2b82fd41f0f12b171",
      "3f250ebe90074ed69635d3936ae58abd",
      "e24d1e95ec154610a23c03eefa5907ff",
      "c433baa6eea64a9ebe47cf631940b5bf",
      "9a1da3d27c114ba19954fe3f4bdf70d2",
      "c82ab7ebfeb74664b4f4a53be39b5f2e",
      "57171a1adf674c63842d7d5c1cc18ac7",
      "fed53a7d33bd460eb210d11d73b1b4e7",
      "cbb80ff1100143a3a3b56cc2d7f642e6",
      "68d652668918430b90f6e71070a6e12e",
      "34709dd51eea441ba809c3dbf68d359f",
      "867a29bb21864dd1ab7bb8a94c1a35eb",
      "d91f85cdd9a04334bf94ec99fcbeb43a",
      "3baf26cfb09c4d3ca538d85bcf86b6e1",
      "55bda698280e41758d96debb64b52b36",
      "5534717d3bf0424085311216edcb5ac6",
      "e3e90d3ef02a42939c5c0b823ef1402e",
      "6ff836ca6da04bc1a9b40e7dd113bf3d",
      "479420891a46430fba94cc79dc4ea03e",
      "44b3dd4cf6b646fbad1e362b32f22855",
      "529671136b864255939123cd2072265e",
      "86cfbb1662414a30be4297167da04ea6",
      "d20cab5aa35e40e385117470686878c0",
      "c3a3ee241feb4cd28d1794eee17e59ae",
      "a060955441e044c7ad2b1d56404bf431",
      "b7408781f907470bb9eff6ca7f5571d5",
      "85fbea82774d48d4b98e6b33dd1e785f",
      "8f10fab5d6b74cedb64810af0b33e667",
      "cbab3a4a900f4d13b15094275233c408",
      "1994f93f9ad346fba72882b637b4fba7",
      "03f00a657318453d9e7efe07151fb0b2",
      "230efdd1551d430d8d477d52a28fa59d",
      "5f285fe5c54e471c9f80eea4d89d7a10",
      "529b722932314d5bb4e785d4cd438253",
      "d0e4d38bedc1476c94d194f3596ac6aa",
      "8310aaa76c2c466bb290cb5882d234c3",
      "835ce50ffe23430694e26d6d57802c3b",
      "b15dda98d02d499f8a433921a54ad538",
      "8897f4c5e77d48e894f5c145e3b7fe19",
      "bbdc18f08e134791a99772ac216da8b0",
      "a8f9f5a08f6e469fad908cfad6ab4f73",
      "333e552663624418993cb927601af1b1",
      "b44fc6b83b114a88967069ba96d08ee5",
      "08e4eae92a434bb8bbc59cf0603ea961",
      "70671d9a37e745bda57843c2b8ea8bbf",
      "58ab8d7bfa07493583951b6c2bec0a89",
      "1754daede9914cc0aee44c963c6067b0",
      "8b70cd4380a7435b8e51d25443e6d976",
      "d09436a02c2c49388f97901946f75311",
      "c021c77404064a65b573204137845253",
      "642e5e01fc964371a7a5fb248cff66f4",
      "5983dc44a02e4a249ad9a7961e059965",
      "893d1a4ba9094a1da5d28ab60b3c08e2",
      "2966b5079f38411bb203286eb1b00c84",
      "29edbe50987e4fb0849e188bb28e0682",
      "150919139d1b4667bba79915aa4db1b9",
      "d66e9ea53bff4bf481f0a4ef98e2791d",
      "16ef67516974491d9fc6d9e5b79fd805",
      "a327d19c92894f35a571cd65839804d5",
      "40eeba529e574ddb8029adc2a47fadad",
      "b8081d9ad6ca43429a6388515dffec57",
      "900940a3006f43c1b1909f77321cdd88",
      "332f2caf49f7492686e76b876acfcb87",
      "043d4a24e4c94a179a33d739b711e362",
      "d86b6591209d4e26aadcfbcbfccd4530",
      "8470854d8911439eb0639618efd316e9",
      "7322d5ddcbdd4c57995c9e5963c68748",
      "08af3982a66842d88997db779270b61f",
      "9af388278cb94557af45c7583fbb64df",
      "819cd0893a8b4176bbbd24b39841c069",
      "e7b41b4147144d5e863f702c994275d2",
      "a9239580dfb34c19bbecacedfdd92663",
      "3cbe1c65d97e406ba21234d51aebc715",
      "f1a7d7d483704815bf552e8ee578e347",
      "7196c6851e314e6186d1cb2e4482948f",
      "5a2a613d91564723804b3d15b80e5129",
      "472663de469b4036aad4e2073c5c4854",
      "ddb29e4bd0184d7982af26bd4613d859",
      "93ab2e183d774fea8a73c342f51d74dd",
      "db4aa31bdacc4e29b8477d3558c29f1b",
      "71352899e984402e956291073175a87a",
      "2fe586e59a1e4325a01a53d15e2a6311",
      "23bbb18c784a4784b203183f05f5a526",
      "6aa068a9c48a4e1abed76832addde92f",
      "0b6d4ab6adfa4aab83dd775f4ddaa8d7",
      "47abad3e21ed40f592fe1ea055359d44",
      "a7b7a37297ea4afdb3b32987c44ef4b1",
      "d62a5772bc744f23abc232092a28ed8e",
      "d86c70f000a8439e88e65543b9560660",
      "f3b5a00257bb4ebeb62db03cf3deb9d7",
      "c29b57b258204b3bb2ac58a06484d1d2",
      "5775f4d6683647d08096750968b05878",
      "cc15d4b7c5b84ac9b2ed6913da73b138",
      "1a7525790af14a3c95b2b594f315c277",
      "141ac5eacf7a4efd975e2be579c243fb",
      "9e27b3db5c68484c80a1aad8bc248e16",
      "6003d6f7e7f04948b30bb2dc122381dc",
      "ea6f4f219f6041ed921a1d6b7946b47b",
      "3920eceb704a4e219165084ef86b3e60",
      "2903f68ed0854b32b63cd1c463752b76",
      "185f845cacf041de92e25b3ee068b4b0",
      "63f8dbe97d904f2c88eb69bdfc3204ac",
      "4d2fa78ddf854637a2c255b1bba4485a",
      "d3b00aa4624b46ad8cc75cdcf75a0d4e",
      "0005c6b40c8d42418d28543497baf93f",
      "1991e03cf0a240b0b8b0dfd83cbf4a86",
      "fb387dc06698484699b5cd77eb905b64",
      "99df91e2962341f38a9bc7a53eef1148",
      "6d8c6b765e9843e0bb289f7f468575d5",
      "6625ba65ea494aaf87277400020dea41",
      "55ee310955934cd98064f59b3fb18cd7",
      "7435aed5b5f64a0292556edfed66836d",
      "125a7a754b194f818bef75160d2d4814",
      "45220b621d3e43f4a167c5cb1a7b3096",
      "8811447bbb9b4543aa78d96e2b6bfd0d",
      "c7c8336595b74b0ea97440df0c9e672a",
      "58dbd8af00b048ef9e86055a8d689f5d",
      "305947dacb8b415d8f37ef4c49b84c04",
      "595e170edf084104a543336cc6d76687",
      "2c61c5e3595c4e72a1bf22057159069f",
      "cfead433b5fa4e549f7eefd294fc7c77",
      "d2938d744e844f369a029161e7f9bde5",
      "b5d8552d48be4618b605b3e22fe17449",
      "dec8fa9e203d4050a07de0745466787f",
      "9877fee81a654188b5cc0a0ef51d7239",
      "d8709dcbe281408c97d532eb5303ccee",
      "0d9c54f4393349dcbcd598d3624ab813",
      "645247e9cad549d98cd25a39cb9d64fd",
      "ee6b5d23a3c2492da6467b751be75afe",
      "6591711e03a440589f7dd16177c132e0",
      "67c1a55a16c94217b3a1b9dd3685a060",
      "011417b70b06478094f5a09ce98fcc99",
      "3f113e1cad4c4124be6f51d0ace99e94",
      "b43295e0c65d4a0cb7bfaaf33216ba68",
      "b0bccdd17c844c03a1e7187a88695db7",
      "97b5b595f6ae483f9f3ce3487ad968e2",
      "da4080b4fb934f52b138e375c68f229e",
      "412eb055c4564864a3bfc0ed4dc230b5",
      "d52e26bbf2e643059feda7488e308c1c",
      "30daacfaddf04e36b73ec68bc578623f",
      "982495a4dd174e47b72aef49426d1d52",
      "5c7cd50cb2324420ab6c05b7180a9461",
      "6116a4d4eec34926be10f345c5c001f9",
      "cd24cce9b5634867bd8a5294461d8c33",
      "626d937eac2d44de9cce3f36b0911a3a",
      "09afd5b5e2574f348e414d372d0568e6",
      "6cc811728faa4f07a43d6a5a611b7530",
      "478d0375020e4dd099b6347e503b36cc",
      "0b9cd33cea6a49629f772eecd3427260",
      "274b480d21d14825bb793f122eaaeb19",
      "7dd1af8814dd44e69c50f9876c7c96f3",
      "dd0b4b6a11de40458030f8f20aaf1474",
      "931e0e0bf3bd4328a2079b526e70e95a",
      "11a6b0fabc934654ba0c00d8ee93b7dd",
      "71bb28fa28bd49be82b034ac211c39d4",
      "97989d5edb2b4616b742945084fbeb1d",
      "de47849c430f44c59ddb9e430ebdb8eb",
      "adc157561e5b4f3d84621a3eb6712173",
      "336adc4a04b64497b804b9d7a572d904",
      "8c17c871441f4dcf9f42a3763be25117",
      "d125233a4fd74625aa1570e92b227242",
      "f2d1a56a003645ec8edaa42ae2ecc2e4",
      "bd302fdcb11c44d49f465f49d118a15d",
      "6e8092dd7d4849fc853c2265322dda75",
      "1983b614bbdf4b2f9f0044ee3f5456e2",
      "f5bae067356749688c031c6732744fba",
      "9f78fda07abe49afad3fb14ccf3e8232",
      "2db9c51269d0473d97444c5b7accbbdc",
      "0c2abd3f41d543f4ab5ab1e11674d010",
      "b521b49d75984655a8269ede92df93a6",
      "397f60bc28174640a439e85dadc9a4bf",
      "570617e621ef4bf48bfff03cca33ddb3",
      "947cf59739594101ba0a48c4f637d678",
      "a43826a342464f16aff22b644ffc1130",
      "7fafed03b3494ddc92c89072b64094f2",
      "c40dbc7a17364d4ba92da78ebc647ab1",
      "13e650d1c4c84fbf9d5ffd6385f2e836",
      "7ae87ef55f0343b498575b85e1fdf28d",
      "f1ee2e625bc14b33a7a91b8c846b2435",
      "4ebd30ca2fdf4965ae50ef14580da615",
      "8a8c409f4da74590879311c8e7d1c82e",
      "2c10b1a23b024dc2a6d39ee1ba1e01fb",
      "43b47e08b7524c94800a890023aecf41",
      "ff259940cff840699edf7cc5a4cbc8f3",
      "62157b64d4a54d9eb060966a75bd3b2c",
      "e297683a0d584e0d93aa8d5157f787c5",
      "5e2fc059894844df9ffd102e486cff0f",
      "21090f15a7b5429e9a14455fae2d38bf",
      "1c380ced70a543aaa38dbe04f0620c91",
      "861c2248eb4b463c833a8db6dbd2899d",
      "6eb0f4ea58ea4e5196f1ef16f3cdb31d",
      "8f78de004dc64966abb692afde5cfe3a",
      "046752fb66244531beed1e264c90798f",
      "44c31d5b3e5b4bc9baea874d7d384652",
      "a0661a51bf5d4f638b7ec1f0e56bb61c",
      "2359df6c2b324974a71f62fa6971d51e",
      "e1fb2c9cc4764f6aa51d27c14d502108",
      "cbca9c91cc7b4660b631bc0e6cd3e33b",
      "f6f1538a6c7443c0aca7e3ee25d951c1",
      "6d1a9be2432c42bf8b97e15898a9b1de",
      "4138bfc0e0a74840a8f75112ca6b4302",
      "c57a9464002f4fb997f9818470214852",
      "795fa25e433841798d0f078b98e58ad2",
      "d20d9c07e3fd4f01906503e3c73bd290",
      "b29ccec7679c4039bf1b7b518f2d4bda",
      "19b88ccb0391417a928b418b4b684254",
      "004ac32c45324177b141c2cb506f16e8",
      "79bbfd37c7284216a31bfbede6db22d7",
      "8a25a7e5fca746ca9390d87264875071",
      "57b2a3a869e74d5592f21d1661aabef2",
      "becb434452614114bd12d3222af2cd41",
      "afb67429772a4187bccfd6cb5baa81d0",
      "f84201b1f099414a8a3f116d3e0474ec",
      "26e6498fc429474bbf1498940a40868e",
      "1531ac51b460423e9b83a92bef2e7399",
      "9e3b818888734e4793d1bfb61e6159e9",
      "c1c2ad754cb64151aa6a22e307df8f01",
      "06076bcf02404eb7b2d5190b5c33114c",
      "fa93f02eec3a4aa0bb0554344e7ee4fd",
      "117f8f8bfb454cb1acfd408d07a47124",
      "68bc70618835495f84e86daf98126437",
      "2e5dd40280974cd9b823445c7f285ede",
      "8d34b113495d446292d0b542f89eb91e",
      "e7b162ab231541b4a688ff7e8a7112f2",
      "2410b821b11b4aff9643e5f819cda001",
      "abd66e9df04c458890e3ea0dd31992dc",
      "249fc41d1d8e47fb840be6a3362b961f",
      "dc2e7e6c46a341aabb9a8cd67c5ee86e",
      "ac570196024148a18add5989518e5bb2",
      "f7f0b7a70bd046b8820e658c6aaf8a5f",
      "43cb203c40d04f37ae326cc7dfb77755",
      "535fc740ff19463fa07482adf0bad3f7",
      "55484665f87146b1b1cc6bbbb40823b6",
      "a5b5f9e29e8b49f4a401010744c02acb",
      "a72fc5bab25c427994bd7048bef408fe",
      "42faa852f1bf4495a623af0f04bd827c",
      "dc0da386f0ae4c1db35d988ae8f447ee",
      "fd18583a601946679c2a6c059d39fc7a",
      "3273996882384f1788270ece4c4c96da",
      "7595095338fa4bef8a9f73f73501c8c9",
      "98078a2c319d4578a86ed4cdf4604c1b",
      "04486f64aa9c42ce90e8591290036bba",
      "ac4239f1466c48d69bf4d20dfd7ad05c",
      "f9c3c300e34e4fdf83a549975c5b2980",
      "f6465c70fcb94d949f8fba6130f410d8",
      "a4fb31cb3a8242d1b71e341d46ad1dc0",
      "d5c65b51b6ee4eb8a5b0dbc3d3fb9ef8",
      "1de9774ef4d4412c84efebaddeaf2604",
      "474a85cb64aa4fbc8d60ba55377a6532",
      "dd2d29a4a403465386639d84b7a94f20",
      "8d7fcea04de34c389697f676bd7fc58a",
      "79a2492947714c1fb1acdd5435ddf565",
      "e96781cc4a1a4d63a80d10b4a32fe03a",
      "cc4e03cb3be34a708ff115a4649b4913",
      "d8e71e1a3cb6433993443133d2f27d60",
      "623f288d42fb43f19cd73dcc6ba99cbf",
      "5ad814293e664002a19bba4e9111b3b3",
      "e2869759d12c484a9969f0b075d8ea32",
      "c3711361be40447daa6d2aa3d933035f",
      "f468148bc4af470ebc7387dd8ea68bce",
      "ffbb5b5662a142d6a99bf45c4a8e21ef",
      "6b4c6ca48ae34389866e13a2a0b0c06f",
      "2533f820b470470b856110c05a4b0ec9",
      "ec7e6e5000574403bc35764f9e7326a8",
      "203fb69e6d4f435a87d8674190773931",
      "96a2fb616f874d5798c0de86e08b58f0",
      "c0e3836d0f23480586beb18f362f44ae",
      "d72146009efa490ba77638c218aee309",
      "c797c4b7bbc3436dbee4bd4769915b59",
      "cdfdb29a35184458a0067e86e140c2c9",
      "8dbf09092d024c558f707c199bd8118a",
      "459b0ec2c7d846aa9a7144e04a39d4fa",
      "35800b60cdfa404dbb137575f1789723",
      "7e5b2ed3b07241099cf7f1f65a771f60",
      "89b4ca07119441b0bac0ef3eae2547d6",
      "ac519ffe92ea488b89215115a14e2f4e",
      "b96d2acc55ad4e2fbd0abafb1aa7dccb",
      "3d89bbc3b730425e8621ab859ae0ce5c",
      "b097e162166248e2819c33877100a0d1",
      "5a84c633160745fd8c8d3633524e265c",
      "e31ed0c1e5b643869fe83513cf2c427e",
      "c8961e6bd2b741469828757ca4ffb46b",
      "f2319e3bb245464b8313af06f5c71023",
      "11d47808e3f744709bc2b4e85d50ecbc",
      "7caf6bbc085648029a78816ee748cde4",
      "a03025a56b6049a2895823caf9b82fbe",
      "4a921349842c48a79db3e4af45b2d67c",
      "a37e4b26b2eb46a58687ff4f520cdc81",
      "4eec8ed263c9477a9d2173d5a9b24297",
      "2b4a7a2f18f44309accd453c2310a58a",
      "1763eb65c3b04c9983eb8bd52da4f421",
      "c807894f04324cb0b2476831b4f15a4f",
      "90ce3a6bd0424374ad376c7c8b8c3ae3",
      "35acf41a4cb142f58eee4ae24144715d",
      "1c8f35261c414c08ac064397668c4d4f",
      "bb97044f95e44415a8413d53590db7be",
      "ff1b9c04998a4c54b24596db691ca0b9",
      "dad232df2aad454eade53fb09f1f5411"
     ]
    },
    "id": "dqH56Oet4Ki2",
    "outputId": "18953d70-11bf-437d-c065-a758914c06b2"
   },
   "outputs": [
    {
     "data": {
      "application/vnd.jupyter.widget-view+json": {
       "model_id": "99243ec35f5d4e0a8c07581a07fa715f",
       "version_major": 2,
       "version_minor": 0
      },
      "text/plain": [
       "tokenizer_config.json:   0%|          | 0.00/141k [00:00<?, ?B/s]"
      ]
     },
     "metadata": {},
     "output_type": "display_data"
    },
    {
     "data": {
      "application/vnd.jupyter.widget-view+json": {
       "model_id": "3d9b04ab61eb4d7b9d9f3cf216a69039",
       "version_major": 2,
       "version_minor": 0
      },
      "text/plain": [
       "tokenizer.model:   0%|          | 0.00/587k [00:00<?, ?B/s]"
      ]
     },
     "metadata": {},
     "output_type": "display_data"
    },
    {
     "data": {
      "application/vnd.jupyter.widget-view+json": {
       "model_id": "4824d6471d954daa8f83b6f9468c8718",
       "version_major": 2,
       "version_minor": 0
      },
      "text/plain": [
       "tokenizer.json:   0%|          | 0.00/1.96M [00:00<?, ?B/s]"
      ]
     },
     "metadata": {},
     "output_type": "display_data"
    },
    {
     "data": {
      "application/vnd.jupyter.widget-view+json": {
       "model_id": "3f250ebe90074ed69635d3936ae58abd",
       "version_major": 2,
       "version_minor": 0
      },
      "text/plain": [
       "special_tokens_map.json:   0%|          | 0.00/414 [00:00<?, ?B/s]"
      ]
     },
     "metadata": {},
     "output_type": "display_data"
    },
    {
     "data": {
      "application/vnd.jupyter.widget-view+json": {
       "model_id": "d91f85cdd9a04334bf94ec99fcbeb43a",
       "version_major": 2,
       "version_minor": 0
      },
      "text/plain": [
       "config.json:   0%|          | 0.00/601 [00:00<?, ?B/s]"
      ]
     },
     "metadata": {},
     "output_type": "display_data"
    },
    {
     "data": {
      "application/vnd.jupyter.widget-view+json": {
       "model_id": "c3a3ee241feb4cd28d1794eee17e59ae",
       "version_major": 2,
       "version_minor": 0
      },
      "text/plain": [
       "model.safetensors.index.json:   0%|          | 0.00/23.9k [00:00<?, ?B/s]"
      ]
     },
     "metadata": {},
     "output_type": "display_data"
    },
    {
     "data": {
      "application/vnd.jupyter.widget-view+json": {
       "model_id": "d0e4d38bedc1476c94d194f3596ac6aa",
       "version_major": 2,
       "version_minor": 0
      },
      "text/plain": [
       "Fetching 3 files:   0%|          | 0/3 [00:00<?, ?it/s]"
      ]
     },
     "metadata": {},
     "output_type": "display_data"
    },
    {
     "data": {
      "application/vnd.jupyter.widget-view+json": {
       "model_id": "58ab8d7bfa07493583951b6c2bec0a89",
       "version_major": 2,
       "version_minor": 0
      },
      "text/plain": [
       "model-00001-of-00003.safetensors:   0%|          | 0.00/4.95G [00:00<?, ?B/s]"
      ]
     },
     "metadata": {},
     "output_type": "display_data"
    },
    {
     "data": {
      "application/vnd.jupyter.widget-view+json": {
       "model_id": "d66e9ea53bff4bf481f0a4ef98e2791d",
       "version_major": 2,
       "version_minor": 0
      },
      "text/plain": [
       "model-00003-of-00003.safetensors:   0%|          | 0.00/4.55G [00:00<?, ?B/s]"
      ]
     },
     "metadata": {},
     "output_type": "display_data"
    },
    {
     "data": {
      "application/vnd.jupyter.widget-view+json": {
       "model_id": "08af3982a66842d88997db779270b61f",
       "version_major": 2,
       "version_minor": 0
      },
      "text/plain": [
       "model-00002-of-00003.safetensors:   0%|          | 0.00/5.00G [00:00<?, ?B/s]"
      ]
     },
     "metadata": {},
     "output_type": "display_data"
    },
    {
     "data": {
      "application/vnd.jupyter.widget-view+json": {
       "model_id": "93ab2e183d774fea8a73c342f51d74dd",
       "version_major": 2,
       "version_minor": 0
      },
      "text/plain": [
       "Loading checkpoint shards:   0%|          | 0/3 [00:00<?, ?it/s]"
      ]
     },
     "metadata": {},
     "output_type": "display_data"
    },
    {
     "data": {
      "application/vnd.jupyter.widget-view+json": {
       "model_id": "f3b5a00257bb4ebeb62db03cf3deb9d7",
       "version_major": 2,
       "version_minor": 0
      },
      "text/plain": [
       "generation_config.json:   0%|          | 0.00/116 [00:00<?, ?B/s]"
      ]
     },
     "metadata": {},
     "output_type": "display_data"
    },
    {
     "data": {
      "application/vnd.jupyter.widget-view+json": {
       "model_id": "185f845cacf041de92e25b3ee068b4b0",
       "version_major": 2,
       "version_minor": 0
      },
      "text/plain": [
       "model_index.json:   0%|          | 0.00/685 [00:00<?, ?B/s]"
      ]
     },
     "metadata": {},
     "output_type": "display_data"
    },
    {
     "data": {
      "application/vnd.jupyter.widget-view+json": {
       "model_id": "7435aed5b5f64a0292556edfed66836d",
       "version_major": 2,
       "version_minor": 0
      },
      "text/plain": [
       "Fetching 18 files:   0%|          | 0/18 [00:00<?, ?it/s]"
      ]
     },
     "metadata": {},
     "output_type": "display_data"
    },
    {
     "data": {
      "application/vnd.jupyter.widget-view+json": {
       "model_id": "b5d8552d48be4618b605b3e22fe17449",
       "version_major": 2,
       "version_minor": 0
      },
      "text/plain": [
       "model.fp16.safetensors:   0%|          | 0.00/246M [00:00<?, ?B/s]"
      ]
     },
     "metadata": {},
     "output_type": "display_data"
    },
    {
     "data": {
      "application/vnd.jupyter.widget-view+json": {
       "model_id": "b43295e0c65d4a0cb7bfaaf33216ba68",
       "version_major": 2,
       "version_minor": 0
      },
      "text/plain": [
       "model.fp16.safetensors:   0%|          | 0.00/1.39G [00:00<?, ?B/s]"
      ]
     },
     "metadata": {},
     "output_type": "display_data"
    },
    {
     "data": {
      "application/vnd.jupyter.widget-view+json": {
       "model_id": "626d937eac2d44de9cce3f36b0911a3a",
       "version_major": 2,
       "version_minor": 0
      },
      "text/plain": [
       "special_tokens_map.json:   0%|          | 0.00/586 [00:00<?, ?B/s]"
      ]
     },
     "metadata": {},
     "output_type": "display_data"
    },
    {
     "data": {
      "application/vnd.jupyter.widget-view+json": {
       "model_id": "97989d5edb2b4616b742945084fbeb1d",
       "version_major": 2,
       "version_minor": 0
      },
      "text/plain": [
       "merges.txt:   0%|          | 0.00/525k [00:00<?, ?B/s]"
      ]
     },
     "metadata": {},
     "output_type": "display_data"
    },
    {
     "data": {
      "application/vnd.jupyter.widget-view+json": {
       "model_id": "9f78fda07abe49afad3fb14ccf3e8232",
       "version_major": 2,
       "version_minor": 0
      },
      "text/plain": [
       "tokenizer_config.json:   0%|          | 0.00/704 [00:00<?, ?B/s]"
      ]
     },
     "metadata": {},
     "output_type": "display_data"
    },
    {
     "data": {
      "application/vnd.jupyter.widget-view+json": {
       "model_id": "7ae87ef55f0343b498575b85e1fdf28d",
       "version_major": 2,
       "version_minor": 0
      },
      "text/plain": [
       "config.json:   0%|          | 0.00/575 [00:00<?, ?B/s]"
      ]
     },
     "metadata": {},
     "output_type": "display_data"
    },
    {
     "data": {
      "application/vnd.jupyter.widget-view+json": {
       "model_id": "1c380ced70a543aaa38dbe04f0620c91",
       "version_major": 2,
       "version_minor": 0
      },
      "text/plain": [
       "scheduler_config.json:   0%|          | 0.00/459 [00:00<?, ?B/s]"
      ]
     },
     "metadata": {},
     "output_type": "display_data"
    },
    {
     "data": {
      "application/vnd.jupyter.widget-view+json": {
       "model_id": "6d1a9be2432c42bf8b97e15898a9b1de",
       "version_major": 2,
       "version_minor": 0
      },
      "text/plain": [
       "config.json:   0%|          | 0.00/565 [00:00<?, ?B/s]"
      ]
     },
     "metadata": {},
     "output_type": "display_data"
    },
    {
     "data": {
      "application/vnd.jupyter.widget-view+json": {
       "model_id": "becb434452614114bd12d3222af2cd41",
       "version_major": 2,
       "version_minor": 0
      },
      "text/plain": [
       "vocab.json:   0%|          | 0.00/1.06M [00:00<?, ?B/s]"
      ]
     },
     "metadata": {},
     "output_type": "display_data"
    },
    {
     "data": {
      "application/vnd.jupyter.widget-view+json": {
       "model_id": "2e5dd40280974cd9b823445c7f285ede",
       "version_major": 2,
       "version_minor": 0
      },
      "text/plain": [
       "tokenizer_config.json:   0%|          | 0.00/855 [00:00<?, ?B/s]"
      ]
     },
     "metadata": {},
     "output_type": "display_data"
    },
    {
     "data": {
      "application/vnd.jupyter.widget-view+json": {
       "model_id": "55484665f87146b1b1cc6bbbb40823b6",
       "version_major": 2,
       "version_minor": 0
      },
      "text/plain": [
       "special_tokens_map.json:   0%|          | 0.00/460 [00:00<?, ?B/s]"
      ]
     },
     "metadata": {},
     "output_type": "display_data"
    },
    {
     "data": {
      "application/vnd.jupyter.widget-view+json": {
       "model_id": "f9c3c300e34e4fdf83a549975c5b2980",
       "version_major": 2,
       "version_minor": 0
      },
      "text/plain": [
       "diffusion_pytorch_model.fp16.safetensors:   0%|          | 0.00/5.14G [00:00<?, ?B/s]"
      ]
     },
     "metadata": {},
     "output_type": "display_data"
    },
    {
     "data": {
      "application/vnd.jupyter.widget-view+json": {
       "model_id": "d8e71e1a3cb6433993443133d2f27d60",
       "version_major": 2,
       "version_minor": 0
      },
      "text/plain": [
       "config.json:   0%|          | 0.00/1.78k [00:00<?, ?B/s]"
      ]
     },
     "metadata": {},
     "output_type": "display_data"
    },
    {
     "data": {
      "application/vnd.jupyter.widget-view+json": {
       "model_id": "96a2fb616f874d5798c0de86e08b58f0",
       "version_major": 2,
       "version_minor": 0
      },
      "text/plain": [
       "diffusion_pytorch_model.fp16.safetensors:   0%|          | 0.00/167M [00:00<?, ?B/s]"
      ]
     },
     "metadata": {},
     "output_type": "display_data"
    },
    {
     "data": {
      "application/vnd.jupyter.widget-view+json": {
       "model_id": "b96d2acc55ad4e2fbd0abafb1aa7dccb",
       "version_major": 2,
       "version_minor": 0
      },
      "text/plain": [
       "config.json:   0%|          | 0.00/607 [00:00<?, ?B/s]"
      ]
     },
     "metadata": {},
     "output_type": "display_data"
    },
    {
     "data": {
      "application/vnd.jupyter.widget-view+json": {
       "model_id": "a37e4b26b2eb46a58687ff4f520cdc81",
       "version_major": 2,
       "version_minor": 0
      },
      "text/plain": [
       "Loading pipeline components...:   0%|          | 0/7 [00:00<?, ?it/s]"
      ]
     },
     "metadata": {},
     "output_type": "display_data"
    },
    {
     "name": "stdout",
     "output_type": "stream",
     "text": [
      "Colab notebook detected. To show errors in colab notebook, set debug=True in launch()\n",
      "* Running on public URL: https://f3d6b20e3cec78b8ad.gradio.live\n",
      "\n",
      "This share link expires in 72 hours. For free permanent hosting and GPU upgrades, run `gradio deploy` from the terminal in the working directory to deploy to Hugging Face Spaces (https://huggingface.co/spaces)\n"
     ]
    },
    {
     "data": {
      "text/html": [
       "<div><iframe src=\"https://f3d6b20e3cec78b8ad.gradio.live\" width=\"100%\" height=\"500\" allow=\"autoplay; camera; microphone; clipboard-read; clipboard-write;\" frameborder=\"0\" allowfullscreen></iframe></div>"
      ],
      "text/plain": [
       "<IPython.core.display.HTML object>"
      ]
     },
     "metadata": {},
     "output_type": "display_data"
    },
    {
     "data": {
      "text/plain": []
     },
     "execution_count": 4,
     "metadata": {},
     "output_type": "execute_result"
    }
   ],
   "source": [
    "import gradio as gr\n",
    "import torch\n",
    "import tempfile\n",
    "import moviepy.editor as mpy\n",
    "import numpy as np\n",
    "from diffusers import StableDiffusionXLPipeline\n",
    "from transformers import AutoTokenizer, AutoModelForCausalLM\n",
    "from PIL import Image\n",
    "\n",
    "# -------------------------------\n",
    "# Load the Best Text Generation Model\n",
    "# -------------------------------\n",
    "# Using Mistral-7B-Instruct for detailed and accurate text generation.\n",
    "mistral_tokenizer = AutoTokenizer.from_pretrained(\n",
    "    \"mistralai/Mistral-7B-Instruct-v0.3\",\n",
    "    trust_remote_code=True\n",
    ")\n",
    "mistral_model = AutoModelForCausalLM.from_pretrained(\n",
    "    \"mistralai/Mistral-7B-Instruct-v0.3\",\n",
    "    torch_dtype=torch.float16,\n",
    "    device_map=\"auto\",\n",
    "    trust_remote_code=True\n",
    ")\n",
    "\n",
    "# -------------------------------\n",
    "# Load the Best Image Generation Model\n",
    "# -------------------------------\n",
    "# Using Stable Diffusion XL Turbo for state-of-the-art text-to-image synthesis.\n",
    "sd_pipeline = StableDiffusionXLPipeline.from_pretrained(\n",
    "    \"stabilityai/sdxl-turbo\",\n",
    "    torch_dtype=torch.float16,\n",
    "    variant=\"fp16\",\n",
    "    use_safetensors=True\n",
    ").to(\"cuda\")\n",
    "\n",
    "def answer_question(image, question):\n",
    "    try:\n",
    "        # If no image is provided, use a default white image and caption.\n",
    "        if image is None:\n",
    "            image_caption = \"A plain white image.\"\n",
    "            image = Image.new(\"RGB\", (224, 224), (255, 255, 255))\n",
    "        else:\n",
    "            image = image.convert(\"RGB\")\n",
    "            image_caption = \"An uploaded image.\"  # Optionally, you could use an image captioning model here.\n",
    "\n",
    "        # Build a prompt for the text generation model that includes the image caption.\n",
    "        prompt = f\"Based on the following image description: {image_caption}\\nQuestion: {question}\\nAnswer:\"\n",
    "\n",
    "        # Tokenize the prompt and move tensors to GPU.\n",
    "        inputs = mistral_tokenizer(prompt, return_tensors=\"pt\").to(\"cuda\")\n",
    "\n",
    "        # Generate the answer using Mistral.\n",
    "        outputs = mistral_model.generate(**inputs, max_new_tokens=100)\n",
    "        answer_text = mistral_tokenizer.decode(outputs[0], skip_special_tokens=True)\n",
    "\n",
    "        # Use the generated answer (first 50 characters) to form an image-generation prompt.\n",
    "        gen_image = sd_pipeline(\n",
    "            prompt=f\"Illustration: {answer_text[:50]}\",\n",
    "            height=512,\n",
    "            width=512,\n",
    "            num_inference_steps=25\n",
    "        ).images[0]\n",
    "\n",
    "        # Create a simple video by repeating the generated image for 3 frames.\n",
    "        video_path = tempfile.mktemp(suffix=\".mp4\")\n",
    "        frames = [np.array(gen_image)] * 3\n",
    "        clip = mpy.ImageSequenceClip(frames, fps=1)\n",
    "        clip.write_videofile(video_path, verbose=False, logger=None)\n",
    "\n",
    "        return answer_text, gen_image, video_path\n",
    "\n",
    "    except Exception as e:\n",
    "        return f\"Error: {str(e)}\", None, None\n",
    "\n",
    "# -------------------------------\n",
    "# Build the Gradio Interface\n",
    "# -------------------------------\n",
    "interface = gr.Interface(\n",
    "    fn=answer_question,\n",
    "    inputs=[\n",
    "        gr.Image(label=\"Upload Image (optional)\", type=\"pil\"),\n",
    "        gr.Textbox(label=\"Question\")\n",
    "    ],\n",
    "    outputs=[\n",
    "        gr.Textbox(label=\"Answer\"),\n",
    "        gr.Image(label=\"Generated Illustration\"),\n",
    "        gr.Video(label=\"Generated Video\")\n",
    "    ],\n",
    "    title=\"NCERT Tutor\"\n",
    ")\n",
    "\n",
    "interface.launch(share=True)\n"
   ]
  },
  {
   "cell_type": "code",
   "execution_count": null,
   "metadata": {
    "id": "s7BmCfpaj4f8"
   },
   "outputs": [],
   "source": []
  },
  {
   "cell_type": "code",
   "execution_count": null,
   "metadata": {
    "id": "9uL8n87yj4oH"
   },
   "outputs": [],
   "source": [
    "#debugggggggggggggggggzyadaaccurate"
   ]
  },
  {
   "cell_type": "code",
   "execution_count": null,
   "metadata": {
    "id": "l1_ytDY-m23V"
   },
   "outputs": [],
   "source": []
  },
  {
   "cell_type": "code",
   "execution_count": null,
   "metadata": {
    "id": "KFV5ZGJFm26X"
   },
   "outputs": [],
   "source": []
  },
  {
   "cell_type": "code",
   "execution_count": null,
   "metadata": {
    "id": "-wW8k-rRm29n"
   },
   "outputs": [],
   "source": []
  },
  {
   "cell_type": "code",
   "execution_count": null,
   "metadata": {
    "colab": {
     "base_uri": "https://localhost:8080/",
     "height": 1000,
     "referenced_widgets": [
      "e5eec69ea7a24835b53b0a666ebedea9",
      "09623d0a09984d23a8ce38cb009856d8",
      "e7ac0fb8d8204d06863007067a81d821",
      "75b8cfce0e104984a0712e0c07773193",
      "9ce0c3d3971a4e6f98a35a25a26bed23",
      "7eb7f364ed83472ba158ec7e8a3eff92",
      "533be50b3ec24f9cbca55e29fac50152",
      "03686568aac94a3787adedc801306146",
      "a6b304231ddb492ca91ac433e408956c",
      "bb150e5a5b8849819a17968e9aedabf5",
      "3722010e5e664beea644abb5fe4e6079",
      "c28038e0ca7a4f72b131c71076bd8c38",
      "5558c0b03b814ed688c4a0e7f9dcdb66",
      "d551e1e957a1406a9b1ce29770bb6638",
      "230a3e848b364ac09b61fd7c36b2d2bb",
      "c302d56cd3b2443f94f4148810e77b94",
      "efbf67b212484bdfbf2f4529e2a19e65",
      "46a4a1ceb12443c4bfd8272fedd2831b",
      "43aaccf6565a4cdbae1e4c427684dc27",
      "daa21286447042a294c6ecb243dcd884",
      "868c7d55b3d947399970300e929a2ce7",
      "e9dbdc4e0bf24ac18b5d2ac98e66b011",
      "af2fb87a3a6045bda7e6c3636d3e37be",
      "bde3fba413684b03b728dd94bfb12011",
      "218f6f12ee964c1b859d823754e1e2d2",
      "7005b11bb29e4065b59dd8443ae31ad4",
      "62063cc2ac07490290bc3b71ae79a511",
      "ecb1ae99a78843febe09707fe39c86a9",
      "7bb7a070e450490a813aa8c9f6bd7e8c",
      "54c1c70d90da44aba145e266b3d93872",
      "342dc246502c49fe94b23e2a060921d8",
      "d760fbb6df9443a6947f6e0e3feaf709",
      "f88761542e7147b9aa1abcb321dcfb19",
      "49f31b694da64f118ce588ec581e6f20",
      "7a3fa97c76e44a8095f2ca2fc0dfa41a",
      "ba259f1250ff444ca4ef1c3963407102",
      "de630f5ffff44f69ba62376329021e61",
      "1bca741a1615430596559c60440cd7b5",
      "1f5714da18ff4e9f8cde2b99df621d67",
      "363a65fcc9524fb696136adf08288936",
      "af123aea5ca24678ae77935f0abe3c06",
      "4d414063c20244c2886e3985fd75f24e",
      "7802447632f84073a71a90dbeb024d95",
      "68e204185a1e48cab82aa8eea262ede0",
      "431e777f82ad4f2d91b5d1c3f057fd05",
      "80eff87b186447bbab5a8fa61eeda2ae",
      "04200edd76e446faa0c51434dcfc5898",
      "9d4f7ff9a6c84d8186c8117ed3ba165b",
      "72e0cd2477af44e6b1bb20f19ef96d04",
      "284d541862ca49e6b253a6b09255eb92",
      "95cb1ccbbc654498bf8abcdd27c55687",
      "a025ce38a3324dbd9846a305e91d550b",
      "c8ef5a5dc1614b1f810062bacaa0276a",
      "b11b00aef35b44ac8705ef6b66809567",
      "0867e862eb9a44768c84c36f16cc2c25",
      "d7afa3a080854674b26a94879413a583",
      "2f0531f0a63247bc871e879b088d3ea0",
      "f43d2e66594c4ca9b0fa6ee21f8649f8",
      "510a964564f84318aed2c9a6a61755a8",
      "3bdcdee1d41f4234948f12e0cc1744cb",
      "7a0695fb5cc04c578f0aec5c8672dc1d",
      "1818df6014f6417baf3a164216018d68",
      "5b11ee742d524b47824ecba1ca8715aa",
      "4daf66bc1cd34854b28a44368f34e5f3",
      "23ff0d1d12b34a90b463a836aaf35ce6",
      "b4d8f015d4304dcf8dfc57d6c7a89754",
      "056f9c7db91f4021b42e99c26e52ca92",
      "48f1079c67174664a429fa7457bd92ce",
      "2c84cbd3565b42828809ac7e6f80f2ef",
      "555fe92d3f224b1eb503ce58e8e259b2",
      "c0f1317430154dc496de6915247f506b",
      "3af2eec571044907b3c650a91f994b2c",
      "5e890a75c98446cbb07ff935231b67fa",
      "31c97ef943ac44ebb2f0c4099c61ba93",
      "ea51146c6c3a403985bd41ce30f1b168",
      "bf642af936314ffa970e6353e3d2209b",
      "5722c14d28794e3d9fd9ce8b373b7f12",
      "467d7fadf43345e7972dc31b0dd08403",
      "328dc3e6d59b43fb815f5d11c7e4f1c6",
      "cf8cf8874e2046a98bcb43f2639d1420",
      "45d9ceada85741a083827f8d5d3ada30",
      "7a7eeab5e1a74de99d4bb36c6e7d88a4",
      "91159c34dc9b494b90e65ecd2b6d2d75",
      "35835a2b7e74474eba5e1f98bc242127",
      "6563c82c1877414b913c10bbad95c631",
      "edb9a55a63474984aeee2a2acfca8f11",
      "346ec41ab6ae46308892539595001d41",
      "96adf92ed84a4d2093abe32d5b8a21df",
      "0da92df3d2cb4324a3c2e083ffd39a43",
      "df1d66838e774c50b022cb535bbb33b2",
      "bde1058268074599bc8a810c1c516040",
      "b6aa0aa681f046b8a4ddeb8e7fb2282b",
      "c663bd49c1cb4dcb9195760e467af226",
      "fd6f3037b41f49cfb25bbf35ab3debc2",
      "8ba5bdeeeea24e02b618230d79e2c892",
      "f53aab1497df4027ac680dbf18bbc4bf",
      "16b3fb8191894f64952f1d2968d46369",
      "c773a1b3104a4a16b192c88bf2b05721",
      "78f15b80baa6422b8157d5bec8019265",
      "15995a00c5d542268a1bfb6bbfd8256d",
      "2170f696e5da454b8bebce317a40324c",
      "b648d2f92437410388a6b289516d129d",
      "aa213fde6fb346aa97df5a1c6ef81cc8",
      "d0404396128547d293d9026fc9d06438",
      "f46ea70d65734ca7a24a0216bc56b7bf",
      "9640c5fcbb4b4ad8907bc0b88ad49dff",
      "c73c4d44ac6b4c2e9dd0176112576807",
      "b1e5a14be00841ab8c4a6396080bded7",
      "3f3f8b39fe0e4953800f8e4d37da2809",
      "cacdc66c1c254129be407af637d82b9d",
      "c17ed0ab03c04877a048d42f9182e929",
      "3cc77b787c3744a39d10df07e03ed94b",
      "e063948f6c1b477a906bae27dd457e93",
      "d616191e0ea04fd1aaf1b0a13846c8ae",
      "62b47e7ff6774b49a78ab1a116c21445",
      "e5c94cab73e84c2ab49d61ad20923ad8",
      "4a257e13e72a4adaa052f22450bea72f",
      "64bcc5c3310e42b6b85276107ec6d506",
      "b400183c318d45d8a5414cbf66b4f10e",
      "910f23b04cae4f00ab16de5a4cb2c9ca",
      "a8b777c96d5d4f6ca9e008d606b2463a",
      "64c10f31d2d0437eaa928d9f50efb49b",
      "e33a9120d3ef443e92c7450043de50c3",
      "4d70fcc2b06f4de5897ed7289f27aefd",
      "4298af2fa31647d18248d24eca574fce",
      "d609cf2fa5084aa48e89abbd6f3603a7",
      "4cdb5e89360f4c879a8ab9c96014da0f",
      "93f505f68eef48afbc8bc4c6dafe69d1",
      "621b416c65eb4b43a6520f530c48721a",
      "eb9a7a2740024f8da6a576bfed532133",
      "91bd48c35d3045c18f9e16bff9584e61",
      "3bb16aa264d2484fb27b8baa92b81cce",
      "6c067062f1524b839e5b252714b7ec8a",
      "8761769e777447138fddd7a0393e710b",
      "5ad5ef53f26a4ec88f7ffcb51015340a",
      "ec52ade91c3d4ec8b94b01f7d07e6e04",
      "67f3f50f770e4f069b3a507c748b28fa",
      "9ebbfd01e74a4bafb2d75f41e95f620a",
      "1ada963078c547f89e09e177861b1ff3",
      "5d1cdd00a0d947b5adf9da81b2278726",
      "c90fc8035fc74f0386ed2ec33ae0ae4d",
      "6899225d26744788825ff087c5221182",
      "a1eeb3b9b4d544d78d79998235b4f74a",
      "d5e603066c0849ee84dda23ed3f79fb6",
      "a40d9a48e68642cb83dc03b3238c99af",
      "297cbf28ab2c4c1b8393c1e1a86a96e0",
      "9edc47ef858448a8a1afdc9b44d091b6",
      "eaba946e53e84173b2c9f955fd88eb1a",
      "e628591ea7b74788868b3c44cdc58d72",
      "c43ecb1d6cb44286a28d64146325a7ff",
      "c75dbc7d59524505966bcf12dec236dc",
      "63691f2cfa114035b95832f5a3f6772a",
      "0f039332883d467993a77835de94933d",
      "8066c2e6bed144b4bfb21d3cc378f2a4",
      "a1aca193405c403bb33a7418eaa1a0f0",
      "26451654d205443b8c951e37cedb0e3c",
      "a5899f61ec0545249a3f95e81a1f9f2e",
      "a0997927a88147fdb6fc8463a5652f64",
      "9a3b074280774841951a0273893aff34",
      "98960d72371b4d2d952e4f74acac18a4",
      "44dbcbb4328540edbf7a9ab837f3297b",
      "0464a7fb1ba14e5bad45a1a9d96e0cc7",
      "9e3361fa20694bcd98a5b8108385ee60",
      "42fd067519474881b8fd630a19b867a3",
      "e7194e0724964ae2965e0ae8713d3f47",
      "d47c8bc339a74811a8796a51e89e0f21",
      "34f387aae8994a61b3d0d29d1e6b79cb",
      "2218ea8ed92c4f03b5ecfdab2744af75",
      "c3120009b56247eaa2d861260a2f9df5",
      "f50e44e1a14243e687054a675d5e32be",
      "0287820dd93b4b2abfa39058c7c64c9c",
      "4fedfe0ff1f248ed9c23692ce1579a17",
      "2ff21e6fcd314e3d827c4eb50857a579",
      "59e3b2e21dd141be89c14805311546e1",
      "6d46d7bd2cae4253b8e38178d18772b5",
      "0835678abf7f4a3eb7fa7a3bdc40cead",
      "566a4e5a4bb140118591946787c42cac",
      "be04707616614e3d82aea262682a4400",
      "f160f490ddf34db09669b3b1c6e4e57d",
      "0b3b32658e3f4a459f16120957f775a3",
      "ee341be1d4354022b30ce9056e5332ce",
      "3e9f7ca0a26b476993b65e73fd225ec2",
      "c720b2ccba944e3fab48e4cb3556a61a",
      "dc3f95be98ef41348d45665e67a3f09e",
      "f125dab14cbe4a7e9505d3c21469ec0b",
      "238477285ab9465fb3968917c95229de",
      "8833bf8ad71b452d943c30c8235da2c9",
      "a4200edfd21742c2be5aeaf3ac3500c1",
      "72ee49b5fa544390b3db0ccb5c8fbb6a",
      "0e1650805bd24915a66a38b3d6c1296c",
      "7cc6247f94aa462f91bf3309b5cf3df8",
      "97eb68cc7f464bf28bc381dfba29f7ca",
      "989630a30d574dfab3382d8841a20b54",
      "d6955aa54e2c4aad8adb6e3ef7de660d",
      "3c22a32212d041d2b1f1172c68472e78",
      "fc9cd26403564dc482652e82c0efe82b",
      "94b18683804c46dd9cb4990786425158",
      "32eafacb3de84e25894fe895c4e3d0db",
      "2485d237d0314533a8a9e1eec5bc920c",
      "2306ca88ef3b4a43bed07a55fa187f2b",
      "fb9d24bcdf7d4c8c9a0c8465f4920f49",
      "c6dbad6c91ac465cb933bd2ca6eced94",
      "cb870e19872f4046bbf21d91215aaa2a",
      "b96ba7cd260348409013e0ebc45abd64",
      "4a7f9f0b5cce453ea985c9b07dc8d0fd",
      "c29eaadcfc494e7992ee970d72e1cfb0",
      "7f2271052b104f17b065e43d317d4d10",
      "790bbafe80984108b0085d9c30c53ab4",
      "632e18651e8f4b7497951c5e2c4fad04",
      "a6cd36f3d7124888820abdfc9de61f25",
      "848765bdd0f444d7a4a322b2116cfd73",
      "967602eae1f14305be74c8fe000e53a1",
      "84e665fc14904b099c7cb52de478e7f9",
      "56f6b4a3a7a346c8a651ba2bf283ef2a",
      "d4a5987613164d6fb74c687fef3ae35c",
      "39f6426ade994ab3ab87810e6a7f6508",
      "e83671e8f5b0455bb24ed7ab1a68d91c",
      "8d404032baa843ac9dd757ab426acac8",
      "ef2ec138a4d54ee4a673bb17193d4701",
      "bbd43ce1281f465a863cf3a9db262fef",
      "96168120334646a3a6fec8698f138c89",
      "fd4c99fc5f874eb29d78cdc3f54e3ff0",
      "549da03ce1764a7998fb3bf34b771b8d",
      "a079f9baeff54be0aac0b088fbccbdc2",
      "bbb8bd74a52741d795de6247bcad2034",
      "5f68a40b73764a038f1c3f907d817149",
      "f65dc3ceef6d4cba8b380dfd252d331b",
      "738a5473ad42479498b422f37b80cdb2",
      "8d9f96dc71fe41b19784574cf563e649",
      "03999dadac4b4a5c96ffe546ce1e3ab9",
      "f113e013b3b6431fb30e474c412e9415",
      "c0483e849a4b4bdb92444d6202be2612",
      "612f3418851741ef996b6659e037bd8b",
      "3787ea6e0e294630aced95cd8fb25bc2",
      "bbfe132f1f2040448511a924efd24304",
      "462d4bb5da2844ffb249304700677620",
      "5513eec5adc04f5ca808ef20f2987694",
      "1d452cb6028f4049bda92a07add8428d",
      "f8f028de4a7e4b42b51c7acdb6f96fe5",
      "9c2bdda2507544c8a1560984ec9bafa5",
      "e472b1c721f6468c8931dc9bdbc4ed8b",
      "a755872c11584f7d8418fb00412b33fb",
      "ddc5c36fcc944474abeb7bf87efb829f",
      "4290aa1ca7cc445ca04ad0f4f36dda58",
      "659025becc4a4491ad15a5b07996748c",
      "69c194aaa33046daa0a4a4c7c0b03c70",
      "5eaf6fedfc4345c69b7e59c4bcf92d36",
      "16ad1d005f2c4140a025d030f752b87f",
      "b8ce85e1b15d46248f159c7f36736fb9",
      "b9610645e4a942b4a57aecc3db20e571",
      "38a1ba2f42ed4e04ba163cb6cf6f07ca",
      "c4aff21628704cb0a5231578cca26e3f",
      "ca3082a25f2743308ef498fefdf872aa",
      "9d3f45295f564497b67fbb428fb28aee",
      "287bb19f22af41e3a07d5da6727149bc",
      "cea389deb4c54ddfa70482ddc0062838",
      "d01ed4e7eb7a4941a7ec223f2a827121",
      "a94c50e7140f48229e6eeaef2c7ab36b",
      "9fda67aff3004df09664f8ea62a225a6",
      "87692fcb851240a78081db8a83de25a1",
      "6af3b415ee3642549b7ad654fdc0929c",
      "5ab6407448104ab788741a208439ea47",
      "7a0bc4e38faf42c18e01823ae5760c19",
      "82987f8916aa47768e6a30d5836a7cfa",
      "309f729672c24b1db42bb800e5a23612",
      "f4f7c0e2a7b6419cb57db2797a40c6be",
      "188e613629b2471aaee9cb0fb3210dd8",
      "eefe6cb7828641eb95f7fad54878d3e8",
      "d6f83048cf7242c989e15190e5f22c5a",
      "92377cc554dc4147a60100a835057ff9",
      "4d3d5e8ad966484a8ae667491382da20",
      "ab8a596d786c41648599960e6a7c62de",
      "0ffa8236dc8941798803c1dcea2f9d26",
      "ddc9840712b842d782ad3cdfbd10ca61",
      "5dc7cc0466dd445fbcf6c626dd3d17bc",
      "4bb4e9513c6b432e9752aedd164fa0ef",
      "d417ea1b252646909d1705c944bf76a0",
      "21108d84d58744959790b49260bfba8a",
      "47ea7fa95fe24fcd8b2a4fc9f6d474a5",
      "59083a3f29664bca9ae11704c86f40c5",
      "b4f1d278e5504c07acec2f2422c23a04",
      "105657b199594f6cac8933939ccb9b0e",
      "e9397ec21ae7431cbac6b9eb293612f6",
      "b333cd22ab784c2f85d462a6bb4a3bff",
      "51238fcaf45546adb9329705e9b88be9",
      "5cc5ece3808047f18c6edc9b8553e464",
      "09544790311c40589a02e70ec1cf1ef7",
      "5294b0f930644b08993ce0fab16db7ec",
      "50b5fd2a34a547c5a4ac69e6582cf545",
      "9a8a0204d8184f91a292cdeb70ac754a",
      "b58ff91385cc445da6aa1f329fdc32b9",
      "e389ec133b0047efb436817cdebe6d16",
      "c211007802e447ef8719adc931fc4c6f",
      "6016171c7b584fef8582d163e12537d6",
      "2e6357f6664f4bb5b5f721c46d0920b7",
      "af2114208bab4c94b2b3719f577fe72e",
      "6d8a8a2ea373473998dece5958c6c0c8",
      "b5a4803a385841fba0bc8f95073db3dc",
      "3b683d72f5614b809023e175166d2d38",
      "a80b383e3acf4578a948216597e65855",
      "30a0261698804e0e8d2a52d12263d4a5",
      "cc2ef5a61e31493094f53161e735ed30",
      "4b5c296183014c86b3bc1af59cbbd225",
      "0c04ad3f32ba41db9c502032bd3a8835",
      "3c6368abf2ae4022baca46f507784560",
      "da5ec88cbfa34b2fbcd4a7ff88708073",
      "467830ccc5b943f883cfd3719e5f937d",
      "7e36bff942b24b589aa67c1529762f03",
      "405133f8e96f47438aafc022b22fd572",
      "35942b324d204dbb8655cfae758478fa",
      "02194f9e5e55460e998211b1768f8f6c",
      "fe79cfadcfc746ec9e567876f65bc8ff",
      "22838679675c4060b51a9fbee4af5346",
      "74daf3b2bbc34d6d968a337e20dc347f",
      "7aca9aec43e3474f81e4ec9e1b8dea05",
      "0c6d8b06b9ef4c8a99657c3c01f5dae0",
      "141cdf78c8984e85b739da0872c5f6eb",
      "0bd1940e7bbc41798718c4dde33e7244",
      "3d5caa6497a04b4e8a2b788deef277aa",
      "56c4ac7dc81f4595892aa08174cc412d",
      "65f6a565c2ee43dba8c44871e02b2627",
      "02764e7329c841368e3fd0d9298781e1",
      "490e4971c0944b6d81acb2d6bba6f016",
      "402e7d32665041c49e2934ad4f1b3bb9",
      "d6aac62faf7c4fe68925feafeedb502e",
      "299ba2f70905491093275c32dc8adfd3",
      "2fb7ed158daf48a2a8722efce4c525ef",
      "bafa9f95a8364361bef129f4d26c5f6c",
      "5402fb473bb2460cb21437f0ef9ff529",
      "a18ec702de9f472e9f0a4fc4dd882178"
     ]
    },
    "id": "H-CZVL0Tj4u_",
    "outputId": "1ef6de84-38eb-4193-b305-6353e1300e95"
   },
   "outputs": [
    {
     "name": "stderr",
     "output_type": "stream",
     "text": [
      "WARNING:py.warnings:/usr/local/lib/python3.11/dist-packages/moviepy/video/io/sliders.py:61: SyntaxWarning: \"is\" with a literal. Did you mean \"==\"?\n",
      "  if event.key is 'enter':\n",
      "\n",
      "WARNING:py.warnings:/usr/local/lib/python3.11/dist-packages/huggingface_hub/utils/_auth.py:94: UserWarning: \n",
      "The secret `HF_TOKEN` does not exist in your Colab secrets.\n",
      "To authenticate with the Hugging Face Hub, create a token in your settings tab (https://huggingface.co/settings/tokens), set it as secret in your Google Colab and restart your session.\n",
      "You will be able to reuse this secret in all of your notebooks.\n",
      "Please note that authentication is recommended but still optional to access public models or datasets.\n",
      "  warnings.warn(\n",
      "\n"
     ]
    },
    {
     "data": {
      "application/vnd.jupyter.widget-view+json": {
       "model_id": "e5eec69ea7a24835b53b0a666ebedea9",
       "version_major": 2,
       "version_minor": 0
      },
      "text/plain": [
       "tokenizer_config.json:   0%|          | 0.00/141k [00:00<?, ?B/s]"
      ]
     },
     "metadata": {},
     "output_type": "display_data"
    },
    {
     "data": {
      "application/vnd.jupyter.widget-view+json": {
       "model_id": "c28038e0ca7a4f72b131c71076bd8c38",
       "version_major": 2,
       "version_minor": 0
      },
      "text/plain": [
       "tokenizer.model:   0%|          | 0.00/587k [00:00<?, ?B/s]"
      ]
     },
     "metadata": {},
     "output_type": "display_data"
    },
    {
     "data": {
      "application/vnd.jupyter.widget-view+json": {
       "model_id": "af2fb87a3a6045bda7e6c3636d3e37be",
       "version_major": 2,
       "version_minor": 0
      },
      "text/plain": [
       "tokenizer.json:   0%|          | 0.00/1.96M [00:00<?, ?B/s]"
      ]
     },
     "metadata": {},
     "output_type": "display_data"
    },
    {
     "data": {
      "application/vnd.jupyter.widget-view+json": {
       "model_id": "49f31b694da64f118ce588ec581e6f20",
       "version_major": 2,
       "version_minor": 0
      },
      "text/plain": [
       "special_tokens_map.json:   0%|          | 0.00/414 [00:00<?, ?B/s]"
      ]
     },
     "metadata": {},
     "output_type": "display_data"
    },
    {
     "data": {
      "application/vnd.jupyter.widget-view+json": {
       "model_id": "431e777f82ad4f2d91b5d1c3f057fd05",
       "version_major": 2,
       "version_minor": 0
      },
      "text/plain": [
       "config.json:   0%|          | 0.00/601 [00:00<?, ?B/s]"
      ]
     },
     "metadata": {},
     "output_type": "display_data"
    },
    {
     "data": {
      "application/vnd.jupyter.widget-view+json": {
       "model_id": "d7afa3a080854674b26a94879413a583",
       "version_major": 2,
       "version_minor": 0
      },
      "text/plain": [
       "model.safetensors.index.json:   0%|          | 0.00/23.9k [00:00<?, ?B/s]"
      ]
     },
     "metadata": {},
     "output_type": "display_data"
    },
    {
     "data": {
      "application/vnd.jupyter.widget-view+json": {
       "model_id": "056f9c7db91f4021b42e99c26e52ca92",
       "version_major": 2,
       "version_minor": 0
      },
      "text/plain": [
       "Fetching 3 files:   0%|          | 0/3 [00:00<?, ?it/s]"
      ]
     },
     "metadata": {},
     "output_type": "display_data"
    },
    {
     "data": {
      "application/vnd.jupyter.widget-view+json": {
       "model_id": "467d7fadf43345e7972dc31b0dd08403",
       "version_major": 2,
       "version_minor": 0
      },
      "text/plain": [
       "model-00001-of-00003.safetensors:   0%|          | 0.00/4.95G [00:00<?, ?B/s]"
      ]
     },
     "metadata": {},
     "output_type": "display_data"
    },
    {
     "data": {
      "application/vnd.jupyter.widget-view+json": {
       "model_id": "0da92df3d2cb4324a3c2e083ffd39a43",
       "version_major": 2,
       "version_minor": 0
      },
      "text/plain": [
       "model-00002-of-00003.safetensors:   0%|          | 0.00/5.00G [00:00<?, ?B/s]"
      ]
     },
     "metadata": {},
     "output_type": "display_data"
    },
    {
     "data": {
      "application/vnd.jupyter.widget-view+json": {
       "model_id": "15995a00c5d542268a1bfb6bbfd8256d",
       "version_major": 2,
       "version_minor": 0
      },
      "text/plain": [
       "model-00003-of-00003.safetensors:   0%|          | 0.00/4.55G [00:00<?, ?B/s]"
      ]
     },
     "metadata": {},
     "output_type": "display_data"
    },
    {
     "data": {
      "application/vnd.jupyter.widget-view+json": {
       "model_id": "c17ed0ab03c04877a048d42f9182e929",
       "version_major": 2,
       "version_minor": 0
      },
      "text/plain": [
       "Loading checkpoint shards:   0%|          | 0/3 [00:00<?, ?it/s]"
      ]
     },
     "metadata": {},
     "output_type": "display_data"
    },
    {
     "data": {
      "application/vnd.jupyter.widget-view+json": {
       "model_id": "64c10f31d2d0437eaa928d9f50efb49b",
       "version_major": 2,
       "version_minor": 0
      },
      "text/plain": [
       "generation_config.json:   0%|          | 0.00/116 [00:00<?, ?B/s]"
      ]
     },
     "metadata": {},
     "output_type": "display_data"
    },
    {
     "data": {
      "application/vnd.jupyter.widget-view+json": {
       "model_id": "6c067062f1524b839e5b252714b7ec8a",
       "version_major": 2,
       "version_minor": 0
      },
      "text/plain": [
       "model_index.json:   0%|          | 0.00/685 [00:00<?, ?B/s]"
      ]
     },
     "metadata": {},
     "output_type": "display_data"
    },
    {
     "data": {
      "application/vnd.jupyter.widget-view+json": {
       "model_id": "d5e603066c0849ee84dda23ed3f79fb6",
       "version_major": 2,
       "version_minor": 0
      },
      "text/plain": [
       "Fetching 18 files:   0%|          | 0/18 [00:00<?, ?it/s]"
      ]
     },
     "metadata": {},
     "output_type": "display_data"
    },
    {
     "data": {
      "application/vnd.jupyter.widget-view+json": {
       "model_id": "a1aca193405c403bb33a7418eaa1a0f0",
       "version_major": 2,
       "version_minor": 0
      },
      "text/plain": [
       "special_tokens_map.json:   0%|          | 0.00/586 [00:00<?, ?B/s]"
      ]
     },
     "metadata": {},
     "output_type": "display_data"
    },
    {
     "data": {
      "application/vnd.jupyter.widget-view+json": {
       "model_id": "d47c8bc339a74811a8796a51e89e0f21",
       "version_major": 2,
       "version_minor": 0
      },
      "text/plain": [
       "scheduler_config.json:   0%|          | 0.00/459 [00:00<?, ?B/s]"
      ]
     },
     "metadata": {},
     "output_type": "display_data"
    },
    {
     "data": {
      "application/vnd.jupyter.widget-view+json": {
       "model_id": "566a4e5a4bb140118591946787c42cac",
       "version_major": 2,
       "version_minor": 0
      },
      "text/plain": [
       "config.json:   0%|          | 0.00/565 [00:00<?, ?B/s]"
      ]
     },
     "metadata": {},
     "output_type": "display_data"
    },
    {
     "data": {
      "application/vnd.jupyter.widget-view+json": {
       "model_id": "a4200edfd21742c2be5aeaf3ac3500c1",
       "version_major": 2,
       "version_minor": 0
      },
      "text/plain": [
       "config.json:   0%|          | 0.00/575 [00:00<?, ?B/s]"
      ]
     },
     "metadata": {},
     "output_type": "display_data"
    },
    {
     "data": {
      "application/vnd.jupyter.widget-view+json": {
       "model_id": "2485d237d0314533a8a9e1eec5bc920c",
       "version_major": 2,
       "version_minor": 0
      },
      "text/plain": [
       "tokenizer_config.json:   0%|          | 0.00/704 [00:00<?, ?B/s]"
      ]
     },
     "metadata": {},
     "output_type": "display_data"
    },
    {
     "data": {
      "application/vnd.jupyter.widget-view+json": {
       "model_id": "a6cd36f3d7124888820abdfc9de61f25",
       "version_major": 2,
       "version_minor": 0
      },
      "text/plain": [
       "model.fp16.safetensors:   0%|          | 0.00/1.39G [00:00<?, ?B/s]"
      ]
     },
     "metadata": {},
     "output_type": "display_data"
    },
    {
     "data": {
      "application/vnd.jupyter.widget-view+json": {
       "model_id": "96168120334646a3a6fec8698f138c89",
       "version_major": 2,
       "version_minor": 0
      },
      "text/plain": [
       "model.fp16.safetensors:   0%|          | 0.00/246M [00:00<?, ?B/s]"
      ]
     },
     "metadata": {},
     "output_type": "display_data"
    },
    {
     "data": {
      "application/vnd.jupyter.widget-view+json": {
       "model_id": "c0483e849a4b4bdb92444d6202be2612",
       "version_major": 2,
       "version_minor": 0
      },
      "text/plain": [
       "merges.txt:   0%|          | 0.00/525k [00:00<?, ?B/s]"
      ]
     },
     "metadata": {},
     "output_type": "display_data"
    },
    {
     "data": {
      "application/vnd.jupyter.widget-view+json": {
       "model_id": "ddc5c36fcc944474abeb7bf87efb829f",
       "version_major": 2,
       "version_minor": 0
      },
      "text/plain": [
       "tokenizer_config.json:   0%|          | 0.00/855 [00:00<?, ?B/s]"
      ]
     },
     "metadata": {},
     "output_type": "display_data"
    },
    {
     "data": {
      "application/vnd.jupyter.widget-view+json": {
       "model_id": "9d3f45295f564497b67fbb428fb28aee",
       "version_major": 2,
       "version_minor": 0
      },
      "text/plain": [
       "vocab.json:   0%|          | 0.00/1.06M [00:00<?, ?B/s]"
      ]
     },
     "metadata": {},
     "output_type": "display_data"
    },
    {
     "data": {
      "application/vnd.jupyter.widget-view+json": {
       "model_id": "309f729672c24b1db42bb800e5a23612",
       "version_major": 2,
       "version_minor": 0
      },
      "text/plain": [
       "special_tokens_map.json:   0%|          | 0.00/460 [00:00<?, ?B/s]"
      ]
     },
     "metadata": {},
     "output_type": "display_data"
    },
    {
     "data": {
      "application/vnd.jupyter.widget-view+json": {
       "model_id": "4bb4e9513c6b432e9752aedd164fa0ef",
       "version_major": 2,
       "version_minor": 0
      },
      "text/plain": [
       "diffusion_pytorch_model.fp16.safetensors:   0%|          | 0.00/5.14G [00:00<?, ?B/s]"
      ]
     },
     "metadata": {},
     "output_type": "display_data"
    },
    {
     "data": {
      "application/vnd.jupyter.widget-view+json": {
       "model_id": "09544790311c40589a02e70ec1cf1ef7",
       "version_major": 2,
       "version_minor": 0
      },
      "text/plain": [
       "config.json:   0%|          | 0.00/607 [00:00<?, ?B/s]"
      ]
     },
     "metadata": {},
     "output_type": "display_data"
    },
    {
     "data": {
      "application/vnd.jupyter.widget-view+json": {
       "model_id": "b5a4803a385841fba0bc8f95073db3dc",
       "version_major": 2,
       "version_minor": 0
      },
      "text/plain": [
       "diffusion_pytorch_model.fp16.safetensors:   0%|          | 0.00/167M [00:00<?, ?B/s]"
      ]
     },
     "metadata": {},
     "output_type": "display_data"
    },
    {
     "data": {
      "application/vnd.jupyter.widget-view+json": {
       "model_id": "405133f8e96f47438aafc022b22fd572",
       "version_major": 2,
       "version_minor": 0
      },
      "text/plain": [
       "config.json:   0%|          | 0.00/1.78k [00:00<?, ?B/s]"
      ]
     },
     "metadata": {},
     "output_type": "display_data"
    },
    {
     "data": {
      "application/vnd.jupyter.widget-view+json": {
       "model_id": "56c4ac7dc81f4595892aa08174cc412d",
       "version_major": 2,
       "version_minor": 0
      },
      "text/plain": [
       "Loading pipeline components...:   0%|          | 0/7 [00:00<?, ?it/s]"
      ]
     },
     "metadata": {},
     "output_type": "display_data"
    },
    {
     "name": "stdout",
     "output_type": "stream",
     "text": [
      "Colab notebook detected. To show errors in colab notebook, set debug=True in launch()\n",
      "* Running on public URL: https://e5bcf37406ffc2e2d8.gradio.live\n",
      "\n",
      "This share link expires in 72 hours. For free permanent hosting and GPU upgrades, run `gradio deploy` from the terminal in the working directory to deploy to Hugging Face Spaces (https://huggingface.co/spaces)\n"
     ]
    },
    {
     "data": {
      "text/html": [
       "<div><iframe src=\"https://e5bcf37406ffc2e2d8.gradio.live\" width=\"100%\" height=\"500\" allow=\"autoplay; camera; microphone; clipboard-read; clipboard-write;\" frameborder=\"0\" allowfullscreen></iframe></div>"
      ],
      "text/plain": [
       "<IPython.core.display.HTML object>"
      ]
     },
     "metadata": {},
     "output_type": "display_data"
    },
    {
     "data": {
      "text/plain": []
     },
     "execution_count": 3,
     "metadata": {},
     "output_type": "execute_result"
    }
   ],
   "source": [
    "import gradio as gr\n",
    "import torch\n",
    "import tempfile\n",
    "import moviepy.editor as mpy\n",
    "import numpy as np\n",
    "from diffusers import StableDiffusionXLPipeline\n",
    "from transformers import AutoTokenizer, AutoModelForCausalLM\n",
    "from PIL import Image\n",
    "\n",
    "# -------------------------------\n",
    "# Load the Best Text Generation Model\n",
    "# -------------------------------\n",
    "# Using Mistral-7B-Instruct-v0.3 for detailed and accurate text generation.\n",
    "mistral_tokenizer = AutoTokenizer.from_pretrained(\n",
    "    \"mistralai/Mistral-7B-Instruct-v0.3\",\n",
    "    trust_remote_code=True\n",
    ")\n",
    "mistral_model = AutoModelForCausalLM.from_pretrained(\n",
    "    \"mistralai/Mistral-7B-Instruct-v0.3\",\n",
    "    torch_dtype=torch.float16,\n",
    "    device_map=\"auto\",\n",
    "    trust_remote_code=True\n",
    ")\n",
    "\n",
    "# -------------------------------\n",
    "# Load the Best Image Generation Model\n",
    "# -------------------------------\n",
    "# Using Stable Diffusion XL Turbo for state-of-the-art text-to-image synthesis.\n",
    "sd_pipeline = StableDiffusionXLPipeline.from_pretrained(\n",
    "    \"stabilityai/sdxl-turbo\",\n",
    "    torch_dtype=torch.float16,\n",
    "    variant=\"fp16\",\n",
    "    use_safetensors=True\n",
    ").to(\"cuda\")\n",
    "\n",
    "def answer_question(image, question):\n",
    "    try:\n",
    "        # If no image is provided, use a default white image and caption.\n",
    "        if image is None:\n",
    "            image_caption = \"A plain white image.\"\n",
    "            image = Image.new(\"RGB\", (224, 224), (255, 255, 255))\n",
    "        else:\n",
    "            image = image.convert(\"RGB\")\n",
    "            image_caption = \"An uploaded image.\"  # Optionally, you could use an image captioning model here.\n",
    "\n",
    "        # Build a prompt for the text generation model that includes the image caption.\n",
    "        prompt = f\"Based on the following image description: {image_caption}\\nQuestion: {question}\\nAnswer:\"\n",
    "\n",
    "        # Tokenize the prompt and move tensors to GPU.\n",
    "        inputs = mistral_tokenizer(prompt, return_tensors=\"pt\").to(\"cuda\")\n",
    "\n",
    "        # Generate the answer using Mistral with more tokens for a complete answer.\n",
    "        outputs = mistral_model.generate(**inputs, max_new_tokens=256)\n",
    "        answer_text = mistral_tokenizer.decode(outputs[0], skip_special_tokens=True)\n",
    "\n",
    "        # For image generation, create a refined prompt.\n",
    "        # Here, we use the first 200 characters of the answer (if available) to craft an \"accurate\" illustration prompt.\n",
    "        refined_prompt = f\"Accurate educational illustration: {answer_text[:200]}\"\n",
    "\n",
    "        # Generate an illustration image with increased inference steps and guidance scale.\n",
    "        gen_image = sd_pipeline(\n",
    "            prompt=refined_prompt,\n",
    "            height=512,\n",
    "            width=512,\n",
    "            num_inference_steps=50,\n",
    "            guidance_scale=7.0\n",
    "        ).images[0]\n",
    "\n",
    "        # Generate a video by creating 3 unique frames using different random seeds.\n",
    "        frames = []\n",
    "        seeds = [42, 123, 987]\n",
    "        for seed in seeds:\n",
    "            generator = torch.Generator(\"cuda\").manual_seed(seed)\n",
    "            result = sd_pipeline(\n",
    "                prompt=refined_prompt,\n",
    "                height=512,\n",
    "                width=512,\n",
    "                num_inference_steps=50,\n",
    "                guidance_scale=7.0,\n",
    "                generator=generator\n",
    "            )\n",
    "            frames.append(np.array(result.images[0]))\n",
    "\n",
    "        # Assemble the frames into a video (each frame displayed for 1 second).\n",
    "        video_path = tempfile.mktemp(suffix=\".mp4\")\n",
    "        clip = mpy.ImageSequenceClip(frames, fps=1)\n",
    "        clip.write_videofile(video_path, verbose=False, logger=None)\n",
    "\n",
    "        return answer_text, gen_image, video_path\n",
    "\n",
    "    except Exception as e:\n",
    "        return f\"Error: {str(e)}\", None, None\n",
    "\n",
    "# -------------------------------\n",
    "# Build the Gradio Interface\n",
    "# -------------------------------\n",
    "interface = gr.Interface(\n",
    "    fn=answer_question,\n",
    "    inputs=[\n",
    "        gr.Image(label=\"Upload Image (optional)\", type=\"pil\"),\n",
    "        gr.Textbox(label=\"Question\")\n",
    "    ],\n",
    "    outputs=[\n",
    "        gr.Textbox(label=\"Answer\"),\n",
    "        gr.Image(label=\"Generated Illustration\"),\n",
    "        gr.Video(label=\"Generated Video\")\n",
    "    ],\n",
    "    title=\"Virtual Tutor\"\n",
    ")\n",
    "\n",
    "interface.launch(share=True)\n"
   ]
  },
  {
   "cell_type": "code",
   "execution_count": null,
   "metadata": {
    "id": "Gu8C5tAVp96E"
   },
   "outputs": [],
   "source": []
  },
  {
   "cell_type": "code",
   "execution_count": null,
   "metadata": {
    "id": "hKBBvU1Ep-GW"
   },
   "outputs": [],
   "source": []
  },
  {
   "cell_type": "code",
   "execution_count": null,
   "metadata": {
    "id": "Jo_Xw_Xbp-Jh"
   },
   "outputs": [],
   "source": []
  },
  {
   "cell_type": "code",
   "execution_count": null,
   "metadata": {
    "id": "kkQr8rd3p-Mb"
   },
   "outputs": [],
   "source": []
  },
  {
   "cell_type": "code",
   "execution_count": null,
   "metadata": {
    "id": "lChvepCBp-QB"
   },
   "outputs": [],
   "source": [
    "#mistraltextextractionwala"
   ]
  },
  {
   "cell_type": "code",
   "execution_count": null,
   "metadata": {
    "colab": {
     "base_uri": "https://localhost:8080/",
     "height": 1000,
     "referenced_widgets": [
      "bba097be83f648e9ba35121c7b8ac5fe",
      "e5abc9074c1540be901d06a435f29f6a",
      "1e2b0a1f885e47258d0ccd25b09a32f8",
      "d8ab6496b5f74b61903b46997445bae2",
      "1a90a8be9938471f9e3740e55980a32f",
      "e4866824bcf94529b069e80a0a68ea85",
      "65b62bdbf1714473a579e1a49f835b3c",
      "043c58b3dfc04c7a9a4a01256740dda2",
      "31b21a205b87420f9512ae0972c8726e",
      "e5dd0f5d01744cb2a9f9257c484645b0",
      "4ecc3db8754d429486ca14045b34a6cf",
      "87fb4081a59540408b50736676bb904f",
      "d749b0e4b1294484ae67fa3cf929e729",
      "3b89eb53340a4358937192a0111b46aa",
      "0b1d0c05983d4081b268551a96d5410a",
      "5966cc4e5d5d4e8f8e96acc0e735adf2",
      "850fad6075be4248b5b2caffd4a528e7",
      "c33b78c9b7c24e49800f4b102e5da2f1",
      "320c1037df3d4c329d19470989fae262",
      "b3c30b91322f4f68a66d40d4ad729e40",
      "4c6ea506684d4ac68277e172dac2a645",
      "0a42b755c57c48509e9ad1e4a12daadb",
      "83400496ed66425a9890608be2722ec1",
      "e7e430acb25b4e2eba709905d48d6b8d",
      "a7d1a7c14883405ab80cfa99874b23b9",
      "9582591edeb1481aa328854a71d4c0a5",
      "0b9d0f63eeb64a9ba6168c307e1d7cfd",
      "b56726f9e3dc4fe49c6e68dbd4029354",
      "e687b49d031c46b7932ced252b6a29b7",
      "fc855e971b844a48aefdc6ec97304add",
      "cee37b3cbcbd430395e863c4afa7b44a",
      "808ef7a4304245f3bad8e41c2c1d13b5",
      "a9e4a88f5c6c44148d64edca7e5c5cce",
      "9b86b6f57e2e461e9173ccc46a6ac8d8",
      "39ca4b1661904cdfad0430f1865bd561",
      "7e32d18243c14772aba0e9cfc1284092",
      "7d85f8ac79cf4b9eb0a1654fc68d803a",
      "80c3b87268c54beab7d126664a75ac70",
      "7a170a34bd164bf18dd16aa8dd5aa867",
      "f3eeb6be5c994bd79a1acfd604bd0b95",
      "04170a108e1d48739898b2a88c52e1fc",
      "ff3089a33ba74b1a8424362547dc71c8",
      "9ab2b9dd17e343b8974898f4eee92b22",
      "43bd2c458bda416498bcc5800a31c94a",
      "1f875177fef54f39ba5c92efb61b8bf5",
      "2326d9b065734108a1491d5be8360d64",
      "9530e6ae90dc451b94a3684a8a5d8cd9",
      "ad83d8a0b68c470489c56203599071c7",
      "69aa8d962cfe46d2917fb26e2f3414f2",
      "1cb483603623481dbeed43b7fc9c31f5",
      "7bf37aefdd65406c863c34db38ccb5c0",
      "b9ad851a18b84d96900013d2aef5902e",
      "89e981641e064270af5c611da7d3e49a",
      "93ff8b51410846708f9060d623485aee",
      "8928e0112ef84e1493689303989ae35f",
      "27aea65261b841e89c9c9034f58a0e68",
      "85509663af6e4e2aac5abc19369e9936",
      "3b2c39b546b1473aa0d5abf6a4538b92",
      "6a7ce61532cb42ce86a5594c88d2c430",
      "9181a115772840579939d8a91943f500",
      "f83abf4b921840df9676f921a1ff93cb",
      "0b80084924d941918f8ae87dd50126ab",
      "e60424d120f44088b9f471175789b809",
      "d0dcefc0e5b647ed8d5f84eae18e8e2a",
      "1ea140aa0f844a418da23f7b702eca09",
      "0360f7a56e0b4415baae3384e026773e",
      "48eafd1359e04e699be969a5c7cb7ea2",
      "5c580d80c7f4442ea098614eb9b001cf",
      "de0ea93b66864449a40bdfd510d5fabc",
      "c6834357c05147de8fe184a62e9629bf",
      "9fc24f4c7d894e5792c4a30788036440",
      "6e077e99a6f2409fba37c30468e610cb",
      "b1a09d95e0b5479887cc65b84c73d99b",
      "1aeb32e8da2a4790bdf9a362da339e07",
      "98b154e253f744f79ee0c4c3f5a7bfb2",
      "b6ac9f3694284b4cb8b8469032dd7913",
      "0cec35feab1d4efb83d8eca3e5468b8e",
      "3fa7eca9ba874d0fb7f3125c276428c9",
      "ace1f4b2ec36414ca1949208f57a8026",
      "de41e196328d4e39b0006b346b257a8d",
      "7a3ce039af5d470a95290d22f63b7809",
      "7e9bf3a8084e4952bb7a02b3558f5dcf",
      "61254cb902054b47a5e4bb6a01c0e32d",
      "232d82d91ed248f6a6f46ff250b1ff5f",
      "2b83ffcc48e64d2887d4c65401804b6c",
      "7f42fd5497e64aa385b8e1c0d1686cfa",
      "bcb76d749d2b4875b115e4c514ff69d7",
      "dabb60031a9142fc9ff72de09e350178",
      "f3b0a161cea843d89a99014ec7c59803",
      "93e954302f1747ecbf777891d5f1705a",
      "3e88b95f7f3045f88f47f385b03c4269",
      "f2124b768b044810b05610032e11b1ed",
      "e34b2a33cb6e407cbe09b78bb9a27326",
      "b9f9df38326e407d8109d2bd090c89be",
      "14d45408a92240e09c5f41276e45a201",
      "c3e7af566cb74c44a914c81b7fff88c3",
      "ef74b35c65fa4605916078e6c0834c14",
      "597ee44d41d142d2a8660ba4d22bdba6",
      "e87061b882ff457daca4a38f1e985359",
      "f176ec2085de44ccb081ae8808fc466f",
      "fb7721456552449b8cb205dbbb34966a",
      "1045f0bd84064f9996ebb6b8c2a2a235",
      "6ad210b529ba4a6cab9f68b4b60ce5a4",
      "bd4a47429582448d97facafc541fea95",
      "81ef2232dc634cca93d20781849a3b4c",
      "b8d9d7f07fff4cff8f31afb197a32b05",
      "ac39c5d65159437c886cef13e2d976e2",
      "50cc37aff0fb4cb6879d407935f64312",
      "c9e84f9d05c4452da73b46c9148dfe8b",
      "93d31ef5e6154ed08d169a08deac1bc1",
      "fe0966fecc2a49ceb4d9d517265a2e19",
      "a6f8ef177b704b5694b2575bd3f8793f",
      "347ee3c40cdf4c7d933676e28865e349",
      "07d14a35dc9a4bca890b03f14184edc1",
      "c92a19f9522b476db640b125dde49431",
      "9762d38255284a629e099e4dd2266bed",
      "b59adc75365947a0a27e2cc3ce7e4e10",
      "1b0faaafb23941fa93ce1e615e7b3c1a",
      "429a8fb97e164af08f16c0eb37c78151",
      "1bc37bb7cc454f0f8d7777da0017a93b",
      "843153e005ed406187cfbc3e3887ad98",
      "3dc83bbde9e44dc1844f8f56fe6b781f",
      "6a66af99fe5047378eb4ecd38407f78a",
      "9d9e567a204647cb861e342f8cde0ce9",
      "c22e1ac34e554386a9407e22345a71e2",
      "05db89e9e8c9421a9c327a4a2086e462",
      "ecf1f055fe22434b93fff33bc881bbb2",
      "a5822b157af841659ee001dce6c98168",
      "28d7d0ddf5574c50af3015c81005b3ea",
      "e06e3c67d8df4b18aff783e52a3dec69",
      "2348a4d77a6145f5b018aeb37ba56dbb",
      "5439830efec249baa187396e82e159e0",
      "569480784011426f81daaea718097a05",
      "d69920ca574744058ee090bccde29267",
      "f98ed1b600f340c7bf9d1954f7c6d67d",
      "75a00436f61b4001954d574b6a41f254",
      "3139ea304ca04a55a8ff56bc1e729b07",
      "96488063a58a4acebb1902404c511b7d",
      "c9327fe8c65a45af91e3e95af1608647",
      "4d75925386ec47a4bad6b8dd87ada85a",
      "83f895821ec34a11b308b7e95b176a08",
      "e131aa6f05544b5e9807fcecdbeb2edc",
      "249a82ef30024c39a225693877132835",
      "2bad23f7bb8c451194fab1ed02c5f7cc",
      "fd695f35014b4227b4e4de0847f64b90",
      "9203b47928d84ab593ccb6d571218cfd",
      "bfdc11c04d73435eaa86edfd939141f1",
      "a31510fe6e7d4bdaae493fa5a2d6749d",
      "50e65ed926f947d9a6e5188c82f73417",
      "18a39d2c37264017a328ab97812cb9bc",
      "f9a42e0c2dbc4e11a9eff20311fd21d3",
      "c77360eae13347e8a58af955014bb3ac",
      "1e5475275b9d437e9b6ae661f9f70ca9",
      "e6ba7e89db314e41a2b95f93f7a01297",
      "1f1ae0ffe6ec49d781f5db1da905f0ee",
      "b6538879424f4dcebe8b4ff8a7f16746",
      "84ebd89264b64819bd99c6458d9a64a2",
      "dc238a0241404075a15650ac2ad323fa",
      "522ec579f8f5455a9f553824049457ad",
      "92de6a3f487f46dc81c89cd3f234cd29",
      "ac1e17c471554202afd22bb0688c3c01",
      "1d00cbd98a394faa9e106d5f426e2b25",
      "2b089c001348495d8929052d22ae3d6a",
      "65cf9286aad8498cadef6ca8a92826bd",
      "666c02a4c2ff484e889322b0dc5c10b8",
      "fc1b4a5785364cf69d7fd7bf21081594",
      "f5c9db716c2046a4b504dc34f94d9922",
      "d18ad9ce890e475f9211b825c95f35c0",
      "14b4da6f36de43d7816f1c9425745435",
      "a85dab16099240c885e47fd49beae1c1",
      "cc6e1a1f6b96492ba2baec8c5e55c9be",
      "ea91f833131f4a7dbbea87efc8b777c4",
      "9484555444e94f86bb5dbaa662b070f5",
      "93113ecf5e6a4f0eba393a11cfa92d8c",
      "48dbee542efa432c85fc219724258a60",
      "a73389440227438c9ac997a49edb035f",
      "b69bf2baae30469daa29d376f96af98d",
      "6f61a31113154a3eb7a915abf9529e6b",
      "337d539de5cc4230a4db32775d5f8de9",
      "047fc62addf444f18c2f21c9fb23a1fc",
      "ac39c8a7e1854f9097feb6c0ece41607",
      "10d78b6f5bf041ea8db615a540f10f68",
      "903d665a499444f3886f0a096d725514",
      "23e830fa08a04c44b88b94607e27bf9e",
      "2f50a4797382433b979ff1a785960ef1",
      "d6320c58aa4b46db9b823d5145949fae",
      "967ffe7e53e443c58487dd34af1cebe4",
      "7fe75c1096c14c14ad48f3378bd118e7",
      "9d0ea3ce870749938b51b097ee27f648",
      "5dc3de427d0c4a0a9adabdace020bba5",
      "9a589f04e2634139aa92f173a0b3899e",
      "214b898adccb4a10b0181184368bb362",
      "0a9ce96e561d4744a9ba6d83cefa0bb2",
      "646d1a9ecca7426795b0191dd8786182",
      "9b17aa4b26fa49b394938294fe3584f3",
      "666908cdcf7b41ec87d3f8a40363c767",
      "447b48767eb744818eb147ee15e9a5ab",
      "eb0a21df82874b45a8420966f0651571",
      "56e306bfc13141fabcfbfbd4b37ddf61",
      "87933f0c813f4e26a4d11004d7ebf794",
      "a75b2dfd5b0747f6affaa358fde964ec",
      "cb8320b8aab04c6fa7d31cc8f13486b7",
      "960f5c2ef6034752876449b99f3be27f",
      "4a40ff08616b43819d44acb43df0fe6d",
      "6b624cf34533449b89febf273e8602c4",
      "d6c9818eff6843b4a1c99c794be844f6",
      "6eafae8ef65b462f904b5ea45489c650",
      "f629378296784bf8b76585a1a9ed93f5",
      "baefbc4a5b1a47f2b03522e7491c5355",
      "f0e8fd74c44a46c7a77ccd4842692aff",
      "8e026c280fba4d38b861cd5be8aab6e3",
      "43d1f8d1bead41be97653429e04a16c5",
      "eaa3d54c9dad4be78c57f80e961026e4",
      "43333a0c98c64c38b8adbf01aabfb16a",
      "eec7f5ca28104a49ab42e449600edace",
      "7ba7a9fe5e16480db5d69e8c49f8ba29",
      "0b644c8afd7547b9a5c15b6a6f19d23a",
      "5abebf549f04408f94c358725b1594bf",
      "30878c22ec324941bd4251dfaaf47da6",
      "8793f47b8f604afa9de32f83c0cc1e02",
      "31585cdcdb8f47128c97020f2be48673",
      "71be2983e89445b2a1597906eb1d2055",
      "831cbd7a2aa14fa6b9d5b800cf1b3d8c",
      "f56ae9e53e924497b89325501ac5497f",
      "14904f5beb144feaa331c87cc469f453",
      "3fad3f2916934866812f84a14af6c62c",
      "ed2d7676bef14156a2c91de489007943",
      "0c9bd7432a3f483c8cbcde14aa9a5257",
      "21320b822fb64efab126acdd96f5f17b",
      "d7d2f25a2454484eac54a50d544269ef",
      "a88c8e42a3964defb081f4f71e5eef3c",
      "664511a6952c40a185ec446a8992cb0b",
      "f67261b8fb774ff88dc08ad0c64fb5c6",
      "7254c93ad45c4d3a8b27006834b56504",
      "4eb36407cd16456091a4768454361518",
      "51d4186e2da34f84bb95db3ad7ac23ad",
      "11b95f99f57c48d29c8e6db488fe91b9",
      "963741ba0c8c4169ba0e00a3bb2c44ab",
      "eedbbcfd22f14304a0098140d1789d6e",
      "4bbec341a3b648c7989ef4b48c8d3425",
      "34ac6e3421aa4f0780e261ffc2759811",
      "ca103a75c87b4fabb396c598356741c9",
      "b682ba865f3641a480857f55747ed7eb",
      "2490abcd120b454980aafebf652e8d90",
      "5244edef5df0481fb986605e9b6d11ca",
      "2f851ea00c2440f8b7e2d3cc6cbde7d4",
      "ad143e496be2401ba3af59a91cdc97da",
      "18531c81ca4347dbb403c02db227cd74",
      "5d67b709da024ac68ec6ec1f89034bb3",
      "bb9f216562b24584a1f4fc0ad955af62",
      "d55e6991b6434e2bb1bcecab1e1446d7",
      "88d821381d5149c2b7cfc7097756dd02",
      "d382feb1956c4af0b22c32ac4e98f2a1",
      "8bf2666c0d074dc3b964878491cc8cf6",
      "d0a8af3b01d6422d8e028d1400805b8a",
      "3a1eedb996fb43f493a6b8f9950e5865",
      "b6430c5dbc9042a6ae5a47dc5608dc16",
      "3a417be68a814803a3b7a2c1e45648c3",
      "b928f33b3f5a41cf8ad334d6f19be56d",
      "0f7e41212c2c41b2919e0dc79fea9ab9",
      "386d89947f8244789106fa329b0f3e48",
      "1e82c0b8f37d4447bc459104fb99f2fe",
      "116b3cb9eaee4584947fe476c003af66",
      "3018303462944acea999c657f2233a0e",
      "f7278154c20343598b4280fe6f6c1ff7",
      "d21c66c0ae28412b90e05c5add4c899f",
      "21c219b90c7a465780849518d29e07be",
      "66985f378b124c37858792c52ce532a1",
      "f27393766c6a4a729960c6b7a8363d65",
      "87197e142fa74d1583a5f6816048ed5f",
      "b3964c2c1b6f4465b7f704f11991e621",
      "9419c7a810924b248b4a0b34635fcd09",
      "c47e88c5db7e4ca6ac46ef05ee305f58",
      "228656dffd314d47ac22bc49bde786f0",
      "98bef40764e043b080b184c6300587eb",
      "696b692140f84077bf20df267c9004b2",
      "b2a49a5b905c4c3c89b74b3115951c22",
      "6893b5323297421a9ac4203a3b5cb9f9",
      "9d7e3bc3606d45e4b606047cb9b7baa0",
      "89c25db01d8b4cb3b17ee7bd012b58cd",
      "a6a57684ef15425b96541da8f4ce4e7a",
      "1d994f06c09d49c0bae50cca722fc338",
      "25099fa546694b55a77d2083e310721f",
      "fd8fa361a5fe4d06b81546a8b112ede9",
      "ce5d483fe9bd45559782ab2f092e5ea5",
      "04d718feff4941bd8f418ac8405ec5f9",
      "958407e3806d49b78a49ace5dd1b9a47",
      "6c00dd5eebda4d409bac42788a532768",
      "cb1c6039f2b84b59a4345a9ffd7a5f7c",
      "60df258fd6de44c496658ba311e1d05c",
      "d063bcc106c54d4f911cee5632bc7e52",
      "e7a224a38bdc4b469a0b68f98e32caf0",
      "e1d2c1d81a2a481a8e91554a8825ae50",
      "0810490a07aa491ca5ddc218c0d2a329",
      "9dc687edbb36452ea3b616a65304df4d",
      "18dc09bafd5348f0bdbee9d7cfb1913b",
      "b0751b49a1264968bd02aefd73ead350",
      "cf5b12ec080a480a919e3a3780406f8f",
      "3dc295ae075847249e316603123e795b",
      "78f2a779f0564b5bb15bce4565336740",
      "7e143b9e62d74f3e8787ae37bb454a5b",
      "2e3e0125102c4db19a1d7643ed26818b",
      "e028399b3593456faab39998889cc03c",
      "52fd5537ef8f41b89cffd104793612f2",
      "283d97f0ed2b4630946ecb5c66b535b5",
      "e50b1e6c50684bbf90b7bda912bfd362",
      "3fcaa0a66b1c41b092bb5851650577b3",
      "290531f5ad754ab88a130e6ea5a497a0",
      "a019bb421e5f418ba8851da5f39fb078",
      "69d9727881964c3e91dc9fc4c4afba6a",
      "0d9d17abb85d425cb8ab5dff3a59f875",
      "edde239adb924a8db0c51fb9d41d1eb1",
      "5d339a0cac224da2883cc768293cbd7b",
      "9557667a394a4430a53f2cae632b56d6",
      "2a0730888ff54bb2a3318acf6b5c47e4",
      "b973bd405ae14492bbfd7aa9d13d24d9",
      "07259c80e3c1419cb39f63d00415c2c6",
      "38c76741044a46e0a5a9e4dd943c805d",
      "abb98bae79f64054ae90f6bb608eb000",
      "ba76e60918b948ffa3280a2861b055f5",
      "bd5de5c086124ec185beec0eb15ec205",
      "da26fc2eb96e48fd87fde7c4088bfc35",
      "11163289631543a18a52f4e9f4754721",
      "3cc3ec346849451384f34871c64d2102",
      "41b61c3d16a247ca9d70e6da19250e37",
      "624a997e6f35423e9beb9037a575ba17",
      "9a0b9fec32b94a409b284f1574e020d4",
      "f445371b6161401a87a41e537ed6dd39",
      "bfe16ba3f6b54a1abdc0c4add8e459b4",
      "41a01377adeb4d329158fe40bd72434d"
     ]
    },
    "id": "rT_TqV5jqAd4",
    "outputId": "32dfe9b2-1445-4540-c2a4-969eb7603f19"
   },
   "outputs": [
    {
     "name": "stderr",
     "output_type": "stream",
     "text": [
      "WARNING:py.warnings:/usr/local/lib/python3.11/dist-packages/moviepy/video/io/sliders.py:61: SyntaxWarning: \"is\" with a literal. Did you mean \"==\"?\n",
      "  if event.key is 'enter':\n",
      "\n",
      "WARNING:py.warnings:/usr/local/lib/python3.11/dist-packages/huggingface_hub/utils/_auth.py:94: UserWarning: \n",
      "The secret `HF_TOKEN` does not exist in your Colab secrets.\n",
      "To authenticate with the Hugging Face Hub, create a token in your settings tab (https://huggingface.co/settings/tokens), set it as secret in your Google Colab and restart your session.\n",
      "You will be able to reuse this secret in all of your notebooks.\n",
      "Please note that authentication is recommended but still optional to access public models or datasets.\n",
      "  warnings.warn(\n",
      "\n"
     ]
    },
    {
     "data": {
      "application/vnd.jupyter.widget-view+json": {
       "model_id": "bba097be83f648e9ba35121c7b8ac5fe",
       "version_major": 2,
       "version_minor": 0
      },
      "text/plain": [
       "tokenizer_config.json:   0%|          | 0.00/141k [00:00<?, ?B/s]"
      ]
     },
     "metadata": {},
     "output_type": "display_data"
    },
    {
     "data": {
      "application/vnd.jupyter.widget-view+json": {
       "model_id": "87fb4081a59540408b50736676bb904f",
       "version_major": 2,
       "version_minor": 0
      },
      "text/plain": [
       "tokenizer.model:   0%|          | 0.00/587k [00:00<?, ?B/s]"
      ]
     },
     "metadata": {},
     "output_type": "display_data"
    },
    {
     "data": {
      "application/vnd.jupyter.widget-view+json": {
       "model_id": "83400496ed66425a9890608be2722ec1",
       "version_major": 2,
       "version_minor": 0
      },
      "text/plain": [
       "tokenizer.json:   0%|          | 0.00/1.96M [00:00<?, ?B/s]"
      ]
     },
     "metadata": {},
     "output_type": "display_data"
    },
    {
     "data": {
      "application/vnd.jupyter.widget-view+json": {
       "model_id": "9b86b6f57e2e461e9173ccc46a6ac8d8",
       "version_major": 2,
       "version_minor": 0
      },
      "text/plain": [
       "special_tokens_map.json:   0%|          | 0.00/414 [00:00<?, ?B/s]"
      ]
     },
     "metadata": {},
     "output_type": "display_data"
    },
    {
     "data": {
      "application/vnd.jupyter.widget-view+json": {
       "model_id": "1f875177fef54f39ba5c92efb61b8bf5",
       "version_major": 2,
       "version_minor": 0
      },
      "text/plain": [
       "config.json:   0%|          | 0.00/601 [00:00<?, ?B/s]"
      ]
     },
     "metadata": {},
     "output_type": "display_data"
    },
    {
     "data": {
      "application/vnd.jupyter.widget-view+json": {
       "model_id": "27aea65261b841e89c9c9034f58a0e68",
       "version_major": 2,
       "version_minor": 0
      },
      "text/plain": [
       "model.safetensors.index.json:   0%|          | 0.00/23.9k [00:00<?, ?B/s]"
      ]
     },
     "metadata": {},
     "output_type": "display_data"
    },
    {
     "data": {
      "application/vnd.jupyter.widget-view+json": {
       "model_id": "48eafd1359e04e699be969a5c7cb7ea2",
       "version_major": 2,
       "version_minor": 0
      },
      "text/plain": [
       "Fetching 3 files:   0%|          | 0/3 [00:00<?, ?it/s]"
      ]
     },
     "metadata": {},
     "output_type": "display_data"
    },
    {
     "data": {
      "application/vnd.jupyter.widget-view+json": {
       "model_id": "3fa7eca9ba874d0fb7f3125c276428c9",
       "version_major": 2,
       "version_minor": 0
      },
      "text/plain": [
       "model-00003-of-00003.safetensors:   0%|          | 0.00/4.55G [00:00<?, ?B/s]"
      ]
     },
     "metadata": {},
     "output_type": "display_data"
    },
    {
     "data": {
      "application/vnd.jupyter.widget-view+json": {
       "model_id": "f3b0a161cea843d89a99014ec7c59803",
       "version_major": 2,
       "version_minor": 0
      },
      "text/plain": [
       "model-00002-of-00003.safetensors:   0%|          | 0.00/5.00G [00:00<?, ?B/s]"
      ]
     },
     "metadata": {},
     "output_type": "display_data"
    },
    {
     "data": {
      "application/vnd.jupyter.widget-view+json": {
       "model_id": "f176ec2085de44ccb081ae8808fc466f",
       "version_major": 2,
       "version_minor": 0
      },
      "text/plain": [
       "model-00001-of-00003.safetensors:   0%|          | 0.00/4.95G [00:00<?, ?B/s]"
      ]
     },
     "metadata": {},
     "output_type": "display_data"
    },
    {
     "data": {
      "application/vnd.jupyter.widget-view+json": {
       "model_id": "fe0966fecc2a49ceb4d9d517265a2e19",
       "version_major": 2,
       "version_minor": 0
      },
      "text/plain": [
       "Loading checkpoint shards:   0%|          | 0/3 [00:00<?, ?it/s]"
      ]
     },
     "metadata": {},
     "output_type": "display_data"
    },
    {
     "data": {
      "application/vnd.jupyter.widget-view+json": {
       "model_id": "3dc83bbde9e44dc1844f8f56fe6b781f",
       "version_major": 2,
       "version_minor": 0
      },
      "text/plain": [
       "generation_config.json:   0%|          | 0.00/116 [00:00<?, ?B/s]"
      ]
     },
     "metadata": {},
     "output_type": "display_data"
    },
    {
     "data": {
      "application/vnd.jupyter.widget-view+json": {
       "model_id": "569480784011426f81daaea718097a05",
       "version_major": 2,
       "version_minor": 0
      },
      "text/plain": [
       "model_index.json:   0%|          | 0.00/685 [00:00<?, ?B/s]"
      ]
     },
     "metadata": {},
     "output_type": "display_data"
    },
    {
     "data": {
      "application/vnd.jupyter.widget-view+json": {
       "model_id": "2bad23f7bb8c451194fab1ed02c5f7cc",
       "version_major": 2,
       "version_minor": 0
      },
      "text/plain": [
       "Fetching 18 files:   0%|          | 0/18 [00:00<?, ?it/s]"
      ]
     },
     "metadata": {},
     "output_type": "display_data"
    },
    {
     "data": {
      "application/vnd.jupyter.widget-view+json": {
       "model_id": "1f1ae0ffe6ec49d781f5db1da905f0ee",
       "version_major": 2,
       "version_minor": 0
      },
      "text/plain": [
       "model.fp16.safetensors:   0%|          | 0.00/1.39G [00:00<?, ?B/s]"
      ]
     },
     "metadata": {},
     "output_type": "display_data"
    },
    {
     "data": {
      "application/vnd.jupyter.widget-view+json": {
       "model_id": "fc1b4a5785364cf69d7fd7bf21081594",
       "version_major": 2,
       "version_minor": 0
      },
      "text/plain": [
       "model.fp16.safetensors:   0%|          | 0.00/246M [00:00<?, ?B/s]"
      ]
     },
     "metadata": {},
     "output_type": "display_data"
    },
    {
     "data": {
      "application/vnd.jupyter.widget-view+json": {
       "model_id": "b69bf2baae30469daa29d376f96af98d",
       "version_major": 2,
       "version_minor": 0
      },
      "text/plain": [
       "tokenizer_config.json:   0%|          | 0.00/704 [00:00<?, ?B/s]"
      ]
     },
     "metadata": {},
     "output_type": "display_data"
    },
    {
     "data": {
      "application/vnd.jupyter.widget-view+json": {
       "model_id": "7fe75c1096c14c14ad48f3378bd118e7",
       "version_major": 2,
       "version_minor": 0
      },
      "text/plain": [
       "scheduler_config.json:   0%|          | 0.00/459 [00:00<?, ?B/s]"
      ]
     },
     "metadata": {},
     "output_type": "display_data"
    },
    {
     "data": {
      "application/vnd.jupyter.widget-view+json": {
       "model_id": "56e306bfc13141fabcfbfbd4b37ddf61",
       "version_major": 2,
       "version_minor": 0
      },
      "text/plain": [
       "config.json:   0%|          | 0.00/565 [00:00<?, ?B/s]"
      ]
     },
     "metadata": {},
     "output_type": "display_data"
    },
    {
     "data": {
      "application/vnd.jupyter.widget-view+json": {
       "model_id": "f0e8fd74c44a46c7a77ccd4842692aff",
       "version_major": 2,
       "version_minor": 0
      },
      "text/plain": [
       "config.json:   0%|          | 0.00/575 [00:00<?, ?B/s]"
      ]
     },
     "metadata": {},
     "output_type": "display_data"
    },
    {
     "data": {
      "application/vnd.jupyter.widget-view+json": {
       "model_id": "31585cdcdb8f47128c97020f2be48673",
       "version_major": 2,
       "version_minor": 0
      },
      "text/plain": [
       "merges.txt:   0%|          | 0.00/525k [00:00<?, ?B/s]"
      ]
     },
     "metadata": {},
     "output_type": "display_data"
    },
    {
     "data": {
      "application/vnd.jupyter.widget-view+json": {
       "model_id": "664511a6952c40a185ec446a8992cb0b",
       "version_major": 2,
       "version_minor": 0
      },
      "text/plain": [
       "special_tokens_map.json:   0%|          | 0.00/586 [00:00<?, ?B/s]"
      ]
     },
     "metadata": {},
     "output_type": "display_data"
    },
    {
     "data": {
      "application/vnd.jupyter.widget-view+json": {
       "model_id": "b682ba865f3641a480857f55747ed7eb",
       "version_major": 2,
       "version_minor": 0
      },
      "text/plain": [
       "vocab.json:   0%|          | 0.00/1.06M [00:00<?, ?B/s]"
      ]
     },
     "metadata": {},
     "output_type": "display_data"
    },
    {
     "data": {
      "application/vnd.jupyter.widget-view+json": {
       "model_id": "8bf2666c0d074dc3b964878491cc8cf6",
       "version_major": 2,
       "version_minor": 0
      },
      "text/plain": [
       "special_tokens_map.json:   0%|          | 0.00/460 [00:00<?, ?B/s]"
      ]
     },
     "metadata": {},
     "output_type": "display_data"
    },
    {
     "data": {
      "application/vnd.jupyter.widget-view+json": {
       "model_id": "f7278154c20343598b4280fe6f6c1ff7",
       "version_major": 2,
       "version_minor": 0
      },
      "text/plain": [
       "tokenizer_config.json:   0%|          | 0.00/855 [00:00<?, ?B/s]"
      ]
     },
     "metadata": {},
     "output_type": "display_data"
    },
    {
     "data": {
      "application/vnd.jupyter.widget-view+json": {
       "model_id": "696b692140f84077bf20df267c9004b2",
       "version_major": 2,
       "version_minor": 0
      },
      "text/plain": [
       "diffusion_pytorch_model.fp16.safetensors:   0%|          | 0.00/5.14G [00:00<?, ?B/s]"
      ]
     },
     "metadata": {},
     "output_type": "display_data"
    },
    {
     "data": {
      "application/vnd.jupyter.widget-view+json": {
       "model_id": "958407e3806d49b78a49ace5dd1b9a47",
       "version_major": 2,
       "version_minor": 0
      },
      "text/plain": [
       "config.json:   0%|          | 0.00/1.78k [00:00<?, ?B/s]"
      ]
     },
     "metadata": {},
     "output_type": "display_data"
    },
    {
     "data": {
      "application/vnd.jupyter.widget-view+json": {
       "model_id": "cf5b12ec080a480a919e3a3780406f8f",
       "version_major": 2,
       "version_minor": 0
      },
      "text/plain": [
       "diffusion_pytorch_model.fp16.safetensors:   0%|          | 0.00/167M [00:00<?, ?B/s]"
      ]
     },
     "metadata": {},
     "output_type": "display_data"
    },
    {
     "data": {
      "application/vnd.jupyter.widget-view+json": {
       "model_id": "a019bb421e5f418ba8851da5f39fb078",
       "version_major": 2,
       "version_minor": 0
      },
      "text/plain": [
       "config.json:   0%|          | 0.00/607 [00:00<?, ?B/s]"
      ]
     },
     "metadata": {},
     "output_type": "display_data"
    },
    {
     "data": {
      "application/vnd.jupyter.widget-view+json": {
       "model_id": "ba76e60918b948ffa3280a2861b055f5",
       "version_major": 2,
       "version_minor": 0
      },
      "text/plain": [
       "Loading pipeline components...:   0%|          | 0/7 [00:00<?, ?it/s]"
      ]
     },
     "metadata": {},
     "output_type": "display_data"
    },
    {
     "name": "stdout",
     "output_type": "stream",
     "text": [
      "Colab notebook detected. To show errors in colab notebook, set debug=True in launch()\n",
      "* Running on public URL: https://a8d19b271b4cc5e7fc.gradio.live\n",
      "\n",
      "This share link expires in 72 hours. For free permanent hosting and GPU upgrades, run `gradio deploy` from the terminal in the working directory to deploy to Hugging Face Spaces (https://huggingface.co/spaces)\n"
     ]
    },
    {
     "data": {
      "text/html": [
       "<div><iframe src=\"https://a8d19b271b4cc5e7fc.gradio.live\" width=\"100%\" height=\"500\" allow=\"autoplay; camera; microphone; clipboard-read; clipboard-write;\" frameborder=\"0\" allowfullscreen></iframe></div>"
      ],
      "text/plain": [
       "<IPython.core.display.HTML object>"
      ]
     },
     "metadata": {},
     "output_type": "display_data"
    },
    {
     "data": {
      "text/plain": []
     },
     "execution_count": 4,
     "metadata": {},
     "output_type": "execute_result"
    }
   ],
   "source": [
    "import gradio as gr\n",
    "import torch\n",
    "import tempfile\n",
    "import moviepy.editor as mpy\n",
    "import numpy as np\n",
    "from diffusers import StableDiffusionXLPipeline\n",
    "from transformers import AutoTokenizer, AutoModelForCausalLM\n",
    "from PIL import Image\n",
    "import pytesseract  # For OCR text extraction\n",
    "\n",
    "# -------------------------------\n",
    "# Load the Instruction-Tuned Language Model\n",
    "# -------------------------------\n",
    "# Mistral-7B-Instruct-v0.3 is used for more accurate and refined answers.\n",
    "instruct_tokenizer = AutoTokenizer.from_pretrained(\"mistralai/Mistral-7B-Instruct-v0.3\")\n",
    "instruct_model = AutoModelForCausalLM.from_pretrained(\n",
    "    \"mistralai/Mistral-7B-Instruct-v0.3\",\n",
    "    torch_dtype=torch.float16\n",
    ").to(\"cuda\")\n",
    "\n",
    "# -------------------------------\n",
    "# Load the Image Generation Model\n",
    "# -------------------------------\n",
    "# Using Stable Diffusion XL Turbo for high-quality text-to-image synthesis.\n",
    "sd_pipeline = StableDiffusionXLPipeline.from_pretrained(\n",
    "    \"stabilityai/sdxl-turbo\",\n",
    "    torch_dtype=torch.float16,\n",
    "    variant=\"fp16\",\n",
    "    use_safetensors=True\n",
    ").to(\"cuda\")\n",
    "\n",
    "def answer_question(image, question):\n",
    "    try:\n",
    "        # Ensure the image is in RGB format; create a default if none is provided.\n",
    "        if image is None:\n",
    "            image = Image.new(\"RGB\", (224, 224), (255, 255, 255))\n",
    "        else:\n",
    "            image = image.convert(\"RGB\")\n",
    "\n",
    "        # -------------------------------\n",
    "        # Stage 1: OCR Text Extraction\n",
    "        # -------------------------------\n",
    "        # Extract text from the image using pytesseract.\n",
    "        extracted_text = pytesseract.image_to_string(image)\n",
    "        if not extracted_text.strip():\n",
    "            extracted_text = \"No text detected in the image.\"\n",
    "\n",
    "        # -------------------------------\n",
    "        # Stage 2: Answer Generation with Mistral-7B-Instruct\n",
    "        # -------------------------------\n",
    "        # Combine the extracted text and the user's question to form a detailed prompt.\n",
    "        combined_prompt = f\"Extracted text from image: {extracted_text}\\nQuestion: {question}\\nAnswer:\"\n",
    "        inputs = instruct_tokenizer(combined_prompt, return_tensors=\"pt\").to(\"cuda\")\n",
    "\n",
    "        # Record the prompt token length.\n",
    "        prompt_length = inputs[\"input_ids\"].shape[1]\n",
    "        # Increase max_new_tokens to get a full-length answer.\n",
    "        outputs = instruct_model.generate(**inputs, max_new_tokens=300)\n",
    "        # Decode only the tokens that were generated beyond the prompt.\n",
    "        generated_tokens = outputs[0][prompt_length:]\n",
    "        answer_text = instruct_tokenizer.decode(generated_tokens, skip_special_tokens=True).strip()\n",
    "\n",
    "        # -------------------------------\n",
    "        # Stage 3: Image Generation (Illustration)\n",
    "        # -------------------------------\n",
    "        # Create a refined prompt that ties the question and answer together.\n",
    "        # This prompt is designed to generate an illustration that visually explains the answer in context.\n",
    "        refined_prompt = (\n",
    "            f\"Create a detailed educational illustration that explains the following question: '{question}'. \"\n",
    "            f\"Include key elements from the answer: '{answer_text[:200]}'. \"\n",
    "            f\"Make the image clear, informative, and visually engaging.\"\n",
    "        )\n",
    "        gen_image = sd_pipeline(\n",
    "            prompt=refined_prompt,\n",
    "            height=512,\n",
    "            width=512,\n",
    "            num_inference_steps=50,\n",
    "            guidance_scale=7.0\n",
    "        ).images[0]\n",
    "\n",
    "        # -------------------------------\n",
    "        # Stage 4: Video Generation\n",
    "        # -------------------------------\n",
    "        # Create a short video by generating multiple frames with different random seeds.\n",
    "        frames = []\n",
    "        seeds = [42, 123, 987]\n",
    "        for seed in seeds:\n",
    "            generator = torch.Generator(\"cuda\").manual_seed(seed)\n",
    "            result = sd_pipeline(\n",
    "                prompt=refined_prompt,\n",
    "                height=512,\n",
    "                width=512,\n",
    "                num_inference_steps=50,\n",
    "                guidance_scale=7.0,\n",
    "                generator=generator\n",
    "            )\n",
    "            frames.append(np.array(result.images[0]))\n",
    "\n",
    "        # Assemble the frames into a video (each frame displayed for 1 second).\n",
    "        video_path = tempfile.mktemp(suffix=\".mp4\")\n",
    "        clip = mpy.ImageSequenceClip(frames, fps=1)\n",
    "        clip.write_videofile(video_path, codec=\"libx264\", audio=False)\n",
    "\n",
    "        return answer_text, gen_image, video_path\n",
    "\n",
    "    except Exception as e:\n",
    "        return f\"Error: {str(e)}\", None, None\n",
    "\n",
    "# -------------------------------\n",
    "# Build the Gradio Interface\n",
    "# -------------------------------\n",
    "interface = gr.Interface(\n",
    "    fn=answer_question,\n",
    "    inputs=[\n",
    "        gr.Image(label=\"Upload Image (optional)\", type=\"pil\"),\n",
    "        gr.Textbox(label=\"Question\")\n",
    "    ],\n",
    "    outputs=[\n",
    "        gr.Textbox(label=\"Answer\"),\n",
    "        gr.Image(label=\"Generated Illustration\"),\n",
    "        gr.Video(label=\"Generated Video\")\n",
    "    ],\n",
    "    title=\"Virtual Tutor\"\n",
    ")\n",
    "\n",
    "interface.launch(share=True)\n"
   ]
  },
  {
   "cell_type": "code",
   "execution_count": null,
   "metadata": {
    "id": "yPKwtF4bzQLN"
   },
   "outputs": [],
   "source": []
  },
  {
   "cell_type": "code",
   "execution_count": null,
   "metadata": {
    "id": "SX7bS65pzQWG"
   },
   "outputs": [],
   "source": []
  },
  {
   "cell_type": "code",
   "execution_count": null,
   "metadata": {
    "id": "ExddT2lyzQYx"
   },
   "outputs": [],
   "source": []
  },
  {
   "cell_type": "code",
   "execution_count": null,
   "metadata": {
    "id": "Dqr0Zor2zQbq"
   },
   "outputs": [],
   "source": []
  },
  {
   "cell_type": "code",
   "execution_count": null,
   "metadata": {
    "id": "fj212f1_zQel"
   },
   "outputs": [],
   "source": [
    "#stablediffusion3.5accuracymore"
   ]
  },
  {
   "cell_type": "code",
   "execution_count": null,
   "metadata": {
    "colab": {
     "base_uri": "https://localhost:8080/",
     "height": 1000,
     "referenced_widgets": [
      "5d011a521f7d4ad3bbc3917fd6a7a6d9",
      "b45ceafa544d42a889c9f80dd0f7eac5",
      "979aa1a37ec9426bbc49d29da2b0db8a",
      "811b52ac65bb42b4a415b77d05471e65",
      "1cbc6197d6ee4459b549e7d47d2bc883",
      "e879a5181bc4435492cd6c0119b78385",
      "aaa4979cf9ea4609bc75a76f3ba3edce",
      "f9987631c51644368e3b0397d8ca5761",
      "7dd022e3176048f08177950b393846dd",
      "da86aae9600143dfbb66975f978bc25a",
      "e33244f10faa43a2baa2130ab1a99943",
      "d68423b79604484b837ac5f1d415761a",
      "904f3b3215854d5db8b181a9d4168661",
      "9a81a5d3b7f04b9b8e70f891c360da26",
      "6fd629a4f6cd401baa5d162ecddc94ca",
      "e8891d95560f423199924f5db22706f7",
      "22a3479b4602425faa17bb8a23d39c55",
      "31f76570d874471b97ef7705f1f45fd3",
      "ea4c485c4d1f4a59aafbeab12fddef50",
      "896be04fd6b6452eb7122600dfe6e400",
      "37947e628dc0470f90f9ef8f3f2659f6",
      "66cef42305764f0fbb8c5a3ff5da38e8",
      "83a683b9299d4c1fadc33c82c079294e",
      "34abc8542b004dd49e770f782c80d21d",
      "8ad7d403c4f44df091011bda545aea61",
      "31f18cefbd6e42c8bd880d5b2ee44acc",
      "88794d3228de416498a16c4ce2e92a4f",
      "ba2cbb8d16124485b7c0b8e994c53a2c",
      "621533027b04481ebe389fce3478c68c",
      "bf6eb0c71dc94ca587e5227b155cc1ed",
      "67c97ef1ac5443db9806b0b02ff772f7",
      "372c3d02785c4ac780db32f500147cc6",
      "8d93fe4f11fa4210a4e999c4d03adc32",
      "5f2f5c151e334ad49710b23ae4892365",
      "64316ffcfcc04cb888162d4e5d8a9173",
      "f0d55d0ab7aa4497b9c2d68420fbdfe0",
      "9d7348f317ab480da40198124b3f188a",
      "826a35ae19a64cbe913b0690894037e1",
      "ef6dace9538842718484c0f91c6ca15b",
      "e0b78c6478914371929bad9e7c429a11",
      "b256321b77ee4648a10bacce42299203",
      "fd412071dd64411eb3ab85b42df90420",
      "4fbb705a0f4247e89ec1d7e863138add",
      "daa46b098494430bb0fcb499959dfc80",
      "ab2715813c7646559f67d85e6081eb48",
      "145a33a9bfe341fb8a01e1186c012189",
      "c03de448bf004237978f5621915d6df5",
      "719b9c67bca04dd99071b17afc18992d",
      "5e6ad88979fb4a039167242056895a8e",
      "c4486ef502f74ff7ab803eed470346ca",
      "493f6f021fd7420894b3de20082fc360",
      "43b3caa1624d46b19c4643cbaffa3662",
      "2d4c06eae1b44147b249472f8b27d000",
      "cc8fc8c9e48c42c49d23c86a21f2b06b",
      "5cf4224d43624c22be05982ed7283a82",
      "8a1acccb8b9e432185239dcb40990f58",
      "8dfa480a63c04a6c86a042eac4a2d3b6",
      "d194ae68de2c40d3ad19a765603ef220",
      "a2851990338840768125db83845a5e8d",
      "7fe19e30d015409d97e558ea40685072",
      "a11bb2b7e10c48f289264a971e6aa548",
      "717b3011bdce45c185c2eb6f72e6fa22",
      "cee48d4c2ab6470698c4f73da1bb5f9d",
      "affa833da6d04d0e8fd6f7aa7c13b347",
      "062756dd9ccd41d18a107a9c8789e79f",
      "b04cbe07a42e4dd4b9db181038ce8cbd",
      "68496d33aa594151ab608237f458a5b4",
      "26c6814518ec46a7be5efe68cdf1de61",
      "17b37406ed3d49dc9956e2f8420997d5",
      "a998602d5ecf4032b8c076109e74fd4d",
      "04dd17f797eb4489ae76b3847ad3893f",
      "f093d1a6ddb84a0ab5ab60615738cb72",
      "da2c386bb511407089c241806ec36c1d",
      "026be363f081480a8c03546ab42f5e33",
      "045718def8874ad9a814f0e7296f8277",
      "2ad85fcd5c1d4a879b3e4336340a3ed6",
      "5197d6dc941e46899d26224728595f37",
      "a3eacfd11ba748cbbcd0dfa0f0ac259b",
      "5d8aa1117a324aa3bc100aeb3f99c33a",
      "845a5f84b04742ce8db6a9b3ab669eac",
      "d0e193837be04c2fb9347c6a450bc688",
      "8d9afac1c46d426eaa53fb0c5193031a",
      "c5205d784d0a445b9e08fa662159cffc",
      "bedbfdfe87f240f3a61a56c99c959d27",
      "c13bd4ec4a4b4629b2a20223be5356d9",
      "2d49665ae60e4276aaaa4be01986ba29",
      "747df8bc52284ef78007256065c290b0",
      "6ce83c87754e456c849c1d1dee6c7d7f",
      "f4208b98e1ad4dcc966ba947cc46360b",
      "2a66d595bc4642f0988c3a169038df1e",
      "a5bc864c9e6b45e590c7433899e5846f",
      "b3b46ecc57774cce8a3a111330b15c70",
      "ac624ea5c1634ccea3b08b318d3ce5bb",
      "a9d506c4b8aa414b81cf464d3586e2a8",
      "386b7606a5ac4751b81b6d103055e955",
      "2190985bff5947a791870fb1d65bed84",
      "2629099d85454e76afe2abd569140985",
      "ce8aa1ba02534c138e9689f8ee96beb3",
      "29c9a7285f1a4faa8b84a20383146719",
      "d6b0139a04dc4fd49efcba86ff6d2bb6",
      "e75dd8d38b4d4bb097c360d88daa18d8",
      "f45ef329b4b64b8ba14ddca572b8f303",
      "3ed6cb700fa446eda2c28f251bf35601",
      "4d3d512dc02f4b9dbbaeff215a53caf7",
      "32dc07057fd84472896c440feae15942",
      "252e072d938241c79f0db312b5a756bb",
      "3dc8aaba0dea4e2b86dfdbc79cc9ceff",
      "34f3f9cc27554f3f856c53d67913517e",
      "b55367d0f095461bb54068cabcbbf664",
      "2d71bc9a42e2449ebe8078c8dad6b94f",
      "d8b9883754d14c22ac9266b067c717ac",
      "a4186bb3cc1e469daa27c475968379d5",
      "fb7083087efe4d3a8eba63c56bd7adf6",
      "77f90f8e33a5422283df44a8c56cbb80",
      "0c7cdddfb7be4f689fadcb7840a6efd6",
      "8c131d7098c14fabaf822976a408bced",
      "ae41b82742ff45bd90d62f347b83b8c3",
      "834d27cb3bc54cd8b277c409a5301dd1",
      "dafd68c4b8394beab56c2ece3f5c219a",
      "6a3046c0e97747ceb3dafa66a4361c0d",
      "40c64ad0892e4b8799623e093db58605",
      "b1bc4afd27ad404198434929ef445be1",
      "350c1a0ccc744c7486ea6a148bc0b279",
      "690b2cbe438f43c0a2c7677e043a2b06",
      "7dba73bbd3fb4d37aec2b47671e87c44",
      "875384c0034148deb5df333f9320e29d",
      "e488c822343b43339857011c92bb77df",
      "6017320d5ac84886849406c6f854b760",
      "02f223c1910649c5ba21e9199b89c3b3",
      "f91df249960e462ba10c0e55536372fb",
      "e98632390a4340c398a1ff10887cfcd0",
      "d65fb40653b245f28a441e9d276b3d07",
      "47e4a8520c664efa82cfee0f3f45e481",
      "96ae0f58eebd4be49fad05b381e634f5",
      "c06e930c516f4130843bbe3543b0f9d5",
      "19df4058075a42e6bdb048b3e3df21d2",
      "060e6d0d7a094c9e8f06296c9744bd8f",
      "d47caf47b7eb4e188814b607e8a14640",
      "38a3e378ddee4fc2b29807f21e2062d4",
      "7b6eebfef0114624b3570dfbef987d26",
      "f3586d174a2049829b4e39e4462f4669",
      "4124978b648141b9bc4ee73e478e2b7f",
      "25790402dfe647a6afe98d65cb08fffa",
      "0f9afc040ff54d74926fb3141a939986",
      "02723b2c4de446729e907c79a51d23d1",
      "278c982489ac484492e38f05d40eefe0",
      "16764d65fd1e4264bb36fbdb092ad603",
      "718efe2fecb54a1996127fd6c234c7d5",
      "f678bd32d33e4dc6b58e9e831d1ea885",
      "5a08614298c247358a01adbe349c3f34",
      "5508af892283496d8c8391a94ddd9395",
      "c23df56654b2471db1cf78ef16f696f4",
      "3a86ea65e8e44ff885557e610ffbb6c6",
      "ee606e60e76b430c897176f09555e0c2",
      "94662ff5a3044267be87327174c51a33",
      "490be0e6c2254db68ee3dc5611825c38",
      "c00556bb6e484bc5a87fb53914d61bac",
      "f7fdbd3b15854809884c4af776543793",
      "d37aae3f10ed41e3ba6155e861cf6a77",
      "1c85f7e28b9d4040b0f26e7505f0b1e0",
      "8374767016604a7da18f5a4643906420",
      "013b8cb5a4b54632982a4bcd7f93ebf4",
      "7330d07d9290405a820704d029a85f04",
      "4fd0e8db26a143eda1c6f5539a28fe73",
      "99245f7243054f49853cd2ab3b856fa0",
      "5403f935bf204f42b40579ff338b9677",
      "ad17c591cd3a4de69e576d15e3f573b7",
      "3fc58a78944742ccb71ece8645db2b74",
      "2f645133108c4ec0b7d314a18b15c736",
      "1475870c74b34452bf19596e22e48364",
      "327723cfe05645a09a38b1353b4fea71",
      "401f9d226d4249e99389e29372d8c0d3",
      "414147b3b4834013a71804bc1eca9047",
      "e9f2da7a894b4c95870fa5e80f01272c",
      "e5dc425dc90646d19e0c77feae91a96d",
      "a17f23096d5948be904aa1c4865921c7",
      "1b369cd5e0ff44a3ba8a0c5498b92166",
      "4efd8ee9ae34424abf2741c849fac092",
      "d98297ebf405449184fae3a34c27fc1f",
      "c64812ed183f4c29bba83f0d016bffe4",
      "ec5a8fe591e049e6a6a877bc478ffc13",
      "f4904650f31845cdad9d07ebd718dbc8",
      "00ee17b9f25b46edb10b4325474b5b6a",
      "58bdd70f6576480f80e3b1b00cafe2d2",
      "0c385497d2444dc986aaed1bde59d303",
      "aba7433114484c71b2833a0ab283f8af",
      "be7caa60ec7447399655660b3d20fced",
      "f39afc02ffdd4492840a46b37835aaaf",
      "5f47c13a988c48089b64bf3e66f47506",
      "88e534e4c9a5498790c2aca69715d4c7",
      "6dd44041c6d14ed5a0cfafda5fb171c7",
      "66a306efee9d47cea4a1b187bf25ba90",
      "83cc3d4b53ad425ca0405032bbec12cd",
      "aa6a3026443746b2b1a474a51fe5dfaf",
      "4a8a958cfea3443d9dd3d826749fc40c",
      "a869d91fdb084366998cf5fe568791fa",
      "be8277f8342a413c9b75dc2d3d5ed8af",
      "1d25ff7ad0c74240b9375441364625bc",
      "62bde132d3204ae6a19319bad5530459",
      "2899af4a1252481498ff6a87d2b1b01d",
      "75474c50d9184b8e857dd50bf531b856",
      "99492844387b4e51a05eb867e3705aaf",
      "b4e5da0f9656450fa6c88de17c0287cf",
      "5f11a78366e14dbf901e4efb690705f5",
      "457ab89fa44e4b47aa9425fac9773282",
      "96126d859a8147e7939587f04f750180",
      "5f83f8aaca6144528dfd2edd8b94b78f",
      "d39f2c90512e4478b7ef7ebfbfcb3af3",
      "445343e06cfb42e692464531cf81c851",
      "1cdc6ae7563b4220afac6f70d2ecd6f1",
      "d76df750765e4543b9ce7396633f3db2",
      "d7bf7fee07e140568fcce6d99c9e4460",
      "322f0c296c5545d0b8c8f0e05bbcf326",
      "6acfb66e1f504604b71fe2d2f789a2aa",
      "6c7782e981084f35ba6382d31535f474",
      "a2439c0d3ab445f18ec344f50287810a",
      "63b922dc3cfd44b78868899152a07939",
      "81b363697e6c4782a032158fcd8c2695",
      "b4142925b8524019b8be3979b18956c7",
      "db354da34c9a4ea18c0b0184f7958779",
      "cdde87dd593146c5b08fd70b9d8dcdb7",
      "cdbfc22933394a3981d0820df991c59b",
      "29e22a2ae407469981ad819d97bd6636",
      "3a41a94442da464a847007ddca0b4366",
      "0a20132c92ae4872ae12da9c49877988",
      "166e6c670dbf473d85422332696938e1",
      "ed2ba8faaa5e475d92fcedcc30d03706",
      "e4ad85faa07740c6998a5414c50c0db6",
      "a2f94702a9c84086b54b8ee07529bcef",
      "664de0a716c443f0a09201ca7b66edea",
      "b362a5e12d984e15bac3e0e42abbeaba",
      "7d8f2ce9d8a44165bae2b101815c1663",
      "28acf561d6da4fb5b524abbe61f5f566",
      "3c7b669ec0f8460c8d1f6b794a67303d",
      "d188d85a0451478390bafea8d058906e",
      "2e699966c2f547cbb86995dac69f93db",
      "aa1cf70ebf6d42bca0df35385d1a1964",
      "635e376be57d47d4afda4caf0d14be44",
      "d21e6b4d814d4c7eb5a7a0b2705553b1",
      "5016338633e94e1bbab077dee925099f",
      "5b638f7020774ceb9dded7fd2c7bd3de",
      "64b8470d706449e98f884afb0e8e5313",
      "73e178530ebf4115aefd360220bc287d",
      "727b28ec17bd43b689f7515eb9e3c4de",
      "9bbe13257b2f4ed18148ed9206b18092",
      "41616593b2af4c1a996c98ce610137db",
      "1436ef5e523147b48b480875485f43d8",
      "d7cae8fcc4d6413ea3be6bd03ee0119a",
      "a3918afa9d00424d808426739c9c6d6e",
      "8641e146ba0c42f5917061e5f6eebe7b",
      "9d584ffc2b984aec8b08929603ddf0e8",
      "254b2378b80941d7a860d537a8825bbb",
      "f48ec10a123c4135904d66ca7e8d6b89",
      "e47aa76b95f342d3bff087b2f640f466",
      "bae158ced24c4a0f92d458ac069a33fe",
      "be1d4b05a20547af962fbe3bd7875ed7",
      "81defd565e204a88a7eddde5f6c63134",
      "64d3239177da42278ee864a7b164fcdc",
      "24d61351842e4af680a0ac7d7f859073",
      "7a50770b0df54cf0ad84a63d719bf70c",
      "a5718b9729864d7eb858f97205ffc2d7",
      "b77c159d504d40daa953c908de5b3622",
      "dea937e5fc65473ba34a3a2642d374b9",
      "a768db36ff5a4683a159603e4b0052e0",
      "3fd6ea578c0d4de49f65c99ab6e3364d",
      "e0e98639bab24ab3ad63ccadbe8c3f48",
      "472dac8a40664a38af7d97eb435b8a66",
      "04eb9e5823ae49788094e0e0ab096cf8",
      "0881b2223db546a69b4c6e7fec835458",
      "1dab54423f96419e8439d1b836e66b3d",
      "f81f9ef008464f78bdfaaf9c299a837d",
      "c67bdbdfd08a40829b68f4c335fd6aad",
      "d9fb942d34ed40cfb708cae225d2bc83",
      "fc693d4ef968419788697da63974868c",
      "e22d6641e5ae446cad498ccfa8ff85ea",
      "36cba5b37a7d4ba599c0726297b54628",
      "7255e35f3abc40dcb8d8c5d52411b0eb",
      "565fe62843694c9cbb549636fe34a9ec",
      "e4c0c56f64b14bfc8e678d025cf1e543",
      "62e4eceac1b9404d82cf169bdf0a42cf",
      "5fb53cf2bcf545358d6d3a1041a5c4a2",
      "e9baa0e5065048b7a3be3c2ee727923c",
      "5d9248d532c74968b205289f6ab6be37",
      "d40b4dedfdc04fcbbf04c652bca36d3f",
      "6266cc925d274e3ca5f9c2ad4f3517b4",
      "18f73a7a9fee4c418172f163513d1543",
      "2bc61cc236224e70b12431607576d5a3",
      "f89be30b074d453bbfe81c5bfc165e3c",
      "a1c4526e9fc34a05ab13af9ad1c49142",
      "fa9358bc9fcc4bb3af63d35ba2a66557",
      "d07c6d0f36dc46b6a8e5fe264e3a001a",
      "f274cec1fcc340deb70af16cf646b61f",
      "f64067df71644c2f9bdbb29821f47190",
      "b37ab46250754c35ada398fae19b1c6c",
      "f7fa5fc8b5194373b9a97fccd9edff8d",
      "09153411906a47f2a13ae580d3ff5c1b",
      "ffb7759540f14830806f256712cb435b",
      "a85a34deb275416fa0ba8ecf85263ead",
      "914c287cdedf42e6bd39714cf1866da3",
      "d6c624eee31b446f80bcac8d08c42a6e",
      "33869b7cf75c4465b2a4161c18760332",
      "e242b12d2abe45f6b8aa72b882bdee68",
      "b5245d6c48b64370b79312f3d4da6c62",
      "7d363c69f5e44671a2c0e441c5ec1c48",
      "4d5098cd08c84bb8a0384e5082ed89ba",
      "b1894514e76d49c7824a9ffeef0ff2d5",
      "67d19a3fcfd04c60b309250523cd8614",
      "a291b785987c4499a91e2e282bcaeeb8",
      "cb669308a844427f96d1c8709417c510",
      "9610f93ecec349b2bd6f8298feb74e43",
      "beaf266f297949abafc38dc0b2c5a2da",
      "856c7826dc1f4e7097f06484a7db290d",
      "03ef44b21b6a4661b3a280dfeba40536",
      "0623309312044ad3b44cff8b19c3d331",
      "9d28efa8b1d54bb0a3c711645dd90df4",
      "1e1e36b8adfb4624baf8787d530f65ae",
      "2a451027c6c84b0b93e96dcd5fb3600c",
      "991443aba6794ef584ea91c9efa6ee8d",
      "7e03502b58e848d684a7fbcc2298a5eb",
      "e2c162233dd245edabcc889cfefe91f2",
      "3047c4f603c2401994d5ee3c8c19009e",
      "de282a448ed7466286104fa8f700d469",
      "d0a172f12aa14a15bdee5979ec46e3af",
      "29d6fb5541f942969d36f4ca81c59e70",
      "6154e0b3009d46f19c19a8e05b9903a2",
      "d782338087a54c0cb8e49aa84cae11ec",
      "b2633e057285461a9742ed0293b27063",
      "6d0d1df1f0e74b689653e54702155b15",
      "681564e0e5284bedaea2dfd206d93bf2",
      "27a24a93fee54fbfa9e21db0cc4422ab",
      "73cb0c2985694470ba1714ea17736ac8",
      "35babc2de57f4cd08bc737de7de06b1c",
      "1af947af14574b8ca8ccfc8a8cf17c87",
      "ca1e630c288a4958a50bb99339da3f67",
      "2e64f5c12f1c4d53918ed7b51243251c",
      "16b2eb1410154a8e9bc5413903553721",
      "b06dc906358f45b6bb4830301b3a2b16",
      "17b97bcf55934eca885e0d12ddff3237",
      "f4ce6633850e40b29b1324ad9da6e59c",
      "b8ffc4d230e84fff8f7efe724d8fc35d",
      "7274050cc06d4fca828af5d577ee5c3a",
      "c1e8303f40b747fbbbbd801d6b7d4931",
      "a89cf1fc8e5c46d19157af790a0b1eee",
      "f6020c75bdc646e1b040832820f6109c",
      "45b8d1ec198146b9bdac1e2ddb25b1c7",
      "0c2d8be55b85441a9a4cbeefa3ae850f",
      "38a04dd48e4441fe8dee33052e5cf327",
      "74fed309fcf94bedae1a4d1485b7ac4b",
      "0fd73840b4f141d2b2dba593ca2860cf",
      "33fedaaa606f449fa76aff324aa4ca8d",
      "00cfc24ca80a4edfbb60b71d54f2e338",
      "4488f052213f476cb2b29f7eb51d042a",
      "9be0d12117b1416c9f0594c331922840",
      "42d4c85c158e44c6b50d5d51fd0592d5",
      "c2392fad153a4c26b97dc70aa34d9727",
      "ea769fb43d5548df905b724e69fb84e1",
      "3f0a8b629b044645afd272c68cb81eae",
      "65816063f7fc487badadea421e341921",
      "105bc3b07edd4cbe82b8ea756b8c1bdc",
      "2ca8720ac0bf47648749be9e2128b7b2",
      "94163dda6ed14abe96c3aa92b6dc8f11",
      "7c090a928fc04497883e5f903858409b",
      "f3f40be6036b4a27b7e3f1d040393bb6",
      "1626b688dfcc4460962d649f758a76dc",
      "6349b235250c4e19b3012399f74746f3",
      "353be10dd97042b985a2ca7e7e913b0a",
      "a3f097dadd7448dbbdfa359c1c91e852",
      "74540dbe73bc44cbbedc3f326b1982b8",
      "348d5d77b7644ad49a4c5b1ff70e8baf",
      "285c53e5b05f4ce583ee9e66169b4a3f",
      "5796b085ef2342d8a3797e7c906d4d88",
      "f94d0e935d65419483b755f88cfbd8ef",
      "ea60bff410f7419e90e26d73cc23a372",
      "4ac9bd1c0bb649458a6094511a5a262e",
      "98b4cbf87e5842a590c4b348e35e7d5f",
      "d153e1a2084b48d3b1125e25fb8634f3",
      "25f3e1a37eb3425bab9d30cafad06736",
      "f72216c7180342a09e90ad3322974d5a",
      "84d8339ce7e4472484ce8e653308be02",
      "2e11f94ab94d460bb8e5e905271fd8da",
      "fc653693f9974143bd5ebd6231eb5b46",
      "157a0c68d5cb44f4a0425e9ae25630c2",
      "74beab31c9a3412ba5bcb28574e0d9d2",
      "2292de1cdb21414d86b52f34e5898c66",
      "0131fbde1543455dbdccd4a92add4115",
      "e3d9a39db5a14b94a28a224bd25e0a86",
      "90ad3fcb1bad43fead3ea7cbaaee7fe4",
      "d41fa2e3f92240a89d7627a419a1462e",
      "caea1e16edd44e9cbe8254272d1444f1",
      "592a1cf5ab274d2387b498703ccc646a",
      "c66cb1bdf7cd4fc4b1bcebc10a74572a",
      "800bd83a6df644b0b2251dc865e520a2",
      "da3633ea222b4875a3dca9f9fad6c60a",
      "8bf93d9719054b4e9f3ef9879b5e8dab",
      "2e9fe2f4306540e58aa7dea8bc66cf91",
      "031af4818f63468db01afe1f2bf18a19",
      "633a864d56bf408e9df58ecc0bc496ee",
      "d197d779fd2c4047b79a69eb0438b56e",
      "ee482c5443fd4e8eaa08924f497db82e",
      "2bc0dec971234e52a7382979f8e06cc5",
      "614067185a8b469c8f07cb8f01543dc1",
      "b1cb9778b9d047b39b28515b1e0b53a8",
      "4fdd3171d2874c4f9d57830b245ae056",
      "e4ef8d2fd8784210b24e2bc5a280f294",
      "ddb255dc1af14803b84ebdb21633241d",
      "98aa56f933cc4739b2dacb6b4386e700",
      "240eb66d076343c58446f05fbb00b230",
      "82ce13e1fc6e4a899296a3461db691c3",
      "9203c3f1a9d1436facac5cac624f2224",
      "f4d18d43e0204e07ae36eb33e32ce4b0",
      "b83ae9708a8d40649768b608334d1594",
      "7fe42288ece743859c45478f47bc8534",
      "b11e14c13cd6486eb7a96b412d5b7355",
      "d0a80645d81d4e178514b678061ea4e9",
      "a77f273525394dfea0e25752d1b67c09",
      "4d3e42b30ebd4a9fa1703337b1b35c9d",
      "818dddff092648c9b5b108ebb273bec6",
      "b674837aad4c49a78bf8386c43c74f92",
      "415b88f037e9483e967b02d1f0833914",
      "d1623cca8f3141359a385b3b6af138ce",
      "f0a3db3a09004db2906ede5a70c0598c",
      "9d27c0f2e1694e6fa9c430fa4b57d6b8",
      "2933e7f26f7a4cceb389fbb593a4ff9e",
      "747931c839e74bfe979d227a4762e4ed",
      "1afddb0064d242b4abf4df62328f1c64",
      "89a9abc76d394279bfca9e852bc89da6",
      "47bd392739c7475e91b059d648fc7d4e",
      "7942a47f3d884882a40006f0163ceae3",
      "bca9bac5bef7446c9f78909906ad10c9"
     ]
    },
    "id": "PaqjeQ1xzQg8",
    "outputId": "8f737718-c4bb-4bce-af55-bba8d6d07f68"
   },
   "outputs": [
    {
     "name": "stderr",
     "output_type": "stream",
     "text": [
      "WARNING:py.warnings:/usr/local/lib/python3.11/dist-packages/moviepy/video/io/sliders.py:61: SyntaxWarning: \"is\" with a literal. Did you mean \"==\"?\n",
      "  if event.key is 'enter':\n",
      "\n",
      "WARNING:py.warnings:/usr/local/lib/python3.11/dist-packages/huggingface_hub/utils/_auth.py:94: UserWarning: \n",
      "The secret `HF_TOKEN` does not exist in your Colab secrets.\n",
      "To authenticate with the Hugging Face Hub, create a token in your settings tab (https://huggingface.co/settings/tokens), set it as secret in your Google Colab and restart your session.\n",
      "You will be able to reuse this secret in all of your notebooks.\n",
      "Please note that authentication is recommended but still optional to access public models or datasets.\n",
      "  warnings.warn(\n",
      "\n"
     ]
    },
    {
     "data": {
      "application/vnd.jupyter.widget-view+json": {
       "model_id": "5d011a521f7d4ad3bbc3917fd6a7a6d9",
       "version_major": 2,
       "version_minor": 0
      },
      "text/plain": [
       "tokenizer_config.json:   0%|          | 0.00/141k [00:00<?, ?B/s]"
      ]
     },
     "metadata": {},
     "output_type": "display_data"
    },
    {
     "data": {
      "application/vnd.jupyter.widget-view+json": {
       "model_id": "d68423b79604484b837ac5f1d415761a",
       "version_major": 2,
       "version_minor": 0
      },
      "text/plain": [
       "tokenizer.model:   0%|          | 0.00/587k [00:00<?, ?B/s]"
      ]
     },
     "metadata": {},
     "output_type": "display_data"
    },
    {
     "data": {
      "application/vnd.jupyter.widget-view+json": {
       "model_id": "83a683b9299d4c1fadc33c82c079294e",
       "version_major": 2,
       "version_minor": 0
      },
      "text/plain": [
       "tokenizer.json:   0%|          | 0.00/1.96M [00:00<?, ?B/s]"
      ]
     },
     "metadata": {},
     "output_type": "display_data"
    },
    {
     "data": {
      "application/vnd.jupyter.widget-view+json": {
       "model_id": "5f2f5c151e334ad49710b23ae4892365",
       "version_major": 2,
       "version_minor": 0
      },
      "text/plain": [
       "special_tokens_map.json:   0%|          | 0.00/414 [00:00<?, ?B/s]"
      ]
     },
     "metadata": {},
     "output_type": "display_data"
    },
    {
     "data": {
      "application/vnd.jupyter.widget-view+json": {
       "model_id": "ab2715813c7646559f67d85e6081eb48",
       "version_major": 2,
       "version_minor": 0
      },
      "text/plain": [
       "config.json:   0%|          | 0.00/601 [00:00<?, ?B/s]"
      ]
     },
     "metadata": {},
     "output_type": "display_data"
    },
    {
     "data": {
      "application/vnd.jupyter.widget-view+json": {
       "model_id": "8a1acccb8b9e432185239dcb40990f58",
       "version_major": 2,
       "version_minor": 0
      },
      "text/plain": [
       "model.safetensors.index.json:   0%|          | 0.00/23.9k [00:00<?, ?B/s]"
      ]
     },
     "metadata": {},
     "output_type": "display_data"
    },
    {
     "data": {
      "application/vnd.jupyter.widget-view+json": {
       "model_id": "68496d33aa594151ab608237f458a5b4",
       "version_major": 2,
       "version_minor": 0
      },
      "text/plain": [
       "Fetching 3 files:   0%|          | 0/3 [00:00<?, ?it/s]"
      ]
     },
     "metadata": {},
     "output_type": "display_data"
    },
    {
     "data": {
      "application/vnd.jupyter.widget-view+json": {
       "model_id": "a3eacfd11ba748cbbcd0dfa0f0ac259b",
       "version_major": 2,
       "version_minor": 0
      },
      "text/plain": [
       "model-00002-of-00003.safetensors:   0%|          | 0.00/5.00G [00:00<?, ?B/s]"
      ]
     },
     "metadata": {},
     "output_type": "display_data"
    },
    {
     "data": {
      "application/vnd.jupyter.widget-view+json": {
       "model_id": "f4208b98e1ad4dcc966ba947cc46360b",
       "version_major": 2,
       "version_minor": 0
      },
      "text/plain": [
       "model-00003-of-00003.safetensors:   0%|          | 0.00/4.55G [00:00<?, ?B/s]"
      ]
     },
     "metadata": {},
     "output_type": "display_data"
    },
    {
     "data": {
      "application/vnd.jupyter.widget-view+json": {
       "model_id": "d6b0139a04dc4fd49efcba86ff6d2bb6",
       "version_major": 2,
       "version_minor": 0
      },
      "text/plain": [
       "model-00001-of-00003.safetensors:   0%|          | 0.00/4.95G [00:00<?, ?B/s]"
      ]
     },
     "metadata": {},
     "output_type": "display_data"
    },
    {
     "data": {
      "application/vnd.jupyter.widget-view+json": {
       "model_id": "d8b9883754d14c22ac9266b067c717ac",
       "version_major": 2,
       "version_minor": 0
      },
      "text/plain": [
       "Loading checkpoint shards:   0%|          | 0/3 [00:00<?, ?it/s]"
      ]
     },
     "metadata": {},
     "output_type": "display_data"
    },
    {
     "data": {
      "application/vnd.jupyter.widget-view+json": {
       "model_id": "b1bc4afd27ad404198434929ef445be1",
       "version_major": 2,
       "version_minor": 0
      },
      "text/plain": [
       "generation_config.json:   0%|          | 0.00/116 [00:00<?, ?B/s]"
      ]
     },
     "metadata": {},
     "output_type": "display_data"
    },
    {
     "data": {
      "application/vnd.jupyter.widget-view+json": {
       "model_id": "47e4a8520c664efa82cfee0f3f45e481",
       "version_major": 2,
       "version_minor": 0
      },
      "text/plain": [
       "model_index.json:   0%|          | 0.00/706 [00:00<?, ?B/s]"
      ]
     },
     "metadata": {},
     "output_type": "display_data"
    },
    {
     "data": {
      "application/vnd.jupyter.widget-view+json": {
       "model_id": "0f9afc040ff54d74926fb3141a939986",
       "version_major": 2,
       "version_minor": 0
      },
      "text/plain": [
       "Fetching 26 files:   0%|          | 0/26 [00:00<?, ?it/s]"
      ]
     },
     "metadata": {},
     "output_type": "display_data"
    },
    {
     "data": {
      "application/vnd.jupyter.widget-view+json": {
       "model_id": "94662ff5a3044267be87327174c51a33",
       "version_major": 2,
       "version_minor": 0
      },
      "text/plain": [
       "model.safetensors:   0%|          | 0.00/1.39G [00:00<?, ?B/s]"
      ]
     },
     "metadata": {},
     "output_type": "display_data"
    },
    {
     "data": {
      "application/vnd.jupyter.widget-view+json": {
       "model_id": "5403f935bf204f42b40579ff338b9677",
       "version_major": 2,
       "version_minor": 0
      },
      "text/plain": [
       "model.safetensors:   0%|          | 0.00/247M [00:00<?, ?B/s]"
      ]
     },
     "metadata": {},
     "output_type": "display_data"
    },
    {
     "data": {
      "application/vnd.jupyter.widget-view+json": {
       "model_id": "1b369cd5e0ff44a3ba8a0c5498b92166",
       "version_major": 2,
       "version_minor": 0
      },
      "text/plain": [
       "model-00002-of-00002.safetensors:   0%|          | 0.00/4.53G [00:00<?, ?B/s]"
      ]
     },
     "metadata": {},
     "output_type": "display_data"
    },
    {
     "data": {
      "application/vnd.jupyter.widget-view+json": {
       "model_id": "f39afc02ffdd4492840a46b37835aaaf",
       "version_major": 2,
       "version_minor": 0
      },
      "text/plain": [
       "model-00001-of-00002.safetensors:   0%|          | 0.00/4.99G [00:00<?, ?B/s]"
      ]
     },
     "metadata": {},
     "output_type": "display_data"
    },
    {
     "data": {
      "application/vnd.jupyter.widget-view+json": {
       "model_id": "62bde132d3204ae6a19319bad5530459",
       "version_major": 2,
       "version_minor": 0
      },
      "text/plain": [
       "scheduler_config.json:   0%|          | 0.00/141 [00:00<?, ?B/s]"
      ]
     },
     "metadata": {},
     "output_type": "display_data"
    },
    {
     "data": {
      "application/vnd.jupyter.widget-view+json": {
       "model_id": "1cdc6ae7563b4220afac6f70d2ecd6f1",
       "version_major": 2,
       "version_minor": 0
      },
      "text/plain": [
       "config.json:   0%|          | 0.00/570 [00:00<?, ?B/s]"
      ]
     },
     "metadata": {},
     "output_type": "display_data"
    },
    {
     "data": {
      "application/vnd.jupyter.widget-view+json": {
       "model_id": "cdde87dd593146c5b08fd70b9d8dcdb7",
       "version_major": 2,
       "version_minor": 0
      },
      "text/plain": [
       "config.json:   0%|          | 0.00/740 [00:00<?, ?B/s]"
      ]
     },
     "metadata": {},
     "output_type": "display_data"
    },
    {
     "data": {
      "application/vnd.jupyter.widget-view+json": {
       "model_id": "7d8f2ce9d8a44165bae2b101815c1663",
       "version_major": 2,
       "version_minor": 0
      },
      "text/plain": [
       "config.json:   0%|          | 0.00/574 [00:00<?, ?B/s]"
      ]
     },
     "metadata": {},
     "output_type": "display_data"
    },
    {
     "data": {
      "application/vnd.jupyter.widget-view+json": {
       "model_id": "73e178530ebf4115aefd360220bc287d",
       "version_major": 2,
       "version_minor": 0
      },
      "text/plain": [
       "merges.txt:   0%|          | 0.00/525k [00:00<?, ?B/s]"
      ]
     },
     "metadata": {},
     "output_type": "display_data"
    },
    {
     "data": {
      "application/vnd.jupyter.widget-view+json": {
       "model_id": "e47aa76b95f342d3bff087b2f640f466",
       "version_major": 2,
       "version_minor": 0
      },
      "text/plain": [
       "special_tokens_map.json:   0%|          | 0.00/588 [00:00<?, ?B/s]"
      ]
     },
     "metadata": {},
     "output_type": "display_data"
    },
    {
     "data": {
      "application/vnd.jupyter.widget-view+json": {
       "model_id": "3fd6ea578c0d4de49f65c99ab6e3364d",
       "version_major": 2,
       "version_minor": 0
      },
      "text/plain": [
       "tokenizer_config.json:   0%|          | 0.00/705 [00:00<?, ?B/s]"
      ]
     },
     "metadata": {},
     "output_type": "display_data"
    },
    {
     "data": {
      "application/vnd.jupyter.widget-view+json": {
       "model_id": "36cba5b37a7d4ba599c0726297b54628",
       "version_major": 2,
       "version_minor": 0
      },
      "text/plain": [
       "model.safetensors.index.json:   0%|          | 0.00/19.9k [00:00<?, ?B/s]"
      ]
     },
     "metadata": {},
     "output_type": "display_data"
    },
    {
     "data": {
      "application/vnd.jupyter.widget-view+json": {
       "model_id": "2bc61cc236224e70b12431607576d5a3",
       "version_major": 2,
       "version_minor": 0
      },
      "text/plain": [
       "vocab.json:   0%|          | 0.00/1.06M [00:00<?, ?B/s]"
      ]
     },
     "metadata": {},
     "output_type": "display_data"
    },
    {
     "data": {
      "application/vnd.jupyter.widget-view+json": {
       "model_id": "a85a34deb275416fa0ba8ecf85263ead",
       "version_major": 2,
       "version_minor": 0
      },
      "text/plain": [
       "special_tokens_map.json:   0%|          | 0.00/576 [00:00<?, ?B/s]"
      ]
     },
     "metadata": {},
     "output_type": "display_data"
    },
    {
     "data": {
      "application/vnd.jupyter.widget-view+json": {
       "model_id": "cb669308a844427f96d1c8709417c510",
       "version_major": 2,
       "version_minor": 0
      },
      "text/plain": [
       "tokenizer_config.json:   0%|          | 0.00/856 [00:00<?, ?B/s]"
      ]
     },
     "metadata": {},
     "output_type": "display_data"
    },
    {
     "data": {
      "application/vnd.jupyter.widget-view+json": {
       "model_id": "e2c162233dd245edabcc889cfefe91f2",
       "version_major": 2,
       "version_minor": 0
      },
      "text/plain": [
       "spiece.model:   0%|          | 0.00/792k [00:00<?, ?B/s]"
      ]
     },
     "metadata": {},
     "output_type": "display_data"
    },
    {
     "data": {
      "application/vnd.jupyter.widget-view+json": {
       "model_id": "73cb0c2985694470ba1714ea17736ac8",
       "version_major": 2,
       "version_minor": 0
      },
      "text/plain": [
       "special_tokens_map.json:   0%|          | 0.00/2.54k [00:00<?, ?B/s]"
      ]
     },
     "metadata": {},
     "output_type": "display_data"
    },
    {
     "data": {
      "application/vnd.jupyter.widget-view+json": {
       "model_id": "c1e8303f40b747fbbbbd801d6b7d4931",
       "version_major": 2,
       "version_minor": 0
      },
      "text/plain": [
       "tokenizer_config.json:   0%|          | 0.00/20.6k [00:00<?, ?B/s]"
      ]
     },
     "metadata": {},
     "output_type": "display_data"
    },
    {
     "data": {
      "application/vnd.jupyter.widget-view+json": {
       "model_id": "9be0d12117b1416c9f0594c331922840",
       "version_major": 2,
       "version_minor": 0
      },
      "text/plain": [
       "diffusion_pytorch_model.safetensors:   0%|          | 0.00/4.94G [00:00<?, ?B/s]"
      ]
     },
     "metadata": {},
     "output_type": "display_data"
    },
    {
     "data": {
      "application/vnd.jupyter.widget-view+json": {
       "model_id": "1626b688dfcc4460962d649f758a76dc",
       "version_major": 2,
       "version_minor": 0
      },
      "text/plain": [
       "config.json:   0%|          | 0.00/524 [00:00<?, ?B/s]"
      ]
     },
     "metadata": {},
     "output_type": "display_data"
    },
    {
     "data": {
      "application/vnd.jupyter.widget-view+json": {
       "model_id": "98b4cbf87e5842a590c4b348e35e7d5f",
       "version_major": 2,
       "version_minor": 0
      },
      "text/plain": [
       "diffusion_pytorch_model.safetensors:   0%|          | 0.00/168M [00:00<?, ?B/s]"
      ]
     },
     "metadata": {},
     "output_type": "display_data"
    },
    {
     "data": {
      "application/vnd.jupyter.widget-view+json": {
       "model_id": "e3d9a39db5a14b94a28a224bd25e0a86",
       "version_major": 2,
       "version_minor": 0
      },
      "text/plain": [
       "tokenizer.json:   0%|          | 0.00/2.42M [00:00<?, ?B/s]"
      ]
     },
     "metadata": {},
     "output_type": "display_data"
    },
    {
     "data": {
      "application/vnd.jupyter.widget-view+json": {
       "model_id": "633a864d56bf408e9df58ecc0bc496ee",
       "version_major": 2,
       "version_minor": 0
      },
      "text/plain": [
       "config.json:   0%|          | 0.00/809 [00:00<?, ?B/s]"
      ]
     },
     "metadata": {},
     "output_type": "display_data"
    },
    {
     "data": {
      "application/vnd.jupyter.widget-view+json": {
       "model_id": "82ce13e1fc6e4a899296a3461db691c3",
       "version_major": 2,
       "version_minor": 0
      },
      "text/plain": [
       "Loading pipeline components...:   0%|          | 0/9 [00:00<?, ?it/s]"
      ]
     },
     "metadata": {},
     "output_type": "display_data"
    },
    {
     "name": "stderr",
     "output_type": "stream",
     "text": [
      "You set `add_prefix_space`. The tokenizer needs to be converted from the slow tokenizers\n"
     ]
    },
    {
     "data": {
      "application/vnd.jupyter.widget-view+json": {
       "model_id": "415b88f037e9483e967b02d1f0833914",
       "version_major": 2,
       "version_minor": 0
      },
      "text/plain": [
       "Loading checkpoint shards:   0%|          | 0/2 [00:00<?, ?it/s]"
      ]
     },
     "metadata": {},
     "output_type": "display_data"
    },
    {
     "name": "stdout",
     "output_type": "stream",
     "text": [
      "Colab notebook detected. To show errors in colab notebook, set debug=True in launch()\n",
      "* Running on public URL: https://68d7f989301c9a8efb.gradio.live\n",
      "\n",
      "This share link expires in 72 hours. For free permanent hosting and GPU upgrades, run `gradio deploy` from the terminal in the working directory to deploy to Hugging Face Spaces (https://huggingface.co/spaces)\n"
     ]
    },
    {
     "data": {
      "text/html": [
       "<div><iframe src=\"https://68d7f989301c9a8efb.gradio.live\" width=\"100%\" height=\"500\" allow=\"autoplay; camera; microphone; clipboard-read; clipboard-write;\" frameborder=\"0\" allowfullscreen></iframe></div>"
      ],
      "text/plain": [
       "<IPython.core.display.HTML object>"
      ]
     },
     "metadata": {},
     "output_type": "display_data"
    },
    {
     "data": {
      "text/plain": []
     },
     "execution_count": 4,
     "metadata": {},
     "output_type": "execute_result"
    }
   ],
   "source": [
    "import gradio as gr\n",
    "import torch\n",
    "import tempfile\n",
    "import moviepy.editor as mpy\n",
    "import numpy as np\n",
    "from diffusers import StableDiffusion3Pipeline\n",
    "from transformers import AutoTokenizer, AutoModelForCausalLM\n",
    "from PIL import Image\n",
    "import pytesseract  # For OCR text extraction\n",
    "\n",
    "# -------------------------------\n",
    "# Load the Instruction-Tuned Language Model\n",
    "# -------------------------------\n",
    "# Using Mistral-7B-Instruct-v0.3 for refined answer generation.\n",
    "instruct_tokenizer = AutoTokenizer.from_pretrained(\"mistralai/Mistral-7B-Instruct-v0.3\")\n",
    "instruct_model = AutoModelForCausalLM.from_pretrained(\n",
    "    \"mistralai/Mistral-7B-Instruct-v0.3\",\n",
    "    torch_dtype=torch.float16\n",
    ").to(\"cuda\")\n",
    "\n",
    "# -------------------------------\n",
    "# Load the Image Generation Model using StableDiffusion3Pipeline\n",
    "# -------------------------------\n",
    "# Using \"stabilityai/stable-diffusion-3.5-medium\" for image generation.\n",
    "sd_pipeline = StableDiffusion3Pipeline.from_pretrained(\n",
    "    \"stabilityai/stable-diffusion-3.5-medium\",\n",
    "    torch_dtype=torch.bfloat16\n",
    ")\n",
    "sd_pipeline = sd_pipeline.to(\"cuda\")\n",
    "\n",
    "def answer_question(image, question):\n",
    "    try:\n",
    "        # Ensure the image is in RGB format; if none is provided, create a default white image.\n",
    "        if image is None:\n",
    "            image = Image.new(\"RGB\", (224, 224), (255, 255, 255))\n",
    "            extracted_text = \"\"\n",
    "            combined_prompt = f\"Question: {question}\\nAnswer:\"  # No image context\n",
    "        else:\n",
    "            image = image.convert(\"RGB\")\n",
    "            # -------------------------------\n",
    "            # Stage 1: OCR Text Extraction\n",
    "            # -------------------------------\n",
    "            extracted_text = pytesseract.image_to_string(image)\n",
    "            if not extracted_text.strip():\n",
    "                extracted_text = \"No text detected in the image.\"\n",
    "            # -------------------------------\n",
    "            # Stage 2: Answer Generation with Image Context\n",
    "            # -------------------------------\n",
    "            combined_prompt = (\n",
    "                f\"Image context: {extracted_text}\\n\"\n",
    "                f\"Question: {question}\\n\"\n",
    "                f\"Answer concisely in context of the image:\"\n",
    "            )\n",
    "\n",
    "        # Tokenize the prompt and move tensors to GPU.\n",
    "        inputs = instruct_tokenizer(combined_prompt, return_tensors=\"pt\").to(\"cuda\")\n",
    "        prompt_length = inputs[\"input_ids\"].shape[1]\n",
    "        # Increase max_new_tokens to 1000 to generate longer answers.\n",
    "        outputs = instruct_model.generate(**inputs, max_new_tokens=1000)\n",
    "        generated_tokens = outputs[0][prompt_length:]\n",
    "        answer_text = instruct_tokenizer.decode(generated_tokens, skip_special_tokens=True).strip()\n",
    "\n",
    "        # -------------------------------\n",
    "        # Stage 3: Refined Image Generation (Illustration)\n",
    "        # -------------------------------\n",
    "        # Build a refined prompt that instructs the model to create an illustration that accurately explains the answer.\n",
    "        refined_prompt = (\n",
    "            f\"Create a highly detailed, educational illustration that explains the following answer: '{answer_text}'. \"\n",
    "            f\"Focus on key elements and context from the answer to make the image informative and visually engaging.\"\n",
    "        )\n",
    "        gen_image = sd_pipeline(\n",
    "            prompt=refined_prompt,\n",
    "            height=768,\n",
    "            width=768,\n",
    "            num_inference_steps=70,\n",
    "            guidance_scale=7.5\n",
    "        ).images[0]\n",
    "\n",
    "        # -------------------------------\n",
    "        # Stage 4: Video Generation\n",
    "        # -------------------------------\n",
    "        # Generate three unique frames using different random seeds.\n",
    "        frames = []\n",
    "        seeds = [42, 123, 987]\n",
    "        for seed in seeds:\n",
    "            generator = torch.Generator(\"cuda\").manual_seed(seed)\n",
    "            result = sd_pipeline(\n",
    "                prompt=refined_prompt,\n",
    "                height=768,\n",
    "                width=768,\n",
    "                num_inference_steps=70,\n",
    "                guidance_scale=7.5,\n",
    "                generator=generator\n",
    "            )\n",
    "            frames.append(np.array(result.images[0]))\n",
    "        video_path = tempfile.mktemp(suffix=\".mp4\")\n",
    "        clip = mpy.ImageSequenceClip(frames, fps=1)\n",
    "        clip.write_videofile(video_path, codec=\"libx264\", audio=False)\n",
    "\n",
    "        return answer_text, gen_image, video_path\n",
    "\n",
    "    except Exception as e:\n",
    "        return f\"Error: {str(e)}\", None, None\n",
    "\n",
    "# -------------------------------\n",
    "# Build the Gradio Interface\n",
    "# -------------------------------\n",
    "interface = gr.Interface(\n",
    "    fn=answer_question,\n",
    "    inputs=[\n",
    "        gr.Image(label=\"Upload Image (optional)\", type=\"pil\"),\n",
    "        gr.Textbox(label=\"Question\")\n",
    "    ],\n",
    "    outputs=[\n",
    "        gr.Textbox(label=\"Answer\"),\n",
    "        gr.Image(label=\"Generated Illustration\"),\n",
    "        gr.Video(label=\"Generated Video\")\n",
    "    ],\n",
    "    title=\"Virtual Tutor: Detailed Answer & Illustration\"\n",
    ")\n",
    "\n",
    "interface.launch(share=True)\n"
   ]
  }
 ],
 "metadata": {
  "accelerator": "GPU",
  "colab": {
   "gpuType": "A100",
   "provenance": []
  },
  "kernelspec": {
   "display_name": "Python 3",
   "name": "python3"
  },
  "language_info": {
   "name": "python"
  }
 },
 "nbformat": 4,
 "nbformat_minor": 0
}
